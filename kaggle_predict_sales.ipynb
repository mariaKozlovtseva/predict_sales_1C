{
  "nbformat": 4,
  "nbformat_minor": 0,
  "metadata": {
    "colab": {
      "name": "kaggle_predict_sales.ipynb",
      "provenance": [],
      "collapsed_sections": [
        "AJ68E73sYdi5",
        "DedHpCEVZfby",
        "X13gyjamVCaJ",
        "b2B5-dSMYdRC",
        "N7cEqH7h64IH"
      ]
    },
    "kernelspec": {
      "name": "python3",
      "display_name": "Python 3"
    },
    "accelerator": "GPU"
  },
  "cells": [
    {
      "cell_type": "markdown",
      "metadata": {
        "id": "J-2yya2Db66R"
      },
      "source": [
        "The score on kaggle is 0.92437 top 32% (for comparison: my the 1st one in Spring was 1.42). For me that was a good experience, I tried to improve model but the improvements were insignificant. Visualisation is made by plotly. Here I have two models with tuned params (in the 1st one item count is clipped to range [0,22] and in the 2nd I tried (as many notebooks in kaggle) [0,20]), the difference of their results about 1% in favour of model 2."
      ]
    },
    {
      "cell_type": "markdown",
      "metadata": {
        "id": "AJ68E73sYdi5"
      },
      "source": [
        "## Load libraries and datasets"
      ]
    },
    {
      "cell_type": "code",
      "metadata": {
        "id": "GlGuPBt7XFtj",
        "colab": {
          "base_uri": "https://localhost:8080/"
        },
        "outputId": "b71873b7-21ff-4754-e460-b41d6e806706"
      },
      "source": [
        "from google.colab import drive\n",
        "drive.mount('/content/drive')"
      ],
      "execution_count": 1,
      "outputs": [
        {
          "output_type": "stream",
          "text": [
            "Mounted at /content/drive\n"
          ],
          "name": "stdout"
        }
      ]
    },
    {
      "cell_type": "code",
      "metadata": {
        "id": "DLUtLzX5X353",
        "colab": {
          "base_uri": "https://localhost:8080/"
        },
        "outputId": "e14a5e31-0e04-4612-f777-659b75e69315"
      },
      "source": [
        "%cd '/content/drive/My Drive/project'"
      ],
      "execution_count": 1,
      "outputs": [
        {
          "output_type": "stream",
          "text": [
            "/content/drive/My Drive/project\n"
          ],
          "name": "stdout"
        }
      ]
    },
    {
      "cell_type": "code",
      "metadata": {
        "id": "ohRDk_yBXnu5"
      },
      "source": [
        "import numpy as np\n",
        "import pandas as pd\n",
        "import matplotlib.pyplot as plt\n",
        "import plotly.express as px\n",
        "import seaborn as sns\n",
        "from xgboost import XGBRegressor, plot_importance\n",
        "from sklearn.model_selection import GridSearchCV\n",
        "\n",
        "from itertools import product\n",
        "from tqdm import tqdm\n",
        "import gc\n",
        "\n",
        "from sklearn.preprocessing import LabelEncoder"
      ],
      "execution_count": 2,
      "outputs": []
    },
    {
      "cell_type": "code",
      "metadata": {
        "id": "x0SRsU53X23v"
      },
      "source": [
        "item_cat = pd.read_csv('item_categories.csv')\n",
        "items = pd.read_csv('items.csv')\n",
        "shops = pd.read_csv('shops.csv')\n",
        "test_df = pd.read_csv('test.csv')\n",
        "sales_df = pd.read_csv('sales_train.csv')"
      ],
      "execution_count": 111,
      "outputs": []
    },
    {
      "cell_type": "markdown",
      "metadata": {
        "id": "DedHpCEVZfby"
      },
      "source": [
        "## EDA"
      ]
    },
    {
      "cell_type": "code",
      "metadata": {
        "colab": {
          "base_uri": "https://localhost:8080/",
          "height": 141
        },
        "id": "B15ySlwnYbx0",
        "outputId": "234344af-09bd-407b-d800-0b200037df59"
      },
      "source": [
        "item_cat.head(3)"
      ],
      "execution_count": null,
      "outputs": [
        {
          "output_type": "execute_result",
          "data": {
            "text/html": [
              "<div>\n",
              "<style scoped>\n",
              "    .dataframe tbody tr th:only-of-type {\n",
              "        vertical-align: middle;\n",
              "    }\n",
              "\n",
              "    .dataframe tbody tr th {\n",
              "        vertical-align: top;\n",
              "    }\n",
              "\n",
              "    .dataframe thead th {\n",
              "        text-align: right;\n",
              "    }\n",
              "</style>\n",
              "<table border=\"1\" class=\"dataframe\">\n",
              "  <thead>\n",
              "    <tr style=\"text-align: right;\">\n",
              "      <th></th>\n",
              "      <th>item_category_name</th>\n",
              "      <th>item_category_id</th>\n",
              "    </tr>\n",
              "  </thead>\n",
              "  <tbody>\n",
              "    <tr>\n",
              "      <th>0</th>\n",
              "      <td>PC - Гарнитуры/Наушники</td>\n",
              "      <td>0</td>\n",
              "    </tr>\n",
              "    <tr>\n",
              "      <th>1</th>\n",
              "      <td>Аксессуары - PS2</td>\n",
              "      <td>1</td>\n",
              "    </tr>\n",
              "    <tr>\n",
              "      <th>2</th>\n",
              "      <td>Аксессуары - PS3</td>\n",
              "      <td>2</td>\n",
              "    </tr>\n",
              "  </tbody>\n",
              "</table>\n",
              "</div>"
            ],
            "text/plain": [
              "        item_category_name  item_category_id\n",
              "0  PC - Гарнитуры/Наушники                 0\n",
              "1         Аксессуары - PS2                 1\n",
              "2         Аксессуары - PS3                 2"
            ]
          },
          "metadata": {
            "tags": []
          },
          "execution_count": 5
        }
      ]
    },
    {
      "cell_type": "code",
      "metadata": {
        "colab": {
          "base_uri": "https://localhost:8080/",
          "height": 141
        },
        "id": "3EbrG2f1YjSU",
        "outputId": "53f40c53-6e43-4ac1-8ea7-0964748f0af0"
      },
      "source": [
        "items.head(3)"
      ],
      "execution_count": null,
      "outputs": [
        {
          "output_type": "execute_result",
          "data": {
            "text/html": [
              "<div>\n",
              "<style scoped>\n",
              "    .dataframe tbody tr th:only-of-type {\n",
              "        vertical-align: middle;\n",
              "    }\n",
              "\n",
              "    .dataframe tbody tr th {\n",
              "        vertical-align: top;\n",
              "    }\n",
              "\n",
              "    .dataframe thead th {\n",
              "        text-align: right;\n",
              "    }\n",
              "</style>\n",
              "<table border=\"1\" class=\"dataframe\">\n",
              "  <thead>\n",
              "    <tr style=\"text-align: right;\">\n",
              "      <th></th>\n",
              "      <th>item_name</th>\n",
              "      <th>item_id</th>\n",
              "      <th>item_category_id</th>\n",
              "    </tr>\n",
              "  </thead>\n",
              "  <tbody>\n",
              "    <tr>\n",
              "      <th>0</th>\n",
              "      <td>! ВО ВЛАСТИ НАВАЖДЕНИЯ (ПЛАСТ.)         D</td>\n",
              "      <td>0</td>\n",
              "      <td>40</td>\n",
              "    </tr>\n",
              "    <tr>\n",
              "      <th>1</th>\n",
              "      <td>!ABBYY FineReader 12 Professional Edition Full...</td>\n",
              "      <td>1</td>\n",
              "      <td>76</td>\n",
              "    </tr>\n",
              "    <tr>\n",
              "      <th>2</th>\n",
              "      <td>***В ЛУЧАХ СЛАВЫ   (UNV)                    D</td>\n",
              "      <td>2</td>\n",
              "      <td>40</td>\n",
              "    </tr>\n",
              "  </tbody>\n",
              "</table>\n",
              "</div>"
            ],
            "text/plain": [
              "                                           item_name  item_id  item_category_id\n",
              "0          ! ВО ВЛАСТИ НАВАЖДЕНИЯ (ПЛАСТ.)         D        0                40\n",
              "1  !ABBYY FineReader 12 Professional Edition Full...        1                76\n",
              "2      ***В ЛУЧАХ СЛАВЫ   (UNV)                    D        2                40"
            ]
          },
          "metadata": {
            "tags": []
          },
          "execution_count": 6
        }
      ]
    },
    {
      "cell_type": "code",
      "metadata": {
        "colab": {
          "base_uri": "https://localhost:8080/",
          "height": 141
        },
        "id": "YQwvrqSfYleb",
        "outputId": "9476a3d7-7ed3-4c69-8b67-8ad391f6bf36"
      },
      "source": [
        "shops.head(3)"
      ],
      "execution_count": null,
      "outputs": [
        {
          "output_type": "execute_result",
          "data": {
            "text/html": [
              "<div>\n",
              "<style scoped>\n",
              "    .dataframe tbody tr th:only-of-type {\n",
              "        vertical-align: middle;\n",
              "    }\n",
              "\n",
              "    .dataframe tbody tr th {\n",
              "        vertical-align: top;\n",
              "    }\n",
              "\n",
              "    .dataframe thead th {\n",
              "        text-align: right;\n",
              "    }\n",
              "</style>\n",
              "<table border=\"1\" class=\"dataframe\">\n",
              "  <thead>\n",
              "    <tr style=\"text-align: right;\">\n",
              "      <th></th>\n",
              "      <th>shop_name</th>\n",
              "      <th>shop_id</th>\n",
              "    </tr>\n",
              "  </thead>\n",
              "  <tbody>\n",
              "    <tr>\n",
              "      <th>0</th>\n",
              "      <td>!Якутск Орджоникидзе, 56 фран</td>\n",
              "      <td>0</td>\n",
              "    </tr>\n",
              "    <tr>\n",
              "      <th>1</th>\n",
              "      <td>!Якутск ТЦ \"Центральный\" фран</td>\n",
              "      <td>1</td>\n",
              "    </tr>\n",
              "    <tr>\n",
              "      <th>2</th>\n",
              "      <td>Адыгея ТЦ \"Мега\"</td>\n",
              "      <td>2</td>\n",
              "    </tr>\n",
              "  </tbody>\n",
              "</table>\n",
              "</div>"
            ],
            "text/plain": [
              "                       shop_name  shop_id\n",
              "0  !Якутск Орджоникидзе, 56 фран        0\n",
              "1  !Якутск ТЦ \"Центральный\" фран        1\n",
              "2               Адыгея ТЦ \"Мега\"        2"
            ]
          },
          "metadata": {
            "tags": []
          },
          "execution_count": 7
        }
      ]
    },
    {
      "cell_type": "code",
      "metadata": {
        "colab": {
          "base_uri": "https://localhost:8080/",
          "height": 141
        },
        "id": "4pIWHlHHYrUk",
        "outputId": "416ea7ec-f72d-46d7-c3ee-85f32cee353c"
      },
      "source": [
        "sales_df.head(3)"
      ],
      "execution_count": null,
      "outputs": [
        {
          "output_type": "execute_result",
          "data": {
            "text/html": [
              "<div>\n",
              "<style scoped>\n",
              "    .dataframe tbody tr th:only-of-type {\n",
              "        vertical-align: middle;\n",
              "    }\n",
              "\n",
              "    .dataframe tbody tr th {\n",
              "        vertical-align: top;\n",
              "    }\n",
              "\n",
              "    .dataframe thead th {\n",
              "        text-align: right;\n",
              "    }\n",
              "</style>\n",
              "<table border=\"1\" class=\"dataframe\">\n",
              "  <thead>\n",
              "    <tr style=\"text-align: right;\">\n",
              "      <th></th>\n",
              "      <th>date</th>\n",
              "      <th>date_block_num</th>\n",
              "      <th>shop_id</th>\n",
              "      <th>item_id</th>\n",
              "      <th>item_price</th>\n",
              "      <th>item_cnt_day</th>\n",
              "    </tr>\n",
              "  </thead>\n",
              "  <tbody>\n",
              "    <tr>\n",
              "      <th>0</th>\n",
              "      <td>02.01.2013</td>\n",
              "      <td>0</td>\n",
              "      <td>59</td>\n",
              "      <td>22154</td>\n",
              "      <td>999.0</td>\n",
              "      <td>1.0</td>\n",
              "    </tr>\n",
              "    <tr>\n",
              "      <th>1</th>\n",
              "      <td>03.01.2013</td>\n",
              "      <td>0</td>\n",
              "      <td>25</td>\n",
              "      <td>2552</td>\n",
              "      <td>899.0</td>\n",
              "      <td>1.0</td>\n",
              "    </tr>\n",
              "    <tr>\n",
              "      <th>2</th>\n",
              "      <td>05.01.2013</td>\n",
              "      <td>0</td>\n",
              "      <td>25</td>\n",
              "      <td>2552</td>\n",
              "      <td>899.0</td>\n",
              "      <td>-1.0</td>\n",
              "    </tr>\n",
              "  </tbody>\n",
              "</table>\n",
              "</div>"
            ],
            "text/plain": [
              "         date  date_block_num  shop_id  item_id  item_price  item_cnt_day\n",
              "0  02.01.2013               0       59    22154       999.0           1.0\n",
              "1  03.01.2013               0       25     2552       899.0           1.0\n",
              "2  05.01.2013               0       25     2552       899.0          -1.0"
            ]
          },
          "metadata": {
            "tags": []
          },
          "execution_count": 19
        }
      ]
    },
    {
      "cell_type": "code",
      "metadata": {
        "colab": {
          "base_uri": "https://localhost:8080/",
          "height": 141
        },
        "id": "L98EuddrYtRX",
        "outputId": "244f3d3a-edc8-4c11-8161-6fae7ab0cd69"
      },
      "source": [
        "test_df.head(3) # given shop_id and item_id have to predict monthly sales"
      ],
      "execution_count": null,
      "outputs": [
        {
          "output_type": "execute_result",
          "data": {
            "text/html": [
              "<div>\n",
              "<style scoped>\n",
              "    .dataframe tbody tr th:only-of-type {\n",
              "        vertical-align: middle;\n",
              "    }\n",
              "\n",
              "    .dataframe tbody tr th {\n",
              "        vertical-align: top;\n",
              "    }\n",
              "\n",
              "    .dataframe thead th {\n",
              "        text-align: right;\n",
              "    }\n",
              "</style>\n",
              "<table border=\"1\" class=\"dataframe\">\n",
              "  <thead>\n",
              "    <tr style=\"text-align: right;\">\n",
              "      <th></th>\n",
              "      <th>ID</th>\n",
              "      <th>shop_id</th>\n",
              "      <th>item_id</th>\n",
              "    </tr>\n",
              "  </thead>\n",
              "  <tbody>\n",
              "    <tr>\n",
              "      <th>0</th>\n",
              "      <td>0</td>\n",
              "      <td>5</td>\n",
              "      <td>5037</td>\n",
              "    </tr>\n",
              "    <tr>\n",
              "      <th>1</th>\n",
              "      <td>1</td>\n",
              "      <td>5</td>\n",
              "      <td>5320</td>\n",
              "    </tr>\n",
              "    <tr>\n",
              "      <th>2</th>\n",
              "      <td>2</td>\n",
              "      <td>5</td>\n",
              "      <td>5233</td>\n",
              "    </tr>\n",
              "  </tbody>\n",
              "</table>\n",
              "</div>"
            ],
            "text/plain": [
              "   ID  shop_id  item_id\n",
              "0   0        5     5037\n",
              "1   1        5     5320\n",
              "2   2        5     5233"
            ]
          },
          "metadata": {
            "tags": []
          },
          "execution_count": 18
        }
      ]
    },
    {
      "cell_type": "code",
      "metadata": {
        "colab": {
          "base_uri": "https://localhost:8080/"
        },
        "id": "cVktliynY1ZZ",
        "outputId": "f9f6ea6b-8206-4c01-e582-a0984e40b97b"
      },
      "source": [
        "test_df.isna().sum() # all datasets have no missing values"
      ],
      "execution_count": null,
      "outputs": [
        {
          "output_type": "execute_result",
          "data": {
            "text/plain": [
              "ID         0\n",
              "shop_id    0\n",
              "item_id    0\n",
              "dtype: int64"
            ]
          },
          "metadata": {
            "tags": []
          },
          "execution_count": 17
        }
      ]
    },
    {
      "cell_type": "code",
      "metadata": {
        "colab": {
          "base_uri": "https://localhost:8080/"
        },
        "id": "GWIdLkFnaSCo",
        "outputId": "c22dabc6-d345-4d50-eee6-54b33a5980e9"
      },
      "source": [
        "items.shape, sales_df.shape, shops.shape, item_cat.shape, test_df.shape"
      ],
      "execution_count": null,
      "outputs": [
        {
          "output_type": "execute_result",
          "data": {
            "text/plain": [
              "((22170, 3), (2935849, 6), (60, 2), (84, 2), (214200, 3))"
            ]
          },
          "metadata": {
            "tags": []
          },
          "execution_count": 27
        }
      ]
    },
    {
      "cell_type": "code",
      "metadata": {
        "colab": {
          "base_uri": "https://localhost:8080/"
        },
        "id": "AFQ9n54MZIng",
        "outputId": "f8eb2882-e80d-414d-e9fe-8dfe15b1c077"
      },
      "source": [
        "set(item_cat.item_category_id.unique()) - set(items.item_category_id.unique()) # have the same item_category_ids, we can merge dfs"
      ],
      "execution_count": null,
      "outputs": [
        {
          "output_type": "execute_result",
          "data": {
            "text/plain": [
              "set()"
            ]
          },
          "metadata": {
            "tags": []
          },
          "execution_count": 24
        }
      ]
    },
    {
      "cell_type": "code",
      "metadata": {
        "id": "PZVNVOwdeK7E"
      },
      "source": [
        "items_df = items.merge(item_cat, on='item_category_id')"
      ],
      "execution_count": 62,
      "outputs": []
    },
    {
      "cell_type": "code",
      "metadata": {
        "colab": {
          "base_uri": "https://localhost:8080/"
        },
        "id": "L0SWdWrbc65G",
        "outputId": "de0116bd-1002-494b-dca2-58ec4d99d3a4"
      },
      "source": [
        "len(set(test_df.item_id.unique()) - set(sales_df.item_id.unique())) # 363 unique items has test data but not train"
      ],
      "execution_count": null,
      "outputs": [
        {
          "output_type": "execute_result",
          "data": {
            "text/plain": [
              "363"
            ]
          },
          "metadata": {
            "tags": []
          },
          "execution_count": 48
        }
      ]
    },
    {
      "cell_type": "code",
      "metadata": {
        "colab": {
          "base_uri": "https://localhost:8080/"
        },
        "id": "HeGrpX1SdIZY",
        "outputId": "7ba4b285-4a67-435f-8251-a15d4c1febbc"
      },
      "source": [
        "len(set(sales_df.item_id.unique()) - set(test_df.item_id.unique())) # 17070 unique items has train data but not test"
      ],
      "execution_count": null,
      "outputs": [
        {
          "output_type": "execute_result",
          "data": {
            "text/plain": [
              "17070"
            ]
          },
          "metadata": {
            "tags": []
          },
          "execution_count": 49
        }
      ]
    },
    {
      "cell_type": "code",
      "metadata": {
        "colab": {
          "base_uri": "https://localhost:8080/"
        },
        "id": "4mJ0TCfqeHEg",
        "outputId": "2b809654-542e-41d2-920f-c690556d8c61"
      },
      "source": [
        "len(set(test_df.shop_id.unique()) - set(sales_df.shop_id.unique())) # train data has all shop_id which are in test data"
      ],
      "execution_count": null,
      "outputs": [
        {
          "output_type": "execute_result",
          "data": {
            "text/plain": [
              "0"
            ]
          },
          "metadata": {
            "tags": []
          },
          "execution_count": 55
        }
      ]
    },
    {
      "cell_type": "code",
      "metadata": {
        "colab": {
          "base_uri": "https://localhost:8080/"
        },
        "id": "HZpKGbwcdoze",
        "outputId": "3ea8715e-0654-438d-c001-f12b19479208"
      },
      "source": [
        "len(set(sales_df.shop_id.unique()) - set(test_df.shop_id.unique())) # 18 unique shops has train data but not test"
      ],
      "execution_count": null,
      "outputs": [
        {
          "output_type": "execute_result",
          "data": {
            "text/plain": [
              "18"
            ]
          },
          "metadata": {
            "tags": []
          },
          "execution_count": 54
        }
      ]
    },
    {
      "cell_type": "code",
      "metadata": {
        "id": "57ITMumzZxIb"
      },
      "source": [
        "def make_barplot(df, x, top10=True):\n",
        "  fig = plt.Figure(figsize=(15,10))\n",
        "  if top10:\n",
        "    fig = px.bar(data_frame=df, x=df[x].value_counts()[:10].index, y=df[x].value_counts()[:10], color=df[x].value_counts()[:10].index, height=700)\n",
        "    fig.update_traces(hovertemplate='Category name: %{x}<br>Sales count: %{y}')\n",
        "  else:\n",
        "    fig = px.bar(data_frame=df, x=df[x].value_counts().index, y=df[x].value_counts(), color=df[x].value_counts().index,height=700)\n",
        "  fig.update_layout(title=x, showlegend=False)\n",
        "  return fig"
      ],
      "execution_count": 18,
      "outputs": []
    },
    {
      "cell_type": "code",
      "metadata": {
        "colab": {
          "base_uri": "https://localhost:8080/"
        },
        "id": "AOz6LyJTjaBy",
        "outputId": "2719d951-455d-4dea-ae36-45a6537712bd"
      },
      "source": [
        "item_cat_names = pd.merge(sales_df, items_df, on='item_id', how='left')\n",
        "make_barplot(item_cat_names, 'item_category_name')\n",
        "# the main items are computer games, movie DVDs"
      ],
      "execution_count": null,
      "outputs": [
        {
          "output_type": "display_data",
          "data": {
            "text/html": [
              "<html>\n",
              "<head><meta charset=\"utf-8\" /></head>\n",
              "<body>\n",
              "    <div>\n",
              "            <script src=\"https://cdnjs.cloudflare.com/ajax/libs/mathjax/2.7.5/MathJax.js?config=TeX-AMS-MML_SVG\"></script><script type=\"text/javascript\">if (window.MathJax) {MathJax.Hub.Config({SVG: {font: \"STIX-Web\"}});}</script>\n",
              "                <script type=\"text/javascript\">window.PlotlyConfig = {MathJaxConfig: 'local'};</script>\n",
              "        <script src=\"https://cdn.plot.ly/plotly-latest.min.js\"></script>    \n",
              "            <div id=\"4b3747ca-d407-4f6b-b765-e413799cc6cf\" class=\"plotly-graph-div\" style=\"height:700px; width:100%;\"></div>\n",
              "            <script type=\"text/javascript\">\n",
              "                \n",
              "                    window.PLOTLYENV=window.PLOTLYENV || {};\n",
              "                    \n",
              "                if (document.getElementById(\"4b3747ca-d407-4f6b-b765-e413799cc6cf\")) {\n",
              "                    Plotly.newPlot(\n",
              "                        '4b3747ca-d407-4f6b-b765-e413799cc6cf',\n",
              "                        [{\"alignmentgroup\": \"True\", \"hoverlabel\": {\"namelength\": 0}, \"hovertemplate\": \"Category name: %{x}<br>Sales count: %{y}\", \"legendgroup\": \"color=\\u041a\\u0438\\u043d\\u043e - DVD\", \"marker\": {\"color\": \"#636efa\"}, \"name\": \"color=\\u041a\\u0438\\u043d\\u043e - DVD\", \"offsetgroup\": \"color=\\u041a\\u0438\\u043d\\u043e - DVD\", \"orientation\": \"v\", \"showlegend\": true, \"textposition\": \"auto\", \"type\": \"bar\", \"x\": [\"\\u041a\\u0438\\u043d\\u043e - DVD\"], \"xaxis\": \"x\", \"y\": [564652], \"yaxis\": \"y\"}, {\"alignmentgroup\": \"True\", \"hoverlabel\": {\"namelength\": 0}, \"hovertemplate\": \"Category name: %{x}<br>Sales count: %{y}\", \"legendgroup\": \"color=\\u0418\\u0433\\u0440\\u044b PC - \\u0421\\u0442\\u0430\\u043d\\u0434\\u0430\\u0440\\u0442\\u043d\\u044b\\u0435 \\u0438\\u0437\\u0434\\u0430\\u043d\\u0438\\u044f\", \"marker\": {\"color\": \"#EF553B\"}, \"name\": \"color=\\u0418\\u0433\\u0440\\u044b PC - \\u0421\\u0442\\u0430\\u043d\\u0434\\u0430\\u0440\\u0442\\u043d\\u044b\\u0435 \\u0438\\u0437\\u0434\\u0430\\u043d\\u0438\\u044f\", \"offsetgroup\": \"color=\\u0418\\u0433\\u0440\\u044b PC - \\u0421\\u0442\\u0430\\u043d\\u0434\\u0430\\u0440\\u0442\\u043d\\u044b\\u0435 \\u0438\\u0437\\u0434\\u0430\\u043d\\u0438\\u044f\", \"orientation\": \"v\", \"showlegend\": true, \"textposition\": \"auto\", \"type\": \"bar\", \"x\": [\"\\u0418\\u0433\\u0440\\u044b PC - \\u0421\\u0442\\u0430\\u043d\\u0434\\u0430\\u0440\\u0442\\u043d\\u044b\\u0435 \\u0438\\u0437\\u0434\\u0430\\u043d\\u0438\\u044f\"], \"xaxis\": \"x\", \"y\": [351591], \"yaxis\": \"y\"}, {\"alignmentgroup\": \"True\", \"hoverlabel\": {\"namelength\": 0}, \"hovertemplate\": \"Category name: %{x}<br>Sales count: %{y}\", \"legendgroup\": \"color=\\u041c\\u0443\\u0437\\u044b\\u043a\\u0430 - CD \\u043b\\u043e\\u043a\\u0430\\u043b\\u044c\\u043d\\u043e\\u0433\\u043e \\u043f\\u0440\\u043e\\u0438\\u0437\\u0432\\u043e\\u0434\\u0441\\u0442\\u0432\\u0430\", \"marker\": {\"color\": \"#00cc96\"}, \"name\": \"color=\\u041c\\u0443\\u0437\\u044b\\u043a\\u0430 - CD \\u043b\\u043e\\u043a\\u0430\\u043b\\u044c\\u043d\\u043e\\u0433\\u043e \\u043f\\u0440\\u043e\\u0438\\u0437\\u0432\\u043e\\u0434\\u0441\\u0442\\u0432\\u0430\", \"offsetgroup\": \"color=\\u041c\\u0443\\u0437\\u044b\\u043a\\u0430 - CD \\u043b\\u043e\\u043a\\u0430\\u043b\\u044c\\u043d\\u043e\\u0433\\u043e \\u043f\\u0440\\u043e\\u0438\\u0437\\u0432\\u043e\\u0434\\u0441\\u0442\\u0432\\u0430\", \"orientation\": \"v\", \"showlegend\": true, \"textposition\": \"auto\", \"type\": \"bar\", \"x\": [\"\\u041c\\u0443\\u0437\\u044b\\u043a\\u0430 - CD \\u043b\\u043e\\u043a\\u0430\\u043b\\u044c\\u043d\\u043e\\u0433\\u043e \\u043f\\u0440\\u043e\\u0438\\u0437\\u0432\\u043e\\u0434\\u0441\\u0442\\u0432\\u0430\"], \"xaxis\": \"x\", \"y\": [339585], \"yaxis\": \"y\"}, {\"alignmentgroup\": \"True\", \"hoverlabel\": {\"namelength\": 0}, \"hovertemplate\": \"Category name: %{x}<br>Sales count: %{y}\", \"legendgroup\": \"color=\\u0418\\u0433\\u0440\\u044b - PS3\", \"marker\": {\"color\": \"#ab63fa\"}, \"name\": \"color=\\u0418\\u0433\\u0440\\u044b - PS3\", \"offsetgroup\": \"color=\\u0418\\u0433\\u0440\\u044b - PS3\", \"orientation\": \"v\", \"showlegend\": true, \"textposition\": \"auto\", \"type\": \"bar\", \"x\": [\"\\u0418\\u0433\\u0440\\u044b - PS3\"], \"xaxis\": \"x\", \"y\": [208219], \"yaxis\": \"y\"}, {\"alignmentgroup\": \"True\", \"hoverlabel\": {\"namelength\": 0}, \"hovertemplate\": \"Category name: %{x}<br>Sales count: %{y}\", \"legendgroup\": \"color=\\u041a\\u0438\\u043d\\u043e - Blu-Ray\", \"marker\": {\"color\": \"#FFA15A\"}, \"name\": \"color=\\u041a\\u0438\\u043d\\u043e - Blu-Ray\", \"offsetgroup\": \"color=\\u041a\\u0438\\u043d\\u043e - Blu-Ray\", \"orientation\": \"v\", \"showlegend\": true, \"textposition\": \"auto\", \"type\": \"bar\", \"x\": [\"\\u041a\\u0438\\u043d\\u043e - Blu-Ray\"], \"xaxis\": \"x\", \"y\": [192674], \"yaxis\": \"y\"}, {\"alignmentgroup\": \"True\", \"hoverlabel\": {\"namelength\": 0}, \"hovertemplate\": \"Category name: %{x}<br>Sales count: %{y}\", \"legendgroup\": \"color=\\u0418\\u0433\\u0440\\u044b - XBOX 360\", \"marker\": {\"color\": \"#19d3f3\"}, \"name\": \"color=\\u0418\\u0433\\u0440\\u044b - XBOX 360\", \"offsetgroup\": \"color=\\u0418\\u0433\\u0440\\u044b - XBOX 360\", \"orientation\": \"v\", \"showlegend\": true, \"textposition\": \"auto\", \"type\": \"bar\", \"x\": [\"\\u0418\\u0433\\u0440\\u044b - XBOX 360\"], \"xaxis\": \"x\", \"y\": [146789], \"yaxis\": \"y\"}, {\"alignmentgroup\": \"True\", \"hoverlabel\": {\"namelength\": 0}, \"hovertemplate\": \"Category name: %{x}<br>Sales count: %{y}\", \"legendgroup\": \"color=\\u0418\\u0433\\u0440\\u044b PC - \\u0414\\u043e\\u043f\\u043e\\u043b\\u043d\\u0438\\u0442\\u0435\\u043b\\u044c\\u043d\\u044b\\u0435 \\u0438\\u0437\\u0434\\u0430\\u043d\\u0438\\u044f\", \"marker\": {\"color\": \"#FF6692\"}, \"name\": \"color=\\u0418\\u0433\\u0440\\u044b PC - \\u0414\\u043e\\u043f\\u043e\\u043b\\u043d\\u0438\\u0442\\u0435\\u043b\\u044c\\u043d\\u044b\\u0435 \\u0438\\u0437\\u0434\\u0430\\u043d\\u0438\\u044f\", \"offsetgroup\": \"color=\\u0418\\u0433\\u0440\\u044b PC - \\u0414\\u043e\\u043f\\u043e\\u043b\\u043d\\u0438\\u0442\\u0435\\u043b\\u044c\\u043d\\u044b\\u0435 \\u0438\\u0437\\u0434\\u0430\\u043d\\u0438\\u044f\", \"orientation\": \"v\", \"showlegend\": true, \"textposition\": \"auto\", \"type\": \"bar\", \"x\": [\"\\u0418\\u0433\\u0440\\u044b PC - \\u0414\\u043e\\u043f\\u043e\\u043b\\u043d\\u0438\\u0442\\u0435\\u043b\\u044c\\u043d\\u044b\\u0435 \\u0438\\u0437\\u0434\\u0430\\u043d\\u0438\\u044f\"], \"xaxis\": \"x\", \"y\": [121539], \"yaxis\": \"y\"}, {\"alignmentgroup\": \"True\", \"hoverlabel\": {\"namelength\": 0}, \"hovertemplate\": \"Category name: %{x}<br>Sales count: %{y}\", \"legendgroup\": \"color=\\u0418\\u0433\\u0440\\u044b - PS4\", \"marker\": {\"color\": \"#B6E880\"}, \"name\": \"color=\\u0418\\u0433\\u0440\\u044b - PS4\", \"offsetgroup\": \"color=\\u0418\\u0433\\u0440\\u044b - PS4\", \"orientation\": \"v\", \"showlegend\": true, \"textposition\": \"auto\", \"type\": \"bar\", \"x\": [\"\\u0418\\u0433\\u0440\\u044b - PS4\"], \"xaxis\": \"x\", \"y\": [79058], \"yaxis\": \"y\"}, {\"alignmentgroup\": \"True\", \"hoverlabel\": {\"namelength\": 0}, \"hovertemplate\": \"Category name: %{x}<br>Sales count: %{y}\", \"legendgroup\": \"color=\\u041f\\u043e\\u0434\\u0430\\u0440\\u043a\\u0438 - \\u041c\\u044f\\u0433\\u043a\\u0438\\u0435 \\u0438\\u0433\\u0440\\u0443\\u0448\\u043a\\u0438\", \"marker\": {\"color\": \"#FF97FF\"}, \"name\": \"color=\\u041f\\u043e\\u0434\\u0430\\u0440\\u043a\\u0438 - \\u041c\\u044f\\u0433\\u043a\\u0438\\u0435 \\u0438\\u0433\\u0440\\u0443\\u0448\\u043a\\u0438\", \"offsetgroup\": \"color=\\u041f\\u043e\\u0434\\u0430\\u0440\\u043a\\u0438 - \\u041c\\u044f\\u0433\\u043a\\u0438\\u0435 \\u0438\\u0433\\u0440\\u0443\\u0448\\u043a\\u0438\", \"orientation\": \"v\", \"showlegend\": true, \"textposition\": \"auto\", \"type\": \"bar\", \"x\": [\"\\u041f\\u043e\\u0434\\u0430\\u0440\\u043a\\u0438 - \\u041c\\u044f\\u0433\\u043a\\u0438\\u0435 \\u0438\\u0433\\u0440\\u0443\\u0448\\u043a\\u0438\"], \"xaxis\": \"x\", \"y\": [53845], \"yaxis\": \"y\"}, {\"alignmentgroup\": \"True\", \"hoverlabel\": {\"namelength\": 0}, \"hovertemplate\": \"Category name: %{x}<br>Sales count: %{y}\", \"legendgroup\": \"color=\\u041f\\u043e\\u0434\\u0430\\u0440\\u043a\\u0438 - \\u041d\\u0430\\u0441\\u0442\\u043e\\u043b\\u044c\\u043d\\u044b\\u0435 \\u0438\\u0433\\u0440\\u044b (\\u043a\\u043e\\u043c\\u043f\\u0430\\u043a\\u0442\\u043d\\u044b\\u0435)\", \"marker\": {\"color\": \"#FECB52\"}, \"name\": \"color=\\u041f\\u043e\\u0434\\u0430\\u0440\\u043a\\u0438 - \\u041d\\u0430\\u0441\\u0442\\u043e\\u043b\\u044c\\u043d\\u044b\\u0435 \\u0438\\u0433\\u0440\\u044b (\\u043a\\u043e\\u043c\\u043f\\u0430\\u043a\\u0442\\u043d\\u044b\\u0435)\", \"offsetgroup\": \"color=\\u041f\\u043e\\u0434\\u0430\\u0440\\u043a\\u0438 - \\u041d\\u0430\\u0441\\u0442\\u043e\\u043b\\u044c\\u043d\\u044b\\u0435 \\u0438\\u0433\\u0440\\u044b (\\u043a\\u043e\\u043c\\u043f\\u0430\\u043a\\u0442\\u043d\\u044b\\u0435)\", \"orientation\": \"v\", \"showlegend\": true, \"textposition\": \"auto\", \"type\": \"bar\", \"x\": [\"\\u041f\\u043e\\u0434\\u0430\\u0440\\u043a\\u0438 - \\u041d\\u0430\\u0441\\u0442\\u043e\\u043b\\u044c\\u043d\\u044b\\u0435 \\u0438\\u0433\\u0440\\u044b (\\u043a\\u043e\\u043c\\u043f\\u0430\\u043a\\u0442\\u043d\\u044b\\u0435)\"], \"xaxis\": \"x\", \"y\": [53227], \"yaxis\": \"y\"}],\n",
              "                        {\"barmode\": \"relative\", \"height\": 700, \"legend\": {\"tracegroupgap\": 0}, \"margin\": {\"t\": 60}, \"showlegend\": false, \"template\": {\"data\": {\"bar\": [{\"error_x\": {\"color\": \"#2a3f5f\"}, \"error_y\": {\"color\": \"#2a3f5f\"}, \"marker\": {\"line\": {\"color\": \"#E5ECF6\", \"width\": 0.5}}, \"type\": \"bar\"}], \"barpolar\": [{\"marker\": {\"line\": {\"color\": \"#E5ECF6\", \"width\": 0.5}}, \"type\": \"barpolar\"}], \"carpet\": [{\"aaxis\": {\"endlinecolor\": \"#2a3f5f\", \"gridcolor\": \"white\", \"linecolor\": \"white\", \"minorgridcolor\": \"white\", \"startlinecolor\": \"#2a3f5f\"}, \"baxis\": {\"endlinecolor\": \"#2a3f5f\", \"gridcolor\": \"white\", \"linecolor\": \"white\", \"minorgridcolor\": \"white\", \"startlinecolor\": \"#2a3f5f\"}, \"type\": \"carpet\"}], \"choropleth\": [{\"colorbar\": {\"outlinewidth\": 0, \"ticks\": \"\"}, \"type\": \"choropleth\"}], \"contour\": [{\"colorbar\": {\"outlinewidth\": 0, \"ticks\": \"\"}, \"colorscale\": [[0.0, \"#0d0887\"], [0.1111111111111111, \"#46039f\"], [0.2222222222222222, \"#7201a8\"], [0.3333333333333333, \"#9c179e\"], [0.4444444444444444, \"#bd3786\"], [0.5555555555555556, \"#d8576b\"], [0.6666666666666666, \"#ed7953\"], [0.7777777777777778, \"#fb9f3a\"], [0.8888888888888888, \"#fdca26\"], [1.0, \"#f0f921\"]], \"type\": \"contour\"}], \"contourcarpet\": [{\"colorbar\": {\"outlinewidth\": 0, \"ticks\": \"\"}, \"type\": \"contourcarpet\"}], \"heatmap\": [{\"colorbar\": {\"outlinewidth\": 0, \"ticks\": \"\"}, \"colorscale\": [[0.0, \"#0d0887\"], [0.1111111111111111, \"#46039f\"], [0.2222222222222222, \"#7201a8\"], [0.3333333333333333, \"#9c179e\"], [0.4444444444444444, \"#bd3786\"], [0.5555555555555556, \"#d8576b\"], [0.6666666666666666, \"#ed7953\"], [0.7777777777777778, \"#fb9f3a\"], [0.8888888888888888, \"#fdca26\"], [1.0, \"#f0f921\"]], \"type\": \"heatmap\"}], \"heatmapgl\": [{\"colorbar\": {\"outlinewidth\": 0, \"ticks\": \"\"}, \"colorscale\": [[0.0, \"#0d0887\"], [0.1111111111111111, \"#46039f\"], [0.2222222222222222, \"#7201a8\"], [0.3333333333333333, \"#9c179e\"], [0.4444444444444444, \"#bd3786\"], [0.5555555555555556, \"#d8576b\"], [0.6666666666666666, \"#ed7953\"], [0.7777777777777778, \"#fb9f3a\"], [0.8888888888888888, \"#fdca26\"], [1.0, \"#f0f921\"]], \"type\": \"heatmapgl\"}], \"histogram\": [{\"marker\": {\"colorbar\": {\"outlinewidth\": 0, \"ticks\": \"\"}}, \"type\": \"histogram\"}], \"histogram2d\": [{\"colorbar\": {\"outlinewidth\": 0, \"ticks\": \"\"}, \"colorscale\": [[0.0, \"#0d0887\"], [0.1111111111111111, \"#46039f\"], [0.2222222222222222, \"#7201a8\"], [0.3333333333333333, \"#9c179e\"], [0.4444444444444444, \"#bd3786\"], [0.5555555555555556, \"#d8576b\"], [0.6666666666666666, \"#ed7953\"], [0.7777777777777778, \"#fb9f3a\"], [0.8888888888888888, \"#fdca26\"], [1.0, \"#f0f921\"]], \"type\": \"histogram2d\"}], \"histogram2dcontour\": [{\"colorbar\": {\"outlinewidth\": 0, \"ticks\": \"\"}, \"colorscale\": [[0.0, \"#0d0887\"], [0.1111111111111111, \"#46039f\"], [0.2222222222222222, \"#7201a8\"], [0.3333333333333333, \"#9c179e\"], [0.4444444444444444, \"#bd3786\"], [0.5555555555555556, \"#d8576b\"], [0.6666666666666666, \"#ed7953\"], [0.7777777777777778, \"#fb9f3a\"], [0.8888888888888888, \"#fdca26\"], [1.0, \"#f0f921\"]], \"type\": \"histogram2dcontour\"}], \"mesh3d\": [{\"colorbar\": {\"outlinewidth\": 0, \"ticks\": \"\"}, \"type\": \"mesh3d\"}], \"parcoords\": [{\"line\": {\"colorbar\": {\"outlinewidth\": 0, \"ticks\": \"\"}}, \"type\": \"parcoords\"}], \"pie\": [{\"automargin\": true, \"type\": \"pie\"}], \"scatter\": [{\"marker\": {\"colorbar\": {\"outlinewidth\": 0, \"ticks\": \"\"}}, \"type\": \"scatter\"}], \"scatter3d\": [{\"line\": {\"colorbar\": {\"outlinewidth\": 0, \"ticks\": \"\"}}, \"marker\": {\"colorbar\": {\"outlinewidth\": 0, \"ticks\": \"\"}}, \"type\": \"scatter3d\"}], \"scattercarpet\": [{\"marker\": {\"colorbar\": {\"outlinewidth\": 0, \"ticks\": \"\"}}, \"type\": \"scattercarpet\"}], \"scattergeo\": [{\"marker\": {\"colorbar\": {\"outlinewidth\": 0, \"ticks\": \"\"}}, \"type\": \"scattergeo\"}], \"scattergl\": [{\"marker\": {\"colorbar\": {\"outlinewidth\": 0, \"ticks\": \"\"}}, \"type\": \"scattergl\"}], \"scattermapbox\": [{\"marker\": {\"colorbar\": {\"outlinewidth\": 0, \"ticks\": \"\"}}, \"type\": \"scattermapbox\"}], \"scatterpolar\": [{\"marker\": {\"colorbar\": {\"outlinewidth\": 0, \"ticks\": \"\"}}, \"type\": \"scatterpolar\"}], \"scatterpolargl\": [{\"marker\": {\"colorbar\": {\"outlinewidth\": 0, \"ticks\": \"\"}}, \"type\": \"scatterpolargl\"}], \"scatterternary\": [{\"marker\": {\"colorbar\": {\"outlinewidth\": 0, \"ticks\": \"\"}}, \"type\": \"scatterternary\"}], \"surface\": [{\"colorbar\": {\"outlinewidth\": 0, \"ticks\": \"\"}, \"colorscale\": [[0.0, \"#0d0887\"], [0.1111111111111111, \"#46039f\"], [0.2222222222222222, \"#7201a8\"], [0.3333333333333333, \"#9c179e\"], [0.4444444444444444, \"#bd3786\"], [0.5555555555555556, \"#d8576b\"], [0.6666666666666666, \"#ed7953\"], [0.7777777777777778, \"#fb9f3a\"], [0.8888888888888888, \"#fdca26\"], [1.0, \"#f0f921\"]], \"type\": \"surface\"}], \"table\": [{\"cells\": {\"fill\": {\"color\": \"#EBF0F8\"}, \"line\": {\"color\": \"white\"}}, \"header\": {\"fill\": {\"color\": \"#C8D4E3\"}, \"line\": {\"color\": \"white\"}}, \"type\": \"table\"}]}, \"layout\": {\"annotationdefaults\": {\"arrowcolor\": \"#2a3f5f\", \"arrowhead\": 0, \"arrowwidth\": 1}, \"coloraxis\": {\"colorbar\": {\"outlinewidth\": 0, \"ticks\": \"\"}}, \"colorscale\": {\"diverging\": [[0, \"#8e0152\"], [0.1, \"#c51b7d\"], [0.2, \"#de77ae\"], [0.3, \"#f1b6da\"], [0.4, \"#fde0ef\"], [0.5, \"#f7f7f7\"], [0.6, \"#e6f5d0\"], [0.7, \"#b8e186\"], [0.8, \"#7fbc41\"], [0.9, \"#4d9221\"], [1, \"#276419\"]], \"sequential\": [[0.0, \"#0d0887\"], [0.1111111111111111, \"#46039f\"], [0.2222222222222222, \"#7201a8\"], [0.3333333333333333, \"#9c179e\"], [0.4444444444444444, \"#bd3786\"], [0.5555555555555556, \"#d8576b\"], [0.6666666666666666, \"#ed7953\"], [0.7777777777777778, \"#fb9f3a\"], [0.8888888888888888, \"#fdca26\"], [1.0, \"#f0f921\"]], \"sequentialminus\": [[0.0, \"#0d0887\"], [0.1111111111111111, \"#46039f\"], [0.2222222222222222, \"#7201a8\"], [0.3333333333333333, \"#9c179e\"], [0.4444444444444444, \"#bd3786\"], [0.5555555555555556, \"#d8576b\"], [0.6666666666666666, \"#ed7953\"], [0.7777777777777778, \"#fb9f3a\"], [0.8888888888888888, \"#fdca26\"], [1.0, \"#f0f921\"]]}, \"colorway\": [\"#636efa\", \"#EF553B\", \"#00cc96\", \"#ab63fa\", \"#FFA15A\", \"#19d3f3\", \"#FF6692\", \"#B6E880\", \"#FF97FF\", \"#FECB52\"], \"font\": {\"color\": \"#2a3f5f\"}, \"geo\": {\"bgcolor\": \"white\", \"lakecolor\": \"white\", \"landcolor\": \"#E5ECF6\", \"showlakes\": true, \"showland\": true, \"subunitcolor\": \"white\"}, \"hoverlabel\": {\"align\": \"left\"}, \"hovermode\": \"closest\", \"mapbox\": {\"style\": \"light\"}, \"paper_bgcolor\": \"white\", \"plot_bgcolor\": \"#E5ECF6\", \"polar\": {\"angularaxis\": {\"gridcolor\": \"white\", \"linecolor\": \"white\", \"ticks\": \"\"}, \"bgcolor\": \"#E5ECF6\", \"radialaxis\": {\"gridcolor\": \"white\", \"linecolor\": \"white\", \"ticks\": \"\"}}, \"scene\": {\"xaxis\": {\"backgroundcolor\": \"#E5ECF6\", \"gridcolor\": \"white\", \"gridwidth\": 2, \"linecolor\": \"white\", \"showbackground\": true, \"ticks\": \"\", \"zerolinecolor\": \"white\"}, \"yaxis\": {\"backgroundcolor\": \"#E5ECF6\", \"gridcolor\": \"white\", \"gridwidth\": 2, \"linecolor\": \"white\", \"showbackground\": true, \"ticks\": \"\", \"zerolinecolor\": \"white\"}, \"zaxis\": {\"backgroundcolor\": \"#E5ECF6\", \"gridcolor\": \"white\", \"gridwidth\": 2, \"linecolor\": \"white\", \"showbackground\": true, \"ticks\": \"\", \"zerolinecolor\": \"white\"}}, \"shapedefaults\": {\"line\": {\"color\": \"#2a3f5f\"}}, \"ternary\": {\"aaxis\": {\"gridcolor\": \"white\", \"linecolor\": \"white\", \"ticks\": \"\"}, \"baxis\": {\"gridcolor\": \"white\", \"linecolor\": \"white\", \"ticks\": \"\"}, \"bgcolor\": \"#E5ECF6\", \"caxis\": {\"gridcolor\": \"white\", \"linecolor\": \"white\", \"ticks\": \"\"}}, \"title\": {\"x\": 0.05}, \"xaxis\": {\"automargin\": true, \"gridcolor\": \"white\", \"linecolor\": \"white\", \"ticks\": \"\", \"title\": {\"standoff\": 15}, \"zerolinecolor\": \"white\", \"zerolinewidth\": 2}, \"yaxis\": {\"automargin\": true, \"gridcolor\": \"white\", \"linecolor\": \"white\", \"ticks\": \"\", \"title\": {\"standoff\": 15}, \"zerolinecolor\": \"white\", \"zerolinewidth\": 2}}}, \"title\": {\"text\": \"item_category_name\"}, \"xaxis\": {\"anchor\": \"y\", \"domain\": [0.0, 1.0], \"title\": {\"text\": \"x\"}}, \"yaxis\": {\"anchor\": \"x\", \"domain\": [0.0, 1.0], \"title\": {\"text\": \"y\"}}},\n",
              "                        {\"responsive\": true}\n",
              "                    ).then(function(){\n",
              "                            \n",
              "var gd = document.getElementById('4b3747ca-d407-4f6b-b765-e413799cc6cf');\n",
              "var x = new MutationObserver(function (mutations, observer) {{\n",
              "        var display = window.getComputedStyle(gd).display;\n",
              "        if (!display || display === 'none') {{\n",
              "            console.log([gd, 'removed!']);\n",
              "            Plotly.purge(gd);\n",
              "            observer.disconnect();\n",
              "        }}\n",
              "}});\n",
              "\n",
              "// Listen for the removal of the full notebook cells\n",
              "var notebookContainer = gd.closest('#notebook-container');\n",
              "if (notebookContainer) {{\n",
              "    x.observe(notebookContainer, {childList: true});\n",
              "}}\n",
              "\n",
              "// Listen for the clearing of the current output cell\n",
              "var outputEl = gd.closest('.output');\n",
              "if (outputEl) {{\n",
              "    x.observe(outputEl, {childList: true});\n",
              "}}\n",
              "\n",
              "                        })\n",
              "                };\n",
              "                \n",
              "            </script>\n",
              "        </div>\n",
              "</body>\n",
              "</html>"
            ]
          },
          "metadata": {
            "tags": []
          }
        }
      ]
    },
    {
      "cell_type": "code",
      "metadata": {
        "colab": {
          "base_uri": "https://localhost:8080/"
        },
        "id": "TH9ze6hT93Vm",
        "outputId": "74820a2e-5111-40b7-c484-6f0f89e7f65a"
      },
      "source": [
        "shop_names = pd.merge(sales_df, shops, on='shop_id', how='left')\n",
        "make_barplot(shop_names, 'shop_name')\n",
        "# most sales are comming from shops in Moscow"
      ],
      "execution_count": null,
      "outputs": [
        {
          "output_type": "display_data",
          "data": {
            "text/html": [
              "<html>\n",
              "<head><meta charset=\"utf-8\" /></head>\n",
              "<body>\n",
              "    <div>\n",
              "            <script src=\"https://cdnjs.cloudflare.com/ajax/libs/mathjax/2.7.5/MathJax.js?config=TeX-AMS-MML_SVG\"></script><script type=\"text/javascript\">if (window.MathJax) {MathJax.Hub.Config({SVG: {font: \"STIX-Web\"}});}</script>\n",
              "                <script type=\"text/javascript\">window.PlotlyConfig = {MathJaxConfig: 'local'};</script>\n",
              "        <script src=\"https://cdn.plot.ly/plotly-latest.min.js\"></script>    \n",
              "            <div id=\"397b4d36-9950-46a8-b56a-7080f9ab9f47\" class=\"plotly-graph-div\" style=\"height:700px; width:100%;\"></div>\n",
              "            <script type=\"text/javascript\">\n",
              "                \n",
              "                    window.PLOTLYENV=window.PLOTLYENV || {};\n",
              "                    \n",
              "                if (document.getElementById(\"397b4d36-9950-46a8-b56a-7080f9ab9f47\")) {\n",
              "                    Plotly.newPlot(\n",
              "                        '397b4d36-9950-46a8-b56a-7080f9ab9f47',\n",
              "                        [{\"alignmentgroup\": \"True\", \"hoverlabel\": {\"namelength\": 0}, \"hovertemplate\": \"Category name: %{x}<br>Sales count: %{y}\", \"legendgroup\": \"color=\\u041c\\u043e\\u0441\\u043a\\u0432\\u0430 \\u0422\\u0426 \\\"\\u0421\\u0435\\u043c\\u0435\\u043d\\u043e\\u0432\\u0441\\u043a\\u0438\\u0439\\\"\", \"marker\": {\"color\": \"#636efa\"}, \"name\": \"color=\\u041c\\u043e\\u0441\\u043a\\u0432\\u0430 \\u0422\\u0426 \\\"\\u0421\\u0435\\u043c\\u0435\\u043d\\u043e\\u0432\\u0441\\u043a\\u0438\\u0439\\\"\", \"offsetgroup\": \"color=\\u041c\\u043e\\u0441\\u043a\\u0432\\u0430 \\u0422\\u0426 \\\"\\u0421\\u0435\\u043c\\u0435\\u043d\\u043e\\u0432\\u0441\\u043a\\u0438\\u0439\\\"\", \"orientation\": \"v\", \"showlegend\": true, \"textposition\": \"auto\", \"type\": \"bar\", \"x\": [\"\\u041c\\u043e\\u0441\\u043a\\u0432\\u0430 \\u0422\\u0426 \\\"\\u0421\\u0435\\u043c\\u0435\\u043d\\u043e\\u0432\\u0441\\u043a\\u0438\\u0439\\\"\"], \"xaxis\": \"x\", \"y\": [235636], \"yaxis\": \"y\"}, {\"alignmentgroup\": \"True\", \"hoverlabel\": {\"namelength\": 0}, \"hovertemplate\": \"Category name: %{x}<br>Sales count: %{y}\", \"legendgroup\": \"color=\\u041c\\u043e\\u0441\\u043a\\u0432\\u0430 \\u0422\\u0420\\u041a \\\"\\u0410\\u0442\\u0440\\u0438\\u0443\\u043c\\\"\", \"marker\": {\"color\": \"#EF553B\"}, \"name\": \"color=\\u041c\\u043e\\u0441\\u043a\\u0432\\u0430 \\u0422\\u0420\\u041a \\\"\\u0410\\u0442\\u0440\\u0438\\u0443\\u043c\\\"\", \"offsetgroup\": \"color=\\u041c\\u043e\\u0441\\u043a\\u0432\\u0430 \\u0422\\u0420\\u041a \\\"\\u0410\\u0442\\u0440\\u0438\\u0443\\u043c\\\"\", \"orientation\": \"v\", \"showlegend\": true, \"textposition\": \"auto\", \"type\": \"bar\", \"x\": [\"\\u041c\\u043e\\u0441\\u043a\\u0432\\u0430 \\u0422\\u0420\\u041a \\\"\\u0410\\u0442\\u0440\\u0438\\u0443\\u043c\\\"\"], \"xaxis\": \"x\", \"y\": [186104], \"yaxis\": \"y\"}, {\"alignmentgroup\": \"True\", \"hoverlabel\": {\"namelength\": 0}, \"hovertemplate\": \"Category name: %{x}<br>Sales count: %{y}\", \"legendgroup\": \"color=\\u0425\\u0438\\u043c\\u043a\\u0438 \\u0422\\u0426 \\\"\\u041c\\u0435\\u0433\\u0430\\\"\", \"marker\": {\"color\": \"#00cc96\"}, \"name\": \"color=\\u0425\\u0438\\u043c\\u043a\\u0438 \\u0422\\u0426 \\\"\\u041c\\u0435\\u0433\\u0430\\\"\", \"offsetgroup\": \"color=\\u0425\\u0438\\u043c\\u043a\\u0438 \\u0422\\u0426 \\\"\\u041c\\u0435\\u0433\\u0430\\\"\", \"orientation\": \"v\", \"showlegend\": true, \"textposition\": \"auto\", \"type\": \"bar\", \"x\": [\"\\u0425\\u0438\\u043c\\u043a\\u0438 \\u0422\\u0426 \\\"\\u041c\\u0435\\u0433\\u0430\\\"\"], \"xaxis\": \"x\", \"y\": [143480], \"yaxis\": \"y\"}, {\"alignmentgroup\": \"True\", \"hoverlabel\": {\"namelength\": 0}, \"hovertemplate\": \"Category name: %{x}<br>Sales count: %{y}\", \"legendgroup\": \"color=\\u041c\\u043e\\u0441\\u043a\\u0432\\u0430 \\u0422\\u0426 \\\"\\u041c\\u0415\\u0413\\u0410 \\u0422\\u0435\\u043f\\u043b\\u044b\\u0439 \\u0421\\u0442\\u0430\\u043d\\\" II\", \"marker\": {\"color\": \"#ab63fa\"}, \"name\": \"color=\\u041c\\u043e\\u0441\\u043a\\u0432\\u0430 \\u0422\\u0426 \\\"\\u041c\\u0415\\u0413\\u0410 \\u0422\\u0435\\u043f\\u043b\\u044b\\u0439 \\u0421\\u0442\\u0430\\u043d\\\" II\", \"offsetgroup\": \"color=\\u041c\\u043e\\u0441\\u043a\\u0432\\u0430 \\u0422\\u0426 \\\"\\u041c\\u0415\\u0413\\u0410 \\u0422\\u0435\\u043f\\u043b\\u044b\\u0439 \\u0421\\u0442\\u0430\\u043d\\\" II\", \"orientation\": \"v\", \"showlegend\": true, \"textposition\": \"auto\", \"type\": \"bar\", \"x\": [\"\\u041c\\u043e\\u0441\\u043a\\u0432\\u0430 \\u0422\\u0426 \\\"\\u041c\\u0415\\u0413\\u0410 \\u0422\\u0435\\u043f\\u043b\\u044b\\u0439 \\u0421\\u0442\\u0430\\u043d\\\" II\"], \"xaxis\": \"x\", \"y\": [142234], \"yaxis\": \"y\"}, {\"alignmentgroup\": \"True\", \"hoverlabel\": {\"namelength\": 0}, \"hovertemplate\": \"Category name: %{x}<br>Sales count: %{y}\", \"legendgroup\": \"color=\\u042f\\u043a\\u0443\\u0442\\u0441\\u043a \\u041e\\u0440\\u0434\\u0436\\u043e\\u043d\\u0438\\u043a\\u0438\\u0434\\u0437\\u0435, 56\", \"marker\": {\"color\": \"#FFA15A\"}, \"name\": \"color=\\u042f\\u043a\\u0443\\u0442\\u0441\\u043a \\u041e\\u0440\\u0434\\u0436\\u043e\\u043d\\u0438\\u043a\\u0438\\u0434\\u0437\\u0435, 56\", \"offsetgroup\": \"color=\\u042f\\u043a\\u0443\\u0442\\u0441\\u043a \\u041e\\u0440\\u0434\\u0436\\u043e\\u043d\\u0438\\u043a\\u0438\\u0434\\u0437\\u0435, 56\", \"orientation\": \"v\", \"showlegend\": true, \"textposition\": \"auto\", \"type\": \"bar\", \"x\": [\"\\u042f\\u043a\\u0443\\u0442\\u0441\\u043a \\u041e\\u0440\\u0434\\u0436\\u043e\\u043d\\u0438\\u043a\\u0438\\u0434\\u0437\\u0435, 56\"], \"xaxis\": \"x\", \"y\": [117428], \"yaxis\": \"y\"}, {\"alignmentgroup\": \"True\", \"hoverlabel\": {\"namelength\": 0}, \"hovertemplate\": \"Category name: %{x}<br>Sales count: %{y}\", \"legendgroup\": \"color=\\u0421\\u041f\\u0431 \\u0422\\u041a \\\"\\u041d\\u0435\\u0432\\u0441\\u043a\\u0438\\u0439 \\u0426\\u0435\\u043d\\u0442\\u0440\\\"\", \"marker\": {\"color\": \"#19d3f3\"}, \"name\": \"color=\\u0421\\u041f\\u0431 \\u0422\\u041a \\\"\\u041d\\u0435\\u0432\\u0441\\u043a\\u0438\\u0439 \\u0426\\u0435\\u043d\\u0442\\u0440\\\"\", \"offsetgroup\": \"color=\\u0421\\u041f\\u0431 \\u0422\\u041a \\\"\\u041d\\u0435\\u0432\\u0441\\u043a\\u0438\\u0439 \\u0426\\u0435\\u043d\\u0442\\u0440\\\"\", \"orientation\": \"v\", \"showlegend\": true, \"textposition\": \"auto\", \"type\": \"bar\", \"x\": [\"\\u0421\\u041f\\u0431 \\u0422\\u041a \\\"\\u041d\\u0435\\u0432\\u0441\\u043a\\u0438\\u0439 \\u0426\\u0435\\u043d\\u0442\\u0440\\\"\"], \"xaxis\": \"x\", \"y\": [109253], \"yaxis\": \"y\"}, {\"alignmentgroup\": \"True\", \"hoverlabel\": {\"namelength\": 0}, \"hovertemplate\": \"Category name: %{x}<br>Sales count: %{y}\", \"legendgroup\": \"color=\\u041c\\u043e\\u0441\\u043a\\u0432\\u0430 \\u0422\\u0426 \\\"\\u041c\\u0415\\u0413\\u0410 \\u0411\\u0435\\u043b\\u0430\\u044f \\u0414\\u0430\\u0447\\u0430 II\\\"\", \"marker\": {\"color\": \"#FF6692\"}, \"name\": \"color=\\u041c\\u043e\\u0441\\u043a\\u0432\\u0430 \\u0422\\u0426 \\\"\\u041c\\u0415\\u0413\\u0410 \\u0411\\u0435\\u043b\\u0430\\u044f \\u0414\\u0430\\u0447\\u0430 II\\\"\", \"offsetgroup\": \"color=\\u041c\\u043e\\u0441\\u043a\\u0432\\u0430 \\u0422\\u0426 \\\"\\u041c\\u0415\\u0413\\u0410 \\u0411\\u0435\\u043b\\u0430\\u044f \\u0414\\u0430\\u0447\\u0430 II\\\"\", \"orientation\": \"v\", \"showlegend\": true, \"textposition\": \"auto\", \"type\": \"bar\", \"x\": [\"\\u041c\\u043e\\u0441\\u043a\\u0432\\u0430 \\u0422\\u0426 \\\"\\u041c\\u0415\\u0413\\u0410 \\u0411\\u0435\\u043b\\u0430\\u044f \\u0414\\u0430\\u0447\\u0430 II\\\"\"], \"xaxis\": \"x\", \"y\": [105366], \"yaxis\": \"y\"}, {\"alignmentgroup\": \"True\", \"hoverlabel\": {\"namelength\": 0}, \"hovertemplate\": \"Category name: %{x}<br>Sales count: %{y}\", \"legendgroup\": \"color=\\u0412\\u043e\\u0440\\u043e\\u043d\\u0435\\u0436 (\\u041f\\u043b\\u0435\\u0445\\u0430\\u043d\\u043e\\u0432\\u0441\\u043a\\u0430\\u044f, 13)\", \"marker\": {\"color\": \"#B6E880\"}, \"name\": \"color=\\u0412\\u043e\\u0440\\u043e\\u043d\\u0435\\u0436 (\\u041f\\u043b\\u0435\\u0445\\u0430\\u043d\\u043e\\u0432\\u0441\\u043a\\u0430\\u044f, 13)\", \"offsetgroup\": \"color=\\u0412\\u043e\\u0440\\u043e\\u043d\\u0435\\u0436 (\\u041f\\u043b\\u0435\\u0445\\u0430\\u043d\\u043e\\u0432\\u0441\\u043a\\u0430\\u044f, 13)\", \"orientation\": \"v\", \"showlegend\": true, \"textposition\": \"auto\", \"type\": \"bar\", \"x\": [\"\\u0412\\u043e\\u0440\\u043e\\u043d\\u0435\\u0436 (\\u041f\\u043b\\u0435\\u0445\\u0430\\u043d\\u043e\\u0432\\u0441\\u043a\\u0430\\u044f, 13)\"], \"xaxis\": \"x\", \"y\": [82663], \"yaxis\": \"y\"}, {\"alignmentgroup\": \"True\", \"hoverlabel\": {\"namelength\": 0}, \"hovertemplate\": \"Category name: %{x}<br>Sales count: %{y}\", \"legendgroup\": \"color=\\u042f\\u043a\\u0443\\u0442\\u0441\\u043a \\u0422\\u0426 \\\"\\u0426\\u0435\\u043d\\u0442\\u0440\\u0430\\u043b\\u044c\\u043d\\u044b\\u0439\\\"\", \"marker\": {\"color\": \"#FF97FF\"}, \"name\": \"color=\\u042f\\u043a\\u0443\\u0442\\u0441\\u043a \\u0422\\u0426 \\\"\\u0426\\u0435\\u043d\\u0442\\u0440\\u0430\\u043b\\u044c\\u043d\\u044b\\u0439\\\"\", \"offsetgroup\": \"color=\\u042f\\u043a\\u0443\\u0442\\u0441\\u043a \\u0422\\u0426 \\\"\\u0426\\u0435\\u043d\\u0442\\u0440\\u0430\\u043b\\u044c\\u043d\\u044b\\u0439\\\"\", \"orientation\": \"v\", \"showlegend\": true, \"textposition\": \"auto\", \"type\": \"bar\", \"x\": [\"\\u042f\\u043a\\u0443\\u0442\\u0441\\u043a \\u0422\\u0426 \\\"\\u0426\\u0435\\u043d\\u0442\\u0440\\u0430\\u043b\\u044c\\u043d\\u044b\\u0439\\\"\"], \"xaxis\": \"x\", \"y\": [71441], \"yaxis\": \"y\"}, {\"alignmentgroup\": \"True\", \"hoverlabel\": {\"namelength\": 0}, \"hovertemplate\": \"Category name: %{x}<br>Sales count: %{y}\", \"legendgroup\": \"color=\\u0427\\u0435\\u0445\\u043e\\u0432 \\u0422\\u0420\\u0426 \\\"\\u041a\\u0430\\u0440\\u043d\\u0430\\u0432\\u0430\\u043b\\\"\", \"marker\": {\"color\": \"#FECB52\"}, \"name\": \"color=\\u0427\\u0435\\u0445\\u043e\\u0432 \\u0422\\u0420\\u0426 \\\"\\u041a\\u0430\\u0440\\u043d\\u0430\\u0432\\u0430\\u043b\\\"\", \"offsetgroup\": \"color=\\u0427\\u0435\\u0445\\u043e\\u0432 \\u0422\\u0420\\u0426 \\\"\\u041a\\u0430\\u0440\\u043d\\u0430\\u0432\\u0430\\u043b\\\"\", \"orientation\": \"v\", \"showlegend\": true, \"textposition\": \"auto\", \"type\": \"bar\", \"x\": [\"\\u0427\\u0435\\u0445\\u043e\\u0432 \\u0422\\u0420\\u0426 \\\"\\u041a\\u0430\\u0440\\u043d\\u0430\\u0432\\u0430\\u043b\\\"\"], \"xaxis\": \"x\", \"y\": [69573], \"yaxis\": \"y\"}],\n",
              "                        {\"barmode\": \"relative\", \"height\": 700, \"legend\": {\"tracegroupgap\": 0}, \"margin\": {\"t\": 60}, \"showlegend\": false, \"template\": {\"data\": {\"bar\": [{\"error_x\": {\"color\": \"#2a3f5f\"}, \"error_y\": {\"color\": \"#2a3f5f\"}, \"marker\": {\"line\": {\"color\": \"#E5ECF6\", \"width\": 0.5}}, \"type\": \"bar\"}], \"barpolar\": [{\"marker\": {\"line\": {\"color\": \"#E5ECF6\", \"width\": 0.5}}, \"type\": \"barpolar\"}], \"carpet\": [{\"aaxis\": {\"endlinecolor\": \"#2a3f5f\", \"gridcolor\": \"white\", \"linecolor\": \"white\", \"minorgridcolor\": \"white\", \"startlinecolor\": \"#2a3f5f\"}, \"baxis\": {\"endlinecolor\": \"#2a3f5f\", \"gridcolor\": \"white\", \"linecolor\": \"white\", \"minorgridcolor\": \"white\", \"startlinecolor\": \"#2a3f5f\"}, \"type\": \"carpet\"}], \"choropleth\": [{\"colorbar\": {\"outlinewidth\": 0, \"ticks\": \"\"}, \"type\": \"choropleth\"}], \"contour\": [{\"colorbar\": {\"outlinewidth\": 0, \"ticks\": \"\"}, \"colorscale\": [[0.0, \"#0d0887\"], [0.1111111111111111, \"#46039f\"], [0.2222222222222222, \"#7201a8\"], [0.3333333333333333, \"#9c179e\"], [0.4444444444444444, \"#bd3786\"], [0.5555555555555556, \"#d8576b\"], [0.6666666666666666, \"#ed7953\"], [0.7777777777777778, \"#fb9f3a\"], [0.8888888888888888, \"#fdca26\"], [1.0, \"#f0f921\"]], \"type\": \"contour\"}], \"contourcarpet\": [{\"colorbar\": {\"outlinewidth\": 0, \"ticks\": \"\"}, \"type\": \"contourcarpet\"}], \"heatmap\": [{\"colorbar\": {\"outlinewidth\": 0, \"ticks\": \"\"}, \"colorscale\": [[0.0, \"#0d0887\"], [0.1111111111111111, \"#46039f\"], [0.2222222222222222, \"#7201a8\"], [0.3333333333333333, \"#9c179e\"], [0.4444444444444444, \"#bd3786\"], [0.5555555555555556, \"#d8576b\"], [0.6666666666666666, \"#ed7953\"], [0.7777777777777778, \"#fb9f3a\"], [0.8888888888888888, \"#fdca26\"], [1.0, \"#f0f921\"]], \"type\": \"heatmap\"}], \"heatmapgl\": [{\"colorbar\": {\"outlinewidth\": 0, \"ticks\": \"\"}, \"colorscale\": [[0.0, \"#0d0887\"], [0.1111111111111111, \"#46039f\"], [0.2222222222222222, \"#7201a8\"], [0.3333333333333333, \"#9c179e\"], [0.4444444444444444, \"#bd3786\"], [0.5555555555555556, \"#d8576b\"], [0.6666666666666666, \"#ed7953\"], [0.7777777777777778, \"#fb9f3a\"], [0.8888888888888888, \"#fdca26\"], [1.0, \"#f0f921\"]], \"type\": \"heatmapgl\"}], \"histogram\": [{\"marker\": {\"colorbar\": {\"outlinewidth\": 0, \"ticks\": \"\"}}, \"type\": \"histogram\"}], \"histogram2d\": [{\"colorbar\": {\"outlinewidth\": 0, \"ticks\": \"\"}, \"colorscale\": [[0.0, \"#0d0887\"], [0.1111111111111111, \"#46039f\"], [0.2222222222222222, \"#7201a8\"], [0.3333333333333333, \"#9c179e\"], [0.4444444444444444, \"#bd3786\"], [0.5555555555555556, \"#d8576b\"], [0.6666666666666666, \"#ed7953\"], [0.7777777777777778, \"#fb9f3a\"], [0.8888888888888888, \"#fdca26\"], [1.0, \"#f0f921\"]], \"type\": \"histogram2d\"}], \"histogram2dcontour\": [{\"colorbar\": {\"outlinewidth\": 0, \"ticks\": \"\"}, \"colorscale\": [[0.0, \"#0d0887\"], [0.1111111111111111, \"#46039f\"], [0.2222222222222222, \"#7201a8\"], [0.3333333333333333, \"#9c179e\"], [0.4444444444444444, \"#bd3786\"], [0.5555555555555556, \"#d8576b\"], [0.6666666666666666, \"#ed7953\"], [0.7777777777777778, \"#fb9f3a\"], [0.8888888888888888, \"#fdca26\"], [1.0, \"#f0f921\"]], \"type\": \"histogram2dcontour\"}], \"mesh3d\": [{\"colorbar\": {\"outlinewidth\": 0, \"ticks\": \"\"}, \"type\": \"mesh3d\"}], \"parcoords\": [{\"line\": {\"colorbar\": {\"outlinewidth\": 0, \"ticks\": \"\"}}, \"type\": \"parcoords\"}], \"pie\": [{\"automargin\": true, \"type\": \"pie\"}], \"scatter\": [{\"marker\": {\"colorbar\": {\"outlinewidth\": 0, \"ticks\": \"\"}}, \"type\": \"scatter\"}], \"scatter3d\": [{\"line\": {\"colorbar\": {\"outlinewidth\": 0, \"ticks\": \"\"}}, \"marker\": {\"colorbar\": {\"outlinewidth\": 0, \"ticks\": \"\"}}, \"type\": \"scatter3d\"}], \"scattercarpet\": [{\"marker\": {\"colorbar\": {\"outlinewidth\": 0, \"ticks\": \"\"}}, \"type\": \"scattercarpet\"}], \"scattergeo\": [{\"marker\": {\"colorbar\": {\"outlinewidth\": 0, \"ticks\": \"\"}}, \"type\": \"scattergeo\"}], \"scattergl\": [{\"marker\": {\"colorbar\": {\"outlinewidth\": 0, \"ticks\": \"\"}}, \"type\": \"scattergl\"}], \"scattermapbox\": [{\"marker\": {\"colorbar\": {\"outlinewidth\": 0, \"ticks\": \"\"}}, \"type\": \"scattermapbox\"}], \"scatterpolar\": [{\"marker\": {\"colorbar\": {\"outlinewidth\": 0, \"ticks\": \"\"}}, \"type\": \"scatterpolar\"}], \"scatterpolargl\": [{\"marker\": {\"colorbar\": {\"outlinewidth\": 0, \"ticks\": \"\"}}, \"type\": \"scatterpolargl\"}], \"scatterternary\": [{\"marker\": {\"colorbar\": {\"outlinewidth\": 0, \"ticks\": \"\"}}, \"type\": \"scatterternary\"}], \"surface\": [{\"colorbar\": {\"outlinewidth\": 0, \"ticks\": \"\"}, \"colorscale\": [[0.0, \"#0d0887\"], [0.1111111111111111, \"#46039f\"], [0.2222222222222222, \"#7201a8\"], [0.3333333333333333, \"#9c179e\"], [0.4444444444444444, \"#bd3786\"], [0.5555555555555556, \"#d8576b\"], [0.6666666666666666, \"#ed7953\"], [0.7777777777777778, \"#fb9f3a\"], [0.8888888888888888, \"#fdca26\"], [1.0, \"#f0f921\"]], \"type\": \"surface\"}], \"table\": [{\"cells\": {\"fill\": {\"color\": \"#EBF0F8\"}, \"line\": {\"color\": \"white\"}}, \"header\": {\"fill\": {\"color\": \"#C8D4E3\"}, \"line\": {\"color\": \"white\"}}, \"type\": \"table\"}]}, \"layout\": {\"annotationdefaults\": {\"arrowcolor\": \"#2a3f5f\", \"arrowhead\": 0, \"arrowwidth\": 1}, \"coloraxis\": {\"colorbar\": {\"outlinewidth\": 0, \"ticks\": \"\"}}, \"colorscale\": {\"diverging\": [[0, \"#8e0152\"], [0.1, \"#c51b7d\"], [0.2, \"#de77ae\"], [0.3, \"#f1b6da\"], [0.4, \"#fde0ef\"], [0.5, \"#f7f7f7\"], [0.6, \"#e6f5d0\"], [0.7, \"#b8e186\"], [0.8, \"#7fbc41\"], [0.9, \"#4d9221\"], [1, \"#276419\"]], \"sequential\": [[0.0, \"#0d0887\"], [0.1111111111111111, \"#46039f\"], [0.2222222222222222, \"#7201a8\"], [0.3333333333333333, \"#9c179e\"], [0.4444444444444444, \"#bd3786\"], [0.5555555555555556, \"#d8576b\"], [0.6666666666666666, \"#ed7953\"], [0.7777777777777778, \"#fb9f3a\"], [0.8888888888888888, \"#fdca26\"], [1.0, \"#f0f921\"]], \"sequentialminus\": [[0.0, \"#0d0887\"], [0.1111111111111111, \"#46039f\"], [0.2222222222222222, \"#7201a8\"], [0.3333333333333333, \"#9c179e\"], [0.4444444444444444, \"#bd3786\"], [0.5555555555555556, \"#d8576b\"], [0.6666666666666666, \"#ed7953\"], [0.7777777777777778, \"#fb9f3a\"], [0.8888888888888888, \"#fdca26\"], [1.0, \"#f0f921\"]]}, \"colorway\": [\"#636efa\", \"#EF553B\", \"#00cc96\", \"#ab63fa\", \"#FFA15A\", \"#19d3f3\", \"#FF6692\", \"#B6E880\", \"#FF97FF\", \"#FECB52\"], \"font\": {\"color\": \"#2a3f5f\"}, \"geo\": {\"bgcolor\": \"white\", \"lakecolor\": \"white\", \"landcolor\": \"#E5ECF6\", \"showlakes\": true, \"showland\": true, \"subunitcolor\": \"white\"}, \"hoverlabel\": {\"align\": \"left\"}, \"hovermode\": \"closest\", \"mapbox\": {\"style\": \"light\"}, \"paper_bgcolor\": \"white\", \"plot_bgcolor\": \"#E5ECF6\", \"polar\": {\"angularaxis\": {\"gridcolor\": \"white\", \"linecolor\": \"white\", \"ticks\": \"\"}, \"bgcolor\": \"#E5ECF6\", \"radialaxis\": {\"gridcolor\": \"white\", \"linecolor\": \"white\", \"ticks\": \"\"}}, \"scene\": {\"xaxis\": {\"backgroundcolor\": \"#E5ECF6\", \"gridcolor\": \"white\", \"gridwidth\": 2, \"linecolor\": \"white\", \"showbackground\": true, \"ticks\": \"\", \"zerolinecolor\": \"white\"}, \"yaxis\": {\"backgroundcolor\": \"#E5ECF6\", \"gridcolor\": \"white\", \"gridwidth\": 2, \"linecolor\": \"white\", \"showbackground\": true, \"ticks\": \"\", \"zerolinecolor\": \"white\"}, \"zaxis\": {\"backgroundcolor\": \"#E5ECF6\", \"gridcolor\": \"white\", \"gridwidth\": 2, \"linecolor\": \"white\", \"showbackground\": true, \"ticks\": \"\", \"zerolinecolor\": \"white\"}}, \"shapedefaults\": {\"line\": {\"color\": \"#2a3f5f\"}}, \"ternary\": {\"aaxis\": {\"gridcolor\": \"white\", \"linecolor\": \"white\", \"ticks\": \"\"}, \"baxis\": {\"gridcolor\": \"white\", \"linecolor\": \"white\", \"ticks\": \"\"}, \"bgcolor\": \"#E5ECF6\", \"caxis\": {\"gridcolor\": \"white\", \"linecolor\": \"white\", \"ticks\": \"\"}}, \"title\": {\"x\": 0.05}, \"xaxis\": {\"automargin\": true, \"gridcolor\": \"white\", \"linecolor\": \"white\", \"ticks\": \"\", \"title\": {\"standoff\": 15}, \"zerolinecolor\": \"white\", \"zerolinewidth\": 2}, \"yaxis\": {\"automargin\": true, \"gridcolor\": \"white\", \"linecolor\": \"white\", \"ticks\": \"\", \"title\": {\"standoff\": 15}, \"zerolinecolor\": \"white\", \"zerolinewidth\": 2}}}, \"title\": {\"text\": \"shop_name\"}, \"xaxis\": {\"anchor\": \"y\", \"domain\": [0.0, 1.0], \"title\": {\"text\": \"x\"}}, \"yaxis\": {\"anchor\": \"x\", \"domain\": [0.0, 1.0], \"title\": {\"text\": \"y\"}}},\n",
              "                        {\"responsive\": true}\n",
              "                    ).then(function(){\n",
              "                            \n",
              "var gd = document.getElementById('397b4d36-9950-46a8-b56a-7080f9ab9f47');\n",
              "var x = new MutationObserver(function (mutations, observer) {{\n",
              "        var display = window.getComputedStyle(gd).display;\n",
              "        if (!display || display === 'none') {{\n",
              "            console.log([gd, 'removed!']);\n",
              "            Plotly.purge(gd);\n",
              "            observer.disconnect();\n",
              "        }}\n",
              "}});\n",
              "\n",
              "// Listen for the removal of the full notebook cells\n",
              "var notebookContainer = gd.closest('#notebook-container');\n",
              "if (notebookContainer) {{\n",
              "    x.observe(notebookContainer, {childList: true});\n",
              "}}\n",
              "\n",
              "// Listen for the clearing of the current output cell\n",
              "var outputEl = gd.closest('.output');\n",
              "if (outputEl) {{\n",
              "    x.observe(outputEl, {childList: true});\n",
              "}}\n",
              "\n",
              "                        })\n",
              "                };\n",
              "                \n",
              "            </script>\n",
              "        </div>\n",
              "</body>\n",
              "</html>"
            ]
          },
          "metadata": {
            "tags": []
          }
        }
      ]
    },
    {
      "cell_type": "code",
      "metadata": {
        "id": "6BLhW1-u-47h"
      },
      "source": [
        "del shop_names\n",
        "del item_cat_names\n",
        "gc.collect();"
      ],
      "execution_count": null,
      "outputs": []
    },
    {
      "cell_type": "code",
      "metadata": {
        "colab": {
          "base_uri": "https://localhost:8080/"
        },
        "id": "yC0fqbkAjnYt",
        "outputId": "6c15af87-5233-4e0b-f04e-9ebfcf93c873"
      },
      "source": [
        "make_barplot(sales_df, 'date_block_num', top10=False)\n",
        "# mainly the largets sales are in December, which is obvious as in Russia it's time before New Year's holidays"
      ],
      "execution_count": null,
      "outputs": [
        {
          "output_type": "display_data",
          "data": {
            "text/html": [
              "<html>\n",
              "<head><meta charset=\"utf-8\" /></head>\n",
              "<body>\n",
              "    <div>\n",
              "            <script src=\"https://cdnjs.cloudflare.com/ajax/libs/mathjax/2.7.5/MathJax.js?config=TeX-AMS-MML_SVG\"></script><script type=\"text/javascript\">if (window.MathJax) {MathJax.Hub.Config({SVG: {font: \"STIX-Web\"}});}</script>\n",
              "                <script type=\"text/javascript\">window.PlotlyConfig = {MathJaxConfig: 'local'};</script>\n",
              "        <script src=\"https://cdn.plot.ly/plotly-latest.min.js\"></script>    \n",
              "            <div id=\"49cc7c8c-3e44-4452-859e-d41596c09d5a\" class=\"plotly-graph-div\" style=\"height:700px; width:100%;\"></div>\n",
              "            <script type=\"text/javascript\">\n",
              "                \n",
              "                    window.PLOTLYENV=window.PLOTLYENV || {};\n",
              "                    \n",
              "                if (document.getElementById(\"49cc7c8c-3e44-4452-859e-d41596c09d5a\")) {\n",
              "                    Plotly.newPlot(\n",
              "                        '49cc7c8c-3e44-4452-859e-d41596c09d5a',\n",
              "                        [{\"alignmentgroup\": \"True\", \"hoverlabel\": {\"namelength\": 0}, \"hovertemplate\": \"x=%{x}<br>y=%{y}<br>color=%{marker.color}\", \"legendgroup\": \"\", \"marker\": {\"color\": [11, 23, 2, 0, 1, 7, 6, 5, 12, 10, 8, 9, 3, 14, 4, 13, 24, 19, 22, 17, 21, 18, 16, 15, 20, 25, 26, 31, 27, 30, 29, 28, 33, 32], \"coloraxis\": \"coloraxis\"}, \"name\": \"\", \"offsetgroup\": \"\", \"orientation\": \"v\", \"showlegend\": false, \"textposition\": \"auto\", \"type\": \"bar\", \"x\": [11, 23, 2, 0, 1, 7, 6, 5, 12, 10, 8, 9, 3, 14, 4, 13, 24, 19, 22, 17, 21, 18, 16, 15, 20, 25, 26, 31, 27, 30, 29, 28, 33, 32], \"xaxis\": \"x\", \"y\": [143246, 130786, 121347, 115690, 108613, 104772, 100548, 100403, 99349, 96736, 96137, 94202, 94109, 92733, 91759, 89830, 88522, 86614, 86428, 82408, 79361, 78760, 78529, 77906, 73157, 71808, 69977, 57029, 56274, 55549, 54617, 54548, 53514, 50588], \"yaxis\": \"y\"}],\n",
              "                        {\"barmode\": \"relative\", \"coloraxis\": {\"colorbar\": {\"title\": {\"text\": \"color\"}}, \"colorscale\": [[0.0, \"#0d0887\"], [0.1111111111111111, \"#46039f\"], [0.2222222222222222, \"#7201a8\"], [0.3333333333333333, \"#9c179e\"], [0.4444444444444444, \"#bd3786\"], [0.5555555555555556, \"#d8576b\"], [0.6666666666666666, \"#ed7953\"], [0.7777777777777778, \"#fb9f3a\"], [0.8888888888888888, \"#fdca26\"], [1.0, \"#f0f921\"]]}, \"height\": 700, \"legend\": {\"tracegroupgap\": 0}, \"margin\": {\"t\": 60}, \"showlegend\": false, \"template\": {\"data\": {\"bar\": [{\"error_x\": {\"color\": \"#2a3f5f\"}, \"error_y\": {\"color\": \"#2a3f5f\"}, \"marker\": {\"line\": {\"color\": \"#E5ECF6\", \"width\": 0.5}}, \"type\": \"bar\"}], \"barpolar\": [{\"marker\": {\"line\": {\"color\": \"#E5ECF6\", \"width\": 0.5}}, \"type\": \"barpolar\"}], \"carpet\": [{\"aaxis\": {\"endlinecolor\": \"#2a3f5f\", \"gridcolor\": \"white\", \"linecolor\": \"white\", \"minorgridcolor\": \"white\", \"startlinecolor\": \"#2a3f5f\"}, \"baxis\": {\"endlinecolor\": \"#2a3f5f\", \"gridcolor\": \"white\", \"linecolor\": \"white\", \"minorgridcolor\": \"white\", \"startlinecolor\": \"#2a3f5f\"}, \"type\": \"carpet\"}], \"choropleth\": [{\"colorbar\": {\"outlinewidth\": 0, \"ticks\": \"\"}, \"type\": \"choropleth\"}], \"contour\": [{\"colorbar\": {\"outlinewidth\": 0, \"ticks\": \"\"}, \"colorscale\": [[0.0, \"#0d0887\"], [0.1111111111111111, \"#46039f\"], [0.2222222222222222, \"#7201a8\"], [0.3333333333333333, \"#9c179e\"], [0.4444444444444444, \"#bd3786\"], [0.5555555555555556, \"#d8576b\"], [0.6666666666666666, \"#ed7953\"], [0.7777777777777778, \"#fb9f3a\"], [0.8888888888888888, \"#fdca26\"], [1.0, \"#f0f921\"]], \"type\": \"contour\"}], \"contourcarpet\": [{\"colorbar\": {\"outlinewidth\": 0, \"ticks\": \"\"}, \"type\": \"contourcarpet\"}], \"heatmap\": [{\"colorbar\": {\"outlinewidth\": 0, \"ticks\": \"\"}, \"colorscale\": [[0.0, \"#0d0887\"], [0.1111111111111111, \"#46039f\"], [0.2222222222222222, \"#7201a8\"], [0.3333333333333333, \"#9c179e\"], [0.4444444444444444, \"#bd3786\"], [0.5555555555555556, \"#d8576b\"], [0.6666666666666666, \"#ed7953\"], [0.7777777777777778, \"#fb9f3a\"], [0.8888888888888888, \"#fdca26\"], [1.0, \"#f0f921\"]], \"type\": \"heatmap\"}], \"heatmapgl\": [{\"colorbar\": {\"outlinewidth\": 0, \"ticks\": \"\"}, \"colorscale\": [[0.0, \"#0d0887\"], [0.1111111111111111, \"#46039f\"], [0.2222222222222222, \"#7201a8\"], [0.3333333333333333, \"#9c179e\"], [0.4444444444444444, \"#bd3786\"], [0.5555555555555556, \"#d8576b\"], [0.6666666666666666, \"#ed7953\"], [0.7777777777777778, \"#fb9f3a\"], [0.8888888888888888, \"#fdca26\"], [1.0, \"#f0f921\"]], \"type\": \"heatmapgl\"}], \"histogram\": [{\"marker\": {\"colorbar\": {\"outlinewidth\": 0, \"ticks\": \"\"}}, \"type\": \"histogram\"}], \"histogram2d\": [{\"colorbar\": {\"outlinewidth\": 0, \"ticks\": \"\"}, \"colorscale\": [[0.0, \"#0d0887\"], [0.1111111111111111, \"#46039f\"], [0.2222222222222222, \"#7201a8\"], [0.3333333333333333, \"#9c179e\"], [0.4444444444444444, \"#bd3786\"], [0.5555555555555556, \"#d8576b\"], [0.6666666666666666, \"#ed7953\"], [0.7777777777777778, \"#fb9f3a\"], [0.8888888888888888, \"#fdca26\"], [1.0, \"#f0f921\"]], \"type\": \"histogram2d\"}], \"histogram2dcontour\": [{\"colorbar\": {\"outlinewidth\": 0, \"ticks\": \"\"}, \"colorscale\": [[0.0, \"#0d0887\"], [0.1111111111111111, \"#46039f\"], [0.2222222222222222, \"#7201a8\"], [0.3333333333333333, \"#9c179e\"], [0.4444444444444444, \"#bd3786\"], [0.5555555555555556, \"#d8576b\"], [0.6666666666666666, \"#ed7953\"], [0.7777777777777778, \"#fb9f3a\"], [0.8888888888888888, \"#fdca26\"], [1.0, \"#f0f921\"]], \"type\": \"histogram2dcontour\"}], \"mesh3d\": [{\"colorbar\": {\"outlinewidth\": 0, \"ticks\": \"\"}, \"type\": \"mesh3d\"}], \"parcoords\": [{\"line\": {\"colorbar\": {\"outlinewidth\": 0, \"ticks\": \"\"}}, \"type\": \"parcoords\"}], \"pie\": [{\"automargin\": true, \"type\": \"pie\"}], \"scatter\": [{\"marker\": {\"colorbar\": {\"outlinewidth\": 0, \"ticks\": \"\"}}, \"type\": \"scatter\"}], \"scatter3d\": [{\"line\": {\"colorbar\": {\"outlinewidth\": 0, \"ticks\": \"\"}}, \"marker\": {\"colorbar\": {\"outlinewidth\": 0, \"ticks\": \"\"}}, \"type\": \"scatter3d\"}], \"scattercarpet\": [{\"marker\": {\"colorbar\": {\"outlinewidth\": 0, \"ticks\": \"\"}}, \"type\": \"scattercarpet\"}], \"scattergeo\": [{\"marker\": {\"colorbar\": {\"outlinewidth\": 0, \"ticks\": \"\"}}, \"type\": \"scattergeo\"}], \"scattergl\": [{\"marker\": {\"colorbar\": {\"outlinewidth\": 0, \"ticks\": \"\"}}, \"type\": \"scattergl\"}], \"scattermapbox\": [{\"marker\": {\"colorbar\": {\"outlinewidth\": 0, \"ticks\": \"\"}}, \"type\": \"scattermapbox\"}], \"scatterpolar\": [{\"marker\": {\"colorbar\": {\"outlinewidth\": 0, \"ticks\": \"\"}}, \"type\": \"scatterpolar\"}], \"scatterpolargl\": [{\"marker\": {\"colorbar\": {\"outlinewidth\": 0, \"ticks\": \"\"}}, \"type\": \"scatterpolargl\"}], \"scatterternary\": [{\"marker\": {\"colorbar\": {\"outlinewidth\": 0, \"ticks\": \"\"}}, \"type\": \"scatterternary\"}], \"surface\": [{\"colorbar\": {\"outlinewidth\": 0, \"ticks\": \"\"}, \"colorscale\": [[0.0, \"#0d0887\"], [0.1111111111111111, \"#46039f\"], [0.2222222222222222, \"#7201a8\"], [0.3333333333333333, \"#9c179e\"], [0.4444444444444444, \"#bd3786\"], [0.5555555555555556, \"#d8576b\"], [0.6666666666666666, \"#ed7953\"], [0.7777777777777778, \"#fb9f3a\"], [0.8888888888888888, \"#fdca26\"], [1.0, \"#f0f921\"]], \"type\": \"surface\"}], \"table\": [{\"cells\": {\"fill\": {\"color\": \"#EBF0F8\"}, \"line\": {\"color\": \"white\"}}, \"header\": {\"fill\": {\"color\": \"#C8D4E3\"}, \"line\": {\"color\": \"white\"}}, \"type\": \"table\"}]}, \"layout\": {\"annotationdefaults\": {\"arrowcolor\": \"#2a3f5f\", \"arrowhead\": 0, \"arrowwidth\": 1}, \"coloraxis\": {\"colorbar\": {\"outlinewidth\": 0, \"ticks\": \"\"}}, \"colorscale\": {\"diverging\": [[0, \"#8e0152\"], [0.1, \"#c51b7d\"], [0.2, \"#de77ae\"], [0.3, \"#f1b6da\"], [0.4, \"#fde0ef\"], [0.5, \"#f7f7f7\"], [0.6, \"#e6f5d0\"], [0.7, \"#b8e186\"], [0.8, \"#7fbc41\"], [0.9, \"#4d9221\"], [1, \"#276419\"]], \"sequential\": [[0.0, \"#0d0887\"], [0.1111111111111111, \"#46039f\"], [0.2222222222222222, \"#7201a8\"], [0.3333333333333333, \"#9c179e\"], [0.4444444444444444, \"#bd3786\"], [0.5555555555555556, \"#d8576b\"], [0.6666666666666666, \"#ed7953\"], [0.7777777777777778, \"#fb9f3a\"], [0.8888888888888888, \"#fdca26\"], [1.0, \"#f0f921\"]], \"sequentialminus\": [[0.0, \"#0d0887\"], [0.1111111111111111, \"#46039f\"], [0.2222222222222222, \"#7201a8\"], [0.3333333333333333, \"#9c179e\"], [0.4444444444444444, \"#bd3786\"], [0.5555555555555556, \"#d8576b\"], [0.6666666666666666, \"#ed7953\"], [0.7777777777777778, \"#fb9f3a\"], [0.8888888888888888, \"#fdca26\"], [1.0, \"#f0f921\"]]}, \"colorway\": [\"#636efa\", \"#EF553B\", \"#00cc96\", \"#ab63fa\", \"#FFA15A\", \"#19d3f3\", \"#FF6692\", \"#B6E880\", \"#FF97FF\", \"#FECB52\"], \"font\": {\"color\": \"#2a3f5f\"}, \"geo\": {\"bgcolor\": \"white\", \"lakecolor\": \"white\", \"landcolor\": \"#E5ECF6\", \"showlakes\": true, \"showland\": true, \"subunitcolor\": \"white\"}, \"hoverlabel\": {\"align\": \"left\"}, \"hovermode\": \"closest\", \"mapbox\": {\"style\": \"light\"}, \"paper_bgcolor\": \"white\", \"plot_bgcolor\": \"#E5ECF6\", \"polar\": {\"angularaxis\": {\"gridcolor\": \"white\", \"linecolor\": \"white\", \"ticks\": \"\"}, \"bgcolor\": \"#E5ECF6\", \"radialaxis\": {\"gridcolor\": \"white\", \"linecolor\": \"white\", \"ticks\": \"\"}}, \"scene\": {\"xaxis\": {\"backgroundcolor\": \"#E5ECF6\", \"gridcolor\": \"white\", \"gridwidth\": 2, \"linecolor\": \"white\", \"showbackground\": true, \"ticks\": \"\", \"zerolinecolor\": \"white\"}, \"yaxis\": {\"backgroundcolor\": \"#E5ECF6\", \"gridcolor\": \"white\", \"gridwidth\": 2, \"linecolor\": \"white\", \"showbackground\": true, \"ticks\": \"\", \"zerolinecolor\": \"white\"}, \"zaxis\": {\"backgroundcolor\": \"#E5ECF6\", \"gridcolor\": \"white\", \"gridwidth\": 2, \"linecolor\": \"white\", \"showbackground\": true, \"ticks\": \"\", \"zerolinecolor\": \"white\"}}, \"shapedefaults\": {\"line\": {\"color\": \"#2a3f5f\"}}, \"ternary\": {\"aaxis\": {\"gridcolor\": \"white\", \"linecolor\": \"white\", \"ticks\": \"\"}, \"baxis\": {\"gridcolor\": \"white\", \"linecolor\": \"white\", \"ticks\": \"\"}, \"bgcolor\": \"#E5ECF6\", \"caxis\": {\"gridcolor\": \"white\", \"linecolor\": \"white\", \"ticks\": \"\"}}, \"title\": {\"x\": 0.05}, \"xaxis\": {\"automargin\": true, \"gridcolor\": \"white\", \"linecolor\": \"white\", \"ticks\": \"\", \"title\": {\"standoff\": 15}, \"zerolinecolor\": \"white\", \"zerolinewidth\": 2}, \"yaxis\": {\"automargin\": true, \"gridcolor\": \"white\", \"linecolor\": \"white\", \"ticks\": \"\", \"title\": {\"standoff\": 15}, \"zerolinecolor\": \"white\", \"zerolinewidth\": 2}}}, \"title\": {\"text\": \"date_block_num\"}, \"xaxis\": {\"anchor\": \"y\", \"domain\": [0.0, 1.0], \"title\": {\"text\": \"x\"}}, \"yaxis\": {\"anchor\": \"x\", \"domain\": [0.0, 1.0], \"title\": {\"text\": \"y\"}}},\n",
              "                        {\"responsive\": true}\n",
              "                    ).then(function(){\n",
              "                            \n",
              "var gd = document.getElementById('49cc7c8c-3e44-4452-859e-d41596c09d5a');\n",
              "var x = new MutationObserver(function (mutations, observer) {{\n",
              "        var display = window.getComputedStyle(gd).display;\n",
              "        if (!display || display === 'none') {{\n",
              "            console.log([gd, 'removed!']);\n",
              "            Plotly.purge(gd);\n",
              "            observer.disconnect();\n",
              "        }}\n",
              "}});\n",
              "\n",
              "// Listen for the removal of the full notebook cells\n",
              "var notebookContainer = gd.closest('#notebook-container');\n",
              "if (notebookContainer) {{\n",
              "    x.observe(notebookContainer, {childList: true});\n",
              "}}\n",
              "\n",
              "// Listen for the clearing of the current output cell\n",
              "var outputEl = gd.closest('.output');\n",
              "if (outputEl) {{\n",
              "    x.observe(outputEl, {childList: true});\n",
              "}}\n",
              "\n",
              "                        })\n",
              "                };\n",
              "                \n",
              "            </script>\n",
              "        </div>\n",
              "</body>\n",
              "</html>"
            ]
          },
          "metadata": {
            "tags": []
          }
        }
      ]
    },
    {
      "cell_type": "code",
      "metadata": {
        "id": "pCXRothRB47z"
      },
      "source": [
        "def make_lineplot(df, x):\n",
        "  fig = plt.Figure(figsize=(15,10))\n",
        "  fig = px.line(x=df.index, y=df[x])\n",
        "  fig.update_layout(title=x)\n",
        "  return fig"
      ],
      "execution_count": 6,
      "outputs": []
    },
    {
      "cell_type": "code",
      "metadata": {
        "colab": {
          "base_uri": "https://localhost:8080/"
        },
        "id": "ptDdqQyDCCDv",
        "outputId": "ae1c12cd-a931-4e7e-e22e-9302586d5add"
      },
      "source": [
        "sales_gr = sales_df.groupby(['date_block_num']).agg({'item_cnt_day':'sum'})\n",
        "sales_gr.columns = ['item_cnt_month']\n",
        "fig = make_lineplot(sales_gr, 'item_cnt_month')\n",
        "fig.update_traces(hovertemplate='Date_block: %{x}<br>Sales count: %{y}')\n",
        "# again the largets sales are in December and there's a negative trend"
      ],
      "execution_count": null,
      "outputs": [
        {
          "output_type": "display_data",
          "data": {
            "text/html": [
              "<html>\n",
              "<head><meta charset=\"utf-8\" /></head>\n",
              "<body>\n",
              "    <div>\n",
              "            <script src=\"https://cdnjs.cloudflare.com/ajax/libs/mathjax/2.7.5/MathJax.js?config=TeX-AMS-MML_SVG\"></script><script type=\"text/javascript\">if (window.MathJax) {MathJax.Hub.Config({SVG: {font: \"STIX-Web\"}});}</script>\n",
              "                <script type=\"text/javascript\">window.PlotlyConfig = {MathJaxConfig: 'local'};</script>\n",
              "        <script src=\"https://cdn.plot.ly/plotly-latest.min.js\"></script>    \n",
              "            <div id=\"be7c373d-97ae-4b99-ab77-26888bf14715\" class=\"plotly-graph-div\" style=\"height:525px; width:100%;\"></div>\n",
              "            <script type=\"text/javascript\">\n",
              "                \n",
              "                    window.PLOTLYENV=window.PLOTLYENV || {};\n",
              "                    \n",
              "                if (document.getElementById(\"be7c373d-97ae-4b99-ab77-26888bf14715\")) {\n",
              "                    Plotly.newPlot(\n",
              "                        'be7c373d-97ae-4b99-ab77-26888bf14715',\n",
              "                        [{\"hoverlabel\": {\"namelength\": 0}, \"hovertemplate\": \"Date_block: %{x}<br>Sales count: %{y}\", \"legendgroup\": \"\", \"line\": {\"color\": \"#636efa\", \"dash\": \"solid\"}, \"mode\": \"lines\", \"name\": \"\", \"showlegend\": false, \"type\": \"scatter\", \"x\": [0, 1, 2, 3, 4, 5, 6, 7, 8, 9, 10, 11, 12, 13, 14, 15, 16, 17, 18, 19, 20, 21, 22, 23, 24, 25, 26, 27, 28, 29, 30, 31, 32, 33], \"xaxis\": \"x\", \"y\": [131479.0, 128090.0, 147142.0, 107190.0, 106970.0, 125381.0, 116966.0, 125291.0, 133332.0, 127541.0, 130009.0, 183342.0, 116899.0, 109687.0, 115297.0, 96556.0, 97790.0, 97429.0, 91280.0, 102721.0, 99208.0, 107422.0, 117845.0, 168755.0, 110971.0, 84198.0, 82014.0, 77827.0, 72295.0, 64114.0, 63187.0, 66079.0, 72843.0, 71056.0], \"yaxis\": \"y\"}],\n",
              "                        {\"legend\": {\"tracegroupgap\": 0}, \"margin\": {\"t\": 60}, \"template\": {\"data\": {\"bar\": [{\"error_x\": {\"color\": \"#2a3f5f\"}, \"error_y\": {\"color\": \"#2a3f5f\"}, \"marker\": {\"line\": {\"color\": \"#E5ECF6\", \"width\": 0.5}}, \"type\": \"bar\"}], \"barpolar\": [{\"marker\": {\"line\": {\"color\": \"#E5ECF6\", \"width\": 0.5}}, \"type\": \"barpolar\"}], \"carpet\": [{\"aaxis\": {\"endlinecolor\": \"#2a3f5f\", \"gridcolor\": \"white\", \"linecolor\": \"white\", \"minorgridcolor\": \"white\", \"startlinecolor\": \"#2a3f5f\"}, \"baxis\": {\"endlinecolor\": \"#2a3f5f\", \"gridcolor\": \"white\", \"linecolor\": \"white\", \"minorgridcolor\": \"white\", \"startlinecolor\": \"#2a3f5f\"}, \"type\": \"carpet\"}], \"choropleth\": [{\"colorbar\": {\"outlinewidth\": 0, \"ticks\": \"\"}, \"type\": \"choropleth\"}], \"contour\": [{\"colorbar\": {\"outlinewidth\": 0, \"ticks\": \"\"}, \"colorscale\": [[0.0, \"#0d0887\"], [0.1111111111111111, \"#46039f\"], [0.2222222222222222, \"#7201a8\"], [0.3333333333333333, \"#9c179e\"], [0.4444444444444444, \"#bd3786\"], [0.5555555555555556, \"#d8576b\"], [0.6666666666666666, \"#ed7953\"], [0.7777777777777778, \"#fb9f3a\"], [0.8888888888888888, \"#fdca26\"], [1.0, \"#f0f921\"]], \"type\": \"contour\"}], \"contourcarpet\": [{\"colorbar\": {\"outlinewidth\": 0, \"ticks\": \"\"}, \"type\": \"contourcarpet\"}], \"heatmap\": [{\"colorbar\": {\"outlinewidth\": 0, \"ticks\": \"\"}, \"colorscale\": [[0.0, \"#0d0887\"], [0.1111111111111111, \"#46039f\"], [0.2222222222222222, \"#7201a8\"], [0.3333333333333333, \"#9c179e\"], [0.4444444444444444, \"#bd3786\"], [0.5555555555555556, \"#d8576b\"], [0.6666666666666666, \"#ed7953\"], [0.7777777777777778, \"#fb9f3a\"], [0.8888888888888888, \"#fdca26\"], [1.0, \"#f0f921\"]], \"type\": \"heatmap\"}], \"heatmapgl\": [{\"colorbar\": {\"outlinewidth\": 0, \"ticks\": \"\"}, \"colorscale\": [[0.0, \"#0d0887\"], [0.1111111111111111, \"#46039f\"], [0.2222222222222222, \"#7201a8\"], [0.3333333333333333, \"#9c179e\"], [0.4444444444444444, \"#bd3786\"], [0.5555555555555556, \"#d8576b\"], [0.6666666666666666, \"#ed7953\"], [0.7777777777777778, \"#fb9f3a\"], [0.8888888888888888, \"#fdca26\"], [1.0, \"#f0f921\"]], \"type\": \"heatmapgl\"}], \"histogram\": [{\"marker\": {\"colorbar\": {\"outlinewidth\": 0, \"ticks\": \"\"}}, \"type\": \"histogram\"}], \"histogram2d\": [{\"colorbar\": {\"outlinewidth\": 0, \"ticks\": \"\"}, \"colorscale\": [[0.0, \"#0d0887\"], [0.1111111111111111, \"#46039f\"], [0.2222222222222222, \"#7201a8\"], [0.3333333333333333, \"#9c179e\"], [0.4444444444444444, \"#bd3786\"], [0.5555555555555556, \"#d8576b\"], [0.6666666666666666, \"#ed7953\"], [0.7777777777777778, \"#fb9f3a\"], [0.8888888888888888, \"#fdca26\"], [1.0, \"#f0f921\"]], \"type\": \"histogram2d\"}], \"histogram2dcontour\": [{\"colorbar\": {\"outlinewidth\": 0, \"ticks\": \"\"}, \"colorscale\": [[0.0, \"#0d0887\"], [0.1111111111111111, \"#46039f\"], [0.2222222222222222, \"#7201a8\"], [0.3333333333333333, \"#9c179e\"], [0.4444444444444444, \"#bd3786\"], [0.5555555555555556, \"#d8576b\"], [0.6666666666666666, \"#ed7953\"], [0.7777777777777778, \"#fb9f3a\"], [0.8888888888888888, \"#fdca26\"], [1.0, \"#f0f921\"]], \"type\": \"histogram2dcontour\"}], \"mesh3d\": [{\"colorbar\": {\"outlinewidth\": 0, \"ticks\": \"\"}, \"type\": \"mesh3d\"}], \"parcoords\": [{\"line\": {\"colorbar\": {\"outlinewidth\": 0, \"ticks\": \"\"}}, \"type\": \"parcoords\"}], \"pie\": [{\"automargin\": true, \"type\": \"pie\"}], \"scatter\": [{\"marker\": {\"colorbar\": {\"outlinewidth\": 0, \"ticks\": \"\"}}, \"type\": \"scatter\"}], \"scatter3d\": [{\"line\": {\"colorbar\": {\"outlinewidth\": 0, \"ticks\": \"\"}}, \"marker\": {\"colorbar\": {\"outlinewidth\": 0, \"ticks\": \"\"}}, \"type\": \"scatter3d\"}], \"scattercarpet\": [{\"marker\": {\"colorbar\": {\"outlinewidth\": 0, \"ticks\": \"\"}}, \"type\": \"scattercarpet\"}], \"scattergeo\": [{\"marker\": {\"colorbar\": {\"outlinewidth\": 0, \"ticks\": \"\"}}, \"type\": \"scattergeo\"}], \"scattergl\": [{\"marker\": {\"colorbar\": {\"outlinewidth\": 0, \"ticks\": \"\"}}, \"type\": \"scattergl\"}], \"scattermapbox\": [{\"marker\": {\"colorbar\": {\"outlinewidth\": 0, \"ticks\": \"\"}}, \"type\": \"scattermapbox\"}], \"scatterpolar\": [{\"marker\": {\"colorbar\": {\"outlinewidth\": 0, \"ticks\": \"\"}}, \"type\": \"scatterpolar\"}], \"scatterpolargl\": [{\"marker\": {\"colorbar\": {\"outlinewidth\": 0, \"ticks\": \"\"}}, \"type\": \"scatterpolargl\"}], \"scatterternary\": [{\"marker\": {\"colorbar\": {\"outlinewidth\": 0, \"ticks\": \"\"}}, \"type\": \"scatterternary\"}], \"surface\": [{\"colorbar\": {\"outlinewidth\": 0, \"ticks\": \"\"}, \"colorscale\": [[0.0, \"#0d0887\"], [0.1111111111111111, \"#46039f\"], [0.2222222222222222, \"#7201a8\"], [0.3333333333333333, \"#9c179e\"], [0.4444444444444444, \"#bd3786\"], [0.5555555555555556, \"#d8576b\"], [0.6666666666666666, \"#ed7953\"], [0.7777777777777778, \"#fb9f3a\"], [0.8888888888888888, \"#fdca26\"], [1.0, \"#f0f921\"]], \"type\": \"surface\"}], \"table\": [{\"cells\": {\"fill\": {\"color\": \"#EBF0F8\"}, \"line\": {\"color\": \"white\"}}, \"header\": {\"fill\": {\"color\": \"#C8D4E3\"}, \"line\": {\"color\": \"white\"}}, \"type\": \"table\"}]}, \"layout\": {\"annotationdefaults\": {\"arrowcolor\": \"#2a3f5f\", \"arrowhead\": 0, \"arrowwidth\": 1}, \"coloraxis\": {\"colorbar\": {\"outlinewidth\": 0, \"ticks\": \"\"}}, \"colorscale\": {\"diverging\": [[0, \"#8e0152\"], [0.1, \"#c51b7d\"], [0.2, \"#de77ae\"], [0.3, \"#f1b6da\"], [0.4, \"#fde0ef\"], [0.5, \"#f7f7f7\"], [0.6, \"#e6f5d0\"], [0.7, \"#b8e186\"], [0.8, \"#7fbc41\"], [0.9, \"#4d9221\"], [1, \"#276419\"]], \"sequential\": [[0.0, \"#0d0887\"], [0.1111111111111111, \"#46039f\"], [0.2222222222222222, \"#7201a8\"], [0.3333333333333333, \"#9c179e\"], [0.4444444444444444, \"#bd3786\"], [0.5555555555555556, \"#d8576b\"], [0.6666666666666666, \"#ed7953\"], [0.7777777777777778, \"#fb9f3a\"], [0.8888888888888888, \"#fdca26\"], [1.0, \"#f0f921\"]], \"sequentialminus\": [[0.0, \"#0d0887\"], [0.1111111111111111, \"#46039f\"], [0.2222222222222222, \"#7201a8\"], [0.3333333333333333, \"#9c179e\"], [0.4444444444444444, \"#bd3786\"], [0.5555555555555556, \"#d8576b\"], [0.6666666666666666, \"#ed7953\"], [0.7777777777777778, \"#fb9f3a\"], [0.8888888888888888, \"#fdca26\"], [1.0, \"#f0f921\"]]}, \"colorway\": [\"#636efa\", \"#EF553B\", \"#00cc96\", \"#ab63fa\", \"#FFA15A\", \"#19d3f3\", \"#FF6692\", \"#B6E880\", \"#FF97FF\", \"#FECB52\"], \"font\": {\"color\": \"#2a3f5f\"}, \"geo\": {\"bgcolor\": \"white\", \"lakecolor\": \"white\", \"landcolor\": \"#E5ECF6\", \"showlakes\": true, \"showland\": true, \"subunitcolor\": \"white\"}, \"hoverlabel\": {\"align\": \"left\"}, \"hovermode\": \"closest\", \"mapbox\": {\"style\": \"light\"}, \"paper_bgcolor\": \"white\", \"plot_bgcolor\": \"#E5ECF6\", \"polar\": {\"angularaxis\": {\"gridcolor\": \"white\", \"linecolor\": \"white\", \"ticks\": \"\"}, \"bgcolor\": \"#E5ECF6\", \"radialaxis\": {\"gridcolor\": \"white\", \"linecolor\": \"white\", \"ticks\": \"\"}}, \"scene\": {\"xaxis\": {\"backgroundcolor\": \"#E5ECF6\", \"gridcolor\": \"white\", \"gridwidth\": 2, \"linecolor\": \"white\", \"showbackground\": true, \"ticks\": \"\", \"zerolinecolor\": \"white\"}, \"yaxis\": {\"backgroundcolor\": \"#E5ECF6\", \"gridcolor\": \"white\", \"gridwidth\": 2, \"linecolor\": \"white\", \"showbackground\": true, \"ticks\": \"\", \"zerolinecolor\": \"white\"}, \"zaxis\": {\"backgroundcolor\": \"#E5ECF6\", \"gridcolor\": \"white\", \"gridwidth\": 2, \"linecolor\": \"white\", \"showbackground\": true, \"ticks\": \"\", \"zerolinecolor\": \"white\"}}, \"shapedefaults\": {\"line\": {\"color\": \"#2a3f5f\"}}, \"ternary\": {\"aaxis\": {\"gridcolor\": \"white\", \"linecolor\": \"white\", \"ticks\": \"\"}, \"baxis\": {\"gridcolor\": \"white\", \"linecolor\": \"white\", \"ticks\": \"\"}, \"bgcolor\": \"#E5ECF6\", \"caxis\": {\"gridcolor\": \"white\", \"linecolor\": \"white\", \"ticks\": \"\"}}, \"title\": {\"x\": 0.05}, \"xaxis\": {\"automargin\": true, \"gridcolor\": \"white\", \"linecolor\": \"white\", \"ticks\": \"\", \"title\": {\"standoff\": 15}, \"zerolinecolor\": \"white\", \"zerolinewidth\": 2}, \"yaxis\": {\"automargin\": true, \"gridcolor\": \"white\", \"linecolor\": \"white\", \"ticks\": \"\", \"title\": {\"standoff\": 15}, \"zerolinecolor\": \"white\", \"zerolinewidth\": 2}}}, \"title\": {\"text\": \"item_cnt_month\"}, \"xaxis\": {\"anchor\": \"y\", \"domain\": [0.0, 1.0], \"title\": {\"text\": \"x\"}}, \"yaxis\": {\"anchor\": \"x\", \"domain\": [0.0, 1.0], \"title\": {\"text\": \"y\"}}},\n",
              "                        {\"responsive\": true}\n",
              "                    ).then(function(){\n",
              "                            \n",
              "var gd = document.getElementById('be7c373d-97ae-4b99-ab77-26888bf14715');\n",
              "var x = new MutationObserver(function (mutations, observer) {{\n",
              "        var display = window.getComputedStyle(gd).display;\n",
              "        if (!display || display === 'none') {{\n",
              "            console.log([gd, 'removed!']);\n",
              "            Plotly.purge(gd);\n",
              "            observer.disconnect();\n",
              "        }}\n",
              "}});\n",
              "\n",
              "// Listen for the removal of the full notebook cells\n",
              "var notebookContainer = gd.closest('#notebook-container');\n",
              "if (notebookContainer) {{\n",
              "    x.observe(notebookContainer, {childList: true});\n",
              "}}\n",
              "\n",
              "// Listen for the clearing of the current output cell\n",
              "var outputEl = gd.closest('.output');\n",
              "if (outputEl) {{\n",
              "    x.observe(outputEl, {childList: true});\n",
              "}}\n",
              "\n",
              "                        })\n",
              "                };\n",
              "                \n",
              "            </script>\n",
              "        </div>\n",
              "</body>\n",
              "</html>"
            ]
          },
          "metadata": {
            "tags": []
          }
        }
      ]
    },
    {
      "cell_type": "code",
      "metadata": {
        "colab": {
          "base_uri": "https://localhost:8080/",
          "height": 0
        },
        "id": "3L7Lk2KO5fT4",
        "outputId": "845f037d-0037-45d9-b341-f4509b59afce"
      },
      "source": [
        "sales_gr = sales_df.groupby(['date_block_num']).agg({'item_price':'sum'})\n",
        "sales_gr.columns = ['item_price_month']\n",
        "fig = make_lineplot(sales_gr, 'item_price_month')\n",
        "fig.update_traces(hovertemplate='Date_block: %{x}<br>Sale\\'s price sum: %{y}')\n",
        "# but prices have positive trend, so in Russia prices are getting higher and thus amount of sales is getting lower"
      ],
      "execution_count": 8,
      "outputs": [
        {
          "output_type": "display_data",
          "data": {
            "text/html": [
              "<html>\n",
              "<head><meta charset=\"utf-8\" /></head>\n",
              "<body>\n",
              "    <div>\n",
              "            <script src=\"https://cdnjs.cloudflare.com/ajax/libs/mathjax/2.7.5/MathJax.js?config=TeX-AMS-MML_SVG\"></script><script type=\"text/javascript\">if (window.MathJax) {MathJax.Hub.Config({SVG: {font: \"STIX-Web\"}});}</script>\n",
              "                <script type=\"text/javascript\">window.PlotlyConfig = {MathJaxConfig: 'local'};</script>\n",
              "        <script src=\"https://cdn.plot.ly/plotly-latest.min.js\"></script>    \n",
              "            <div id=\"3dfe6dac-b692-4b0b-9d09-b7f83f222e48\" class=\"plotly-graph-div\" style=\"height:525px; width:100%;\"></div>\n",
              "            <script type=\"text/javascript\">\n",
              "                \n",
              "                    window.PLOTLYENV=window.PLOTLYENV || {};\n",
              "                    \n",
              "                if (document.getElementById(\"3dfe6dac-b692-4b0b-9d09-b7f83f222e48\")) {\n",
              "                    Plotly.newPlot(\n",
              "                        '3dfe6dac-b692-4b0b-9d09-b7f83f222e48',\n",
              "                        [{\"hoverlabel\": {\"namelength\": 0}, \"hovertemplate\": \"Date_block: %{x}<br>Sale's price sum: %{y}\", \"legendgroup\": \"\", \"line\": {\"color\": \"#636efa\", \"dash\": \"solid\"}, \"mode\": \"lines\", \"name\": \"\", \"showlegend\": false, \"type\": \"scatter\", \"x\": [0, 1, 2, 3, 4, 5, 6, 7, 8, 9, 10, 11, 12, 13, 14, 15, 16, 17, 18, 19, 20, 21, 22, 23, 24, 25, 26, 27, 28, 29, 30, 31, 32, 33], \"xaxis\": \"x\", \"y\": [82211873.87742256, 75580186.84336154, 84298312.37509099, 61512822.9606097, 57274131.97228606, 63343614.548592106, 62196805.565189034, 65438166.220657274, 72701570.3905532, 73914970.757308, 79608879.53471324, 143179939.45005172, 85725184.9680059, 77833052.58072169, 83558754.70457716, 66388389.97358489, 67538020.34089772, 71986538.50142667, 66713376.00903074, 76816198.24634881, 77354881.155712, 84889210.22459365, 105344816.13378154, 179405711.53881103, 100573603.75473604, 72559497.17699564, 71458418.77570714, 58971925.92735056, 58742712.05827467, 55733236.74655476, 53706350.26295532, 54255915.755504906, 59061605.84328251, 65531897.18853382], \"yaxis\": \"y\"}],\n",
              "                        {\"legend\": {\"tracegroupgap\": 0}, \"margin\": {\"t\": 60}, \"template\": {\"data\": {\"bar\": [{\"error_x\": {\"color\": \"#2a3f5f\"}, \"error_y\": {\"color\": \"#2a3f5f\"}, \"marker\": {\"line\": {\"color\": \"#E5ECF6\", \"width\": 0.5}}, \"type\": \"bar\"}], \"barpolar\": [{\"marker\": {\"line\": {\"color\": \"#E5ECF6\", \"width\": 0.5}}, \"type\": \"barpolar\"}], \"carpet\": [{\"aaxis\": {\"endlinecolor\": \"#2a3f5f\", \"gridcolor\": \"white\", \"linecolor\": \"white\", \"minorgridcolor\": \"white\", \"startlinecolor\": \"#2a3f5f\"}, \"baxis\": {\"endlinecolor\": \"#2a3f5f\", \"gridcolor\": \"white\", \"linecolor\": \"white\", \"minorgridcolor\": \"white\", \"startlinecolor\": \"#2a3f5f\"}, \"type\": \"carpet\"}], \"choropleth\": [{\"colorbar\": {\"outlinewidth\": 0, \"ticks\": \"\"}, \"type\": \"choropleth\"}], \"contour\": [{\"colorbar\": {\"outlinewidth\": 0, \"ticks\": \"\"}, \"colorscale\": [[0.0, \"#0d0887\"], [0.1111111111111111, \"#46039f\"], [0.2222222222222222, \"#7201a8\"], [0.3333333333333333, \"#9c179e\"], [0.4444444444444444, \"#bd3786\"], [0.5555555555555556, \"#d8576b\"], [0.6666666666666666, \"#ed7953\"], [0.7777777777777778, \"#fb9f3a\"], [0.8888888888888888, \"#fdca26\"], [1.0, \"#f0f921\"]], \"type\": \"contour\"}], \"contourcarpet\": [{\"colorbar\": {\"outlinewidth\": 0, \"ticks\": \"\"}, \"type\": \"contourcarpet\"}], \"heatmap\": [{\"colorbar\": {\"outlinewidth\": 0, \"ticks\": \"\"}, \"colorscale\": [[0.0, \"#0d0887\"], [0.1111111111111111, \"#46039f\"], [0.2222222222222222, \"#7201a8\"], [0.3333333333333333, \"#9c179e\"], [0.4444444444444444, \"#bd3786\"], [0.5555555555555556, \"#d8576b\"], [0.6666666666666666, \"#ed7953\"], [0.7777777777777778, \"#fb9f3a\"], [0.8888888888888888, \"#fdca26\"], [1.0, \"#f0f921\"]], \"type\": \"heatmap\"}], \"heatmapgl\": [{\"colorbar\": {\"outlinewidth\": 0, \"ticks\": \"\"}, \"colorscale\": [[0.0, \"#0d0887\"], [0.1111111111111111, \"#46039f\"], [0.2222222222222222, \"#7201a8\"], [0.3333333333333333, \"#9c179e\"], [0.4444444444444444, \"#bd3786\"], [0.5555555555555556, \"#d8576b\"], [0.6666666666666666, \"#ed7953\"], [0.7777777777777778, \"#fb9f3a\"], [0.8888888888888888, \"#fdca26\"], [1.0, \"#f0f921\"]], \"type\": \"heatmapgl\"}], \"histogram\": [{\"marker\": {\"colorbar\": {\"outlinewidth\": 0, \"ticks\": \"\"}}, \"type\": \"histogram\"}], \"histogram2d\": [{\"colorbar\": {\"outlinewidth\": 0, \"ticks\": \"\"}, \"colorscale\": [[0.0, \"#0d0887\"], [0.1111111111111111, \"#46039f\"], [0.2222222222222222, \"#7201a8\"], [0.3333333333333333, \"#9c179e\"], [0.4444444444444444, \"#bd3786\"], [0.5555555555555556, \"#d8576b\"], [0.6666666666666666, \"#ed7953\"], [0.7777777777777778, \"#fb9f3a\"], [0.8888888888888888, \"#fdca26\"], [1.0, \"#f0f921\"]], \"type\": \"histogram2d\"}], \"histogram2dcontour\": [{\"colorbar\": {\"outlinewidth\": 0, \"ticks\": \"\"}, \"colorscale\": [[0.0, \"#0d0887\"], [0.1111111111111111, \"#46039f\"], [0.2222222222222222, \"#7201a8\"], [0.3333333333333333, \"#9c179e\"], [0.4444444444444444, \"#bd3786\"], [0.5555555555555556, \"#d8576b\"], [0.6666666666666666, \"#ed7953\"], [0.7777777777777778, \"#fb9f3a\"], [0.8888888888888888, \"#fdca26\"], [1.0, \"#f0f921\"]], \"type\": \"histogram2dcontour\"}], \"mesh3d\": [{\"colorbar\": {\"outlinewidth\": 0, \"ticks\": \"\"}, \"type\": \"mesh3d\"}], \"parcoords\": [{\"line\": {\"colorbar\": {\"outlinewidth\": 0, \"ticks\": \"\"}}, \"type\": \"parcoords\"}], \"pie\": [{\"automargin\": true, \"type\": \"pie\"}], \"scatter\": [{\"marker\": {\"colorbar\": {\"outlinewidth\": 0, \"ticks\": \"\"}}, \"type\": \"scatter\"}], \"scatter3d\": [{\"line\": {\"colorbar\": {\"outlinewidth\": 0, \"ticks\": \"\"}}, \"marker\": {\"colorbar\": {\"outlinewidth\": 0, \"ticks\": \"\"}}, \"type\": \"scatter3d\"}], \"scattercarpet\": [{\"marker\": {\"colorbar\": {\"outlinewidth\": 0, \"ticks\": \"\"}}, \"type\": \"scattercarpet\"}], \"scattergeo\": [{\"marker\": {\"colorbar\": {\"outlinewidth\": 0, \"ticks\": \"\"}}, \"type\": \"scattergeo\"}], \"scattergl\": [{\"marker\": {\"colorbar\": {\"outlinewidth\": 0, \"ticks\": \"\"}}, \"type\": \"scattergl\"}], \"scattermapbox\": [{\"marker\": {\"colorbar\": {\"outlinewidth\": 0, \"ticks\": \"\"}}, \"type\": \"scattermapbox\"}], \"scatterpolar\": [{\"marker\": {\"colorbar\": {\"outlinewidth\": 0, \"ticks\": \"\"}}, \"type\": \"scatterpolar\"}], \"scatterpolargl\": [{\"marker\": {\"colorbar\": {\"outlinewidth\": 0, \"ticks\": \"\"}}, \"type\": \"scatterpolargl\"}], \"scatterternary\": [{\"marker\": {\"colorbar\": {\"outlinewidth\": 0, \"ticks\": \"\"}}, \"type\": \"scatterternary\"}], \"surface\": [{\"colorbar\": {\"outlinewidth\": 0, \"ticks\": \"\"}, \"colorscale\": [[0.0, \"#0d0887\"], [0.1111111111111111, \"#46039f\"], [0.2222222222222222, \"#7201a8\"], [0.3333333333333333, \"#9c179e\"], [0.4444444444444444, \"#bd3786\"], [0.5555555555555556, \"#d8576b\"], [0.6666666666666666, \"#ed7953\"], [0.7777777777777778, \"#fb9f3a\"], [0.8888888888888888, \"#fdca26\"], [1.0, \"#f0f921\"]], \"type\": \"surface\"}], \"table\": [{\"cells\": {\"fill\": {\"color\": \"#EBF0F8\"}, \"line\": {\"color\": \"white\"}}, \"header\": {\"fill\": {\"color\": \"#C8D4E3\"}, \"line\": {\"color\": \"white\"}}, \"type\": \"table\"}]}, \"layout\": {\"annotationdefaults\": {\"arrowcolor\": \"#2a3f5f\", \"arrowhead\": 0, \"arrowwidth\": 1}, \"coloraxis\": {\"colorbar\": {\"outlinewidth\": 0, \"ticks\": \"\"}}, \"colorscale\": {\"diverging\": [[0, \"#8e0152\"], [0.1, \"#c51b7d\"], [0.2, \"#de77ae\"], [0.3, \"#f1b6da\"], [0.4, \"#fde0ef\"], [0.5, \"#f7f7f7\"], [0.6, \"#e6f5d0\"], [0.7, \"#b8e186\"], [0.8, \"#7fbc41\"], [0.9, \"#4d9221\"], [1, \"#276419\"]], \"sequential\": [[0.0, \"#0d0887\"], [0.1111111111111111, \"#46039f\"], [0.2222222222222222, \"#7201a8\"], [0.3333333333333333, \"#9c179e\"], [0.4444444444444444, \"#bd3786\"], [0.5555555555555556, \"#d8576b\"], [0.6666666666666666, \"#ed7953\"], [0.7777777777777778, \"#fb9f3a\"], [0.8888888888888888, \"#fdca26\"], [1.0, \"#f0f921\"]], \"sequentialminus\": [[0.0, \"#0d0887\"], [0.1111111111111111, \"#46039f\"], [0.2222222222222222, \"#7201a8\"], [0.3333333333333333, \"#9c179e\"], [0.4444444444444444, \"#bd3786\"], [0.5555555555555556, \"#d8576b\"], [0.6666666666666666, \"#ed7953\"], [0.7777777777777778, \"#fb9f3a\"], [0.8888888888888888, \"#fdca26\"], [1.0, \"#f0f921\"]]}, \"colorway\": [\"#636efa\", \"#EF553B\", \"#00cc96\", \"#ab63fa\", \"#FFA15A\", \"#19d3f3\", \"#FF6692\", \"#B6E880\", \"#FF97FF\", \"#FECB52\"], \"font\": {\"color\": \"#2a3f5f\"}, \"geo\": {\"bgcolor\": \"white\", \"lakecolor\": \"white\", \"landcolor\": \"#E5ECF6\", \"showlakes\": true, \"showland\": true, \"subunitcolor\": \"white\"}, \"hoverlabel\": {\"align\": \"left\"}, \"hovermode\": \"closest\", \"mapbox\": {\"style\": \"light\"}, \"paper_bgcolor\": \"white\", \"plot_bgcolor\": \"#E5ECF6\", \"polar\": {\"angularaxis\": {\"gridcolor\": \"white\", \"linecolor\": \"white\", \"ticks\": \"\"}, \"bgcolor\": \"#E5ECF6\", \"radialaxis\": {\"gridcolor\": \"white\", \"linecolor\": \"white\", \"ticks\": \"\"}}, \"scene\": {\"xaxis\": {\"backgroundcolor\": \"#E5ECF6\", \"gridcolor\": \"white\", \"gridwidth\": 2, \"linecolor\": \"white\", \"showbackground\": true, \"ticks\": \"\", \"zerolinecolor\": \"white\"}, \"yaxis\": {\"backgroundcolor\": \"#E5ECF6\", \"gridcolor\": \"white\", \"gridwidth\": 2, \"linecolor\": \"white\", \"showbackground\": true, \"ticks\": \"\", \"zerolinecolor\": \"white\"}, \"zaxis\": {\"backgroundcolor\": \"#E5ECF6\", \"gridcolor\": \"white\", \"gridwidth\": 2, \"linecolor\": \"white\", \"showbackground\": true, \"ticks\": \"\", \"zerolinecolor\": \"white\"}}, \"shapedefaults\": {\"line\": {\"color\": \"#2a3f5f\"}}, \"ternary\": {\"aaxis\": {\"gridcolor\": \"white\", \"linecolor\": \"white\", \"ticks\": \"\"}, \"baxis\": {\"gridcolor\": \"white\", \"linecolor\": \"white\", \"ticks\": \"\"}, \"bgcolor\": \"#E5ECF6\", \"caxis\": {\"gridcolor\": \"white\", \"linecolor\": \"white\", \"ticks\": \"\"}}, \"title\": {\"x\": 0.05}, \"xaxis\": {\"automargin\": true, \"gridcolor\": \"white\", \"linecolor\": \"white\", \"ticks\": \"\", \"title\": {\"standoff\": 15}, \"zerolinecolor\": \"white\", \"zerolinewidth\": 2}, \"yaxis\": {\"automargin\": true, \"gridcolor\": \"white\", \"linecolor\": \"white\", \"ticks\": \"\", \"title\": {\"standoff\": 15}, \"zerolinecolor\": \"white\", \"zerolinewidth\": 2}}}, \"title\": {\"text\": \"item_price_month\"}, \"xaxis\": {\"anchor\": \"y\", \"domain\": [0.0, 1.0], \"title\": {\"text\": \"x\"}}, \"yaxis\": {\"anchor\": \"x\", \"domain\": [0.0, 1.0], \"title\": {\"text\": \"y\"}}},\n",
              "                        {\"responsive\": true}\n",
              "                    ).then(function(){\n",
              "                            \n",
              "var gd = document.getElementById('3dfe6dac-b692-4b0b-9d09-b7f83f222e48');\n",
              "var x = new MutationObserver(function (mutations, observer) {{\n",
              "        var display = window.getComputedStyle(gd).display;\n",
              "        if (!display || display === 'none') {{\n",
              "            console.log([gd, 'removed!']);\n",
              "            Plotly.purge(gd);\n",
              "            observer.disconnect();\n",
              "        }}\n",
              "}});\n",
              "\n",
              "// Listen for the removal of the full notebook cells\n",
              "var notebookContainer = gd.closest('#notebook-container');\n",
              "if (notebookContainer) {{\n",
              "    x.observe(notebookContainer, {childList: true});\n",
              "}}\n",
              "\n",
              "// Listen for the clearing of the current output cell\n",
              "var outputEl = gd.closest('.output');\n",
              "if (outputEl) {{\n",
              "    x.observe(outputEl, {childList: true});\n",
              "}}\n",
              "\n",
              "                        })\n",
              "                };\n",
              "                \n",
              "            </script>\n",
              "        </div>\n",
              "</body>\n",
              "</html>"
            ]
          },
          "metadata": {
            "tags": []
          }
        }
      ]
    },
    {
      "cell_type": "code",
      "metadata": {
        "id": "MkbZ-tQ9c_Uy",
        "colab": {
          "base_uri": "https://localhost:8080/"
        },
        "outputId": "2e646808-3829-476c-b0a0-a57cbcde936f"
      },
      "source": [
        "# outliers + negative values\n",
        "# on kaggle there's an assumtion that 'item_cnt_day' of -1 means returned goods\n",
        "# and what concerns 'item_price', this is probably due to mistake in data\n",
        "plt.figure(figsize=(15,5))\n",
        "plt.subplot(121)\n",
        "sns.boxplot(x=sales_df.item_cnt_day)\n",
        "plt.subplot(122)\n",
        "sns.boxplot(x=sales_df.item_price)"
      ],
      "execution_count": null,
      "outputs": [
        {
          "output_type": "execute_result",
          "data": {
            "text/plain": [
              "<matplotlib.axes._subplots.AxesSubplot at 0x7f6bb3a8d668>"
            ]
          },
          "metadata": {
            "tags": []
          },
          "execution_count": 32
        },
        {
          "output_type": "display_data",
          "data": {
            "image/png": "[encoded data removed]",
            "text/plain": [
              "<Figure size 1080x360 with 2 Axes>"
            ]
          },
          "metadata": {
            "tags": [],
            "needs_background": "light"
          }
        }
      ]
    },
    {
      "cell_type": "markdown",
      "metadata": {
        "id": "X13gyjamVCaJ"
      },
      "source": [
        "## Cleaning and extracting features"
      ]
    },
    {
      "cell_type": "code",
      "metadata": {
        "id": "2Rnyn6L30eAn"
      },
      "source": [
        "# viewed on kaggle notebooks\n",
        "# did this as these shop ids are the same, but have misspellings\n",
        "sales_df.loc[sales_df['shop_id'] == 0, 'shop_id'] = 57\n",
        "test_df.loc[test_df['shop_id'] == 0, 'shop_id'] = 57\n",
        "\n",
        "sales_df.loc[sales_df['shop_id'] == 1, 'shop_id'] = 58\n",
        "test_df.loc[test_df['shop_id'] == 1, 'shop_id'] = 58\n",
        "\n",
        "sales_df.loc[sales_df['shop_id'] == 10, 'shop_id'] = 11\n",
        "test_df.loc[test_df['shop_id'] == 10, 'shop_id'] = 11"
      ],
      "execution_count": 112,
      "outputs": []
    },
    {
      "cell_type": "code",
      "metadata": {
        "id": "_hHzuLufgHe9"
      },
      "source": [
        "# get rid of outliers\n",
        "sales_df = sales_df[sales_df.item_cnt_day < 1001]\n",
        "sales_df = sales_df[sales_df.item_price < 100000]"
      ],
      "execution_count": 113,
      "outputs": []
    },
    {
      "cell_type": "code",
      "metadata": {
        "colab": {
          "base_uri": "https://localhost:8080/"
        },
        "id": "3P3sBGgSW3ZC",
        "outputId": "8b92755e-cc2f-4921-ad08-4189fc3c264e"
      },
      "source": [
        "# even for such big quantile our sales count is only 22 \n",
        "sales_df.item_cnt_day.quantile(0.999)"
      ],
      "execution_count": null,
      "outputs": [
        {
          "output_type": "execute_result",
          "data": {
            "text/plain": [
              "22.0"
            ]
          },
          "metadata": {
            "tags": []
          },
          "execution_count": 7
        }
      ]
    },
    {
      "cell_type": "code",
      "metadata": {
        "colab": {
          "base_uri": "https://localhost:8080/"
        },
        "id": "Q1OqCbLGXHuM",
        "outputId": "1a7320e4-01aa-49c0-ede5-b598e01b236a"
      },
      "source": [
        "sales_df.shape, sales_df[sales_df.item_cnt_day > 22].shape # less than 1% of data"
      ],
      "execution_count": null,
      "outputs": [
        {
          "output_type": "execute_result",
          "data": {
            "text/plain": [
              "((2935847, 6), (2881, 6))"
            ]
          },
          "metadata": {
            "tags": []
          },
          "execution_count": 7
        }
      ]
    },
    {
      "cell_type": "code",
      "metadata": {
        "id": "BfOjcOCqZuBS"
      },
      "source": [
        "# clip 'item_cnt_day' in range [0, 22]\n",
        "# sales_df['item_cnt_day'] = sales_df.item_cnt_day.clip(0,22)"
      ],
      "execution_count": 114,
      "outputs": []
    },
    {
      "cell_type": "code",
      "metadata": {
        "id": "g_x8pwzaeNOL"
      },
      "source": [
        "# clip 'item_cnt_day' in range [0, 20] (as mainly kaggle notebooks have done)\n",
        "# this strategy improved my predictions by ~ 1%\n",
        "sales_df['item_cnt_day'] = sales_df.item_cnt_day.clip(0,20)"
      ],
      "execution_count": 66,
      "outputs": []
    },
    {
      "cell_type": "code",
      "metadata": {
        "colab": {
          "base_uri": "https://localhost:8080/"
        },
        "id": "uwW5oQXCljy8",
        "outputId": "a0b0ba98-0932-4a63-cc86-196bec43b309"
      },
      "source": [
        "# impute with median price for the same shop & item \n",
        "sales_df[(sales_df.shop_id == 32)&(sales_df.item_id == 2973)].item_price.median()"
      ],
      "execution_count": 68,
      "outputs": [
        {
          "output_type": "execute_result",
          "data": {
            "text/plain": [
              "2499.0"
            ]
          },
          "metadata": {
            "tags": []
          },
          "execution_count": 68
        }
      ]
    },
    {
      "cell_type": "code",
      "metadata": {
        "id": "1pXxVwruhG0f"
      },
      "source": [
        "sales_df.loc[sales_df.item_price < 0, 'item_price'] = 2499.0"
      ],
      "execution_count": 115,
      "outputs": []
    },
    {
      "cell_type": "markdown",
      "metadata": {
        "id": "ZHAJdyqBBpug"
      },
      "source": [
        "Encode text info like shop names and item categories. I also tried encoding item names, but there were many categories (about 1000) and this feature wasn't very important in model."
      ]
    },
    {
      "cell_type": "code",
      "metadata": {
        "colab": {
          "base_uri": "https://localhost:8080/"
        },
        "id": "O6mn3NR0p7IO",
        "outputId": "8b3dbe84-f4c6-4eca-a769-7d47b320e929"
      },
      "source": [
        "shops.shop_name.unique() # can extract city"
      ],
      "execution_count": null,
      "outputs": [
        {
          "output_type": "execute_result",
          "data": {
            "text/plain": [
              "array(['!Якутск Орджоникидзе, 56 фран', '!Якутск ТЦ \"Центральный\" фран',\n",
              "       'Адыгея ТЦ \"Мега\"', 'Балашиха ТРК \"Октябрь-Киномир\"',\n",
              "       'Волжский ТЦ \"Волга Молл\"', 'Вологда ТРЦ \"Мармелад\"',\n",
              "       'Воронеж (Плехановская, 13)', 'Воронеж ТРЦ \"Максимир\"',\n",
              "       'Воронеж ТРЦ Сити-Парк \"Град\"', 'Выездная Торговля',\n",
              "       'Жуковский ул. Чкалова 39м?', 'Жуковский ул. Чкалова 39м²',\n",
              "       'Интернет-магазин ЧС', 'Казань ТЦ \"Бехетле\"',\n",
              "       'Казань ТЦ \"ПаркХаус\" II', 'Калуга ТРЦ \"XXI век\"',\n",
              "       'Коломна ТЦ \"Рио\"', 'Красноярск ТЦ \"Взлетка Плаза\"',\n",
              "       'Красноярск ТЦ \"Июнь\"', 'Курск ТЦ \"Пушкинский\"',\n",
              "       'Москва \"Распродажа\"', 'Москва МТРЦ \"Афи Молл\"',\n",
              "       'Москва Магазин С21', 'Москва ТК \"Буденовский\" (пав.А2)',\n",
              "       'Москва ТК \"Буденовский\" (пав.К7)', 'Москва ТРК \"Атриум\"',\n",
              "       'Москва ТЦ \"Ареал\" (Беляево)', 'Москва ТЦ \"МЕГА Белая Дача II\"',\n",
              "       'Москва ТЦ \"МЕГА Теплый Стан\" II',\n",
              "       'Москва ТЦ \"Новый век\" (Новокосино)', 'Москва ТЦ \"Перловский\"',\n",
              "       'Москва ТЦ \"Семеновский\"', 'Москва ТЦ \"Серебряный Дом\"',\n",
              "       'Мытищи ТРК \"XL-3\"', 'Н.Новгород ТРЦ \"РИО\"',\n",
              "       'Н.Новгород ТРЦ \"Фантастика\"',\n",
              "       'Новосибирск ТРЦ \"Галерея Новосибирск\"', 'Новосибирск ТЦ \"Мега\"',\n",
              "       'Омск ТЦ \"Мега\"', 'РостовНаДону ТРК \"Мегацентр Горизонт\"',\n",
              "       'РостовНаДону ТРК \"Мегацентр Горизонт\" Островной',\n",
              "       'РостовНаДону ТЦ \"Мега\"', 'СПб ТК \"Невский Центр\"',\n",
              "       'СПб ТК \"Сенная\"', 'Самара ТЦ \"Мелодия\"', 'Самара ТЦ \"ПаркХаус\"',\n",
              "       'Сергиев Посад ТЦ \"7Я\"', 'Сургут ТРЦ \"Сити Молл\"',\n",
              "       'Томск ТРЦ \"Изумрудный Город\"', 'Тюмень ТРЦ \"Кристалл\"',\n",
              "       'Тюмень ТЦ \"Гудвин\"', 'Тюмень ТЦ \"Зеленый Берег\"',\n",
              "       'Уфа ТК \"Центральный\"', 'Уфа ТЦ \"Семья\" 2', 'Химки ТЦ \"Мега\"',\n",
              "       'Цифровой склад 1С-Онлайн', 'Чехов ТРЦ \"Карнавал\"',\n",
              "       'Якутск Орджоникидзе, 56', 'Якутск ТЦ \"Центральный\"',\n",
              "       'Ярославль ТЦ \"Альтаир\"'], dtype=object)"
            ]
          },
          "metadata": {
            "tags": []
          },
          "execution_count": 9
        }
      ]
    },
    {
      "cell_type": "code",
      "metadata": {
        "id": "WxZqn_pvqnTN"
      },
      "source": [
        "shops['city'] = shops.shop_name.str.split(' ').map(lambda x: x[0])"
      ],
      "execution_count": 116,
      "outputs": []
    },
    {
      "cell_type": "code",
      "metadata": {
        "colab": {
          "base_uri": "https://localhost:8080/"
        },
        "id": "rvSUA0gJnKot",
        "outputId": "61c6d534-ab16-45ea-c65f-70280ef67b71"
      },
      "source": [
        "shops.city.unique()\n",
        "# change '!Якутск' to 'Якутск'"
      ],
      "execution_count": null,
      "outputs": [
        {
          "output_type": "execute_result",
          "data": {
            "text/plain": [
              "array(['!Якутск', 'Адыгея', 'Балашиха', 'Волжский', 'Вологда', 'Воронеж',\n",
              "       'Выездная', 'Жуковский', 'Интернет-магазин', 'Казань', 'Калуга',\n",
              "       'Коломна', 'Красноярск', 'Курск', 'Москва', 'Мытищи', 'Н.Новгород',\n",
              "       'Новосибирск', 'Омск', 'РостовНаДону', 'СПб', 'Самара', 'Сергиев',\n",
              "       'Сургут', 'Томск', 'Тюмень', 'Уфа', 'Химки', 'Цифровой', 'Чехов',\n",
              "       'Якутск', 'Ярославль'], dtype=object)"
            ]
          },
          "metadata": {
            "tags": []
          },
          "execution_count": 19
        }
      ]
    },
    {
      "cell_type": "code",
      "metadata": {
        "id": "Bx7cuuitm3x1"
      },
      "source": [
        "shops.loc[shops.city == '!Якутск', 'city'] = 'Якутск'"
      ],
      "execution_count": 117,
      "outputs": []
    },
    {
      "cell_type": "code",
      "metadata": {
        "colab": {
          "base_uri": "https://localhost:8080/"
        },
        "id": "gHJg2ASArbc0",
        "outputId": "37fa4efd-54f5-44ec-c649-a33bab3134ce"
      },
      "source": [
        "len(shops.city.unique()) # 31 categorical variable"
      ],
      "execution_count": 72,
      "outputs": [
        {
          "output_type": "execute_result",
          "data": {
            "text/plain": [
              "31"
            ]
          },
          "metadata": {
            "tags": []
          },
          "execution_count": 72
        }
      ]
    },
    {
      "cell_type": "code",
      "metadata": {
        "colab": {
          "base_uri": "https://localhost:8080/",
          "height": 0
        },
        "id": "5Mr0RG8Y7cEq",
        "outputId": "d107d238-15ce-4f69-ff46-9baafb61207f"
      },
      "source": [
        "# as you can remeber, in shop names most popular were from Moscow, here we have that most sales also comming from Moscow\n",
        "temporary_df = pd.merge(sales_df, shops, on='shop_id')\n",
        "temporary_df = temporary_df.groupby('city').agg({'item_cnt_day':'sum'})\n",
        "temporary_df.reset_index(inplace=True)\n",
        "fig = px.bar(temporary_df, x='city', y='item_cnt_day', color='city')\n",
        "fig.update_traces(hovertemplate='City: %{x}<br>Sales amount: %{y}') \n",
        "fig.update_layout(title='Sales by city', showlegend=False)"
      ],
      "execution_count": 118,
      "outputs": [
        {
          "output_type": "display_data",
          "data": {
            "text/html": [
              "<html>\n",
              "<head><meta charset=\"utf-8\" /></head>\n",
              "<body>\n",
              "    <div>\n",
              "            <script src=\"https://cdnjs.cloudflare.com/ajax/libs/mathjax/2.7.5/MathJax.js?config=TeX-AMS-MML_SVG\"></script><script type=\"text/javascript\">if (window.MathJax) {MathJax.Hub.Config({SVG: {font: \"STIX-Web\"}});}</script>\n",
              "                <script type=\"text/javascript\">window.PlotlyConfig = {MathJaxConfig: 'local'};</script>\n",
              "        <script src=\"https://cdn.plot.ly/plotly-latest.min.js\"></script>    \n",
              "            <div id=\"35222f56-8594-447d-b0f6-11f308939003\" class=\"plotly-graph-div\" style=\"height:525px; width:100%;\"></div>\n",
              "            <script type=\"text/javascript\">\n",
              "                \n",
              "                    window.PLOTLYENV=window.PLOTLYENV || {};\n",
              "                    \n",
              "                if (document.getElementById(\"35222f56-8594-447d-b0f6-11f308939003\")) {\n",
              "                    Plotly.newPlot(\n",
              "                        '35222f56-8594-447d-b0f6-11f308939003',\n",
              "                        [{\"alignmentgroup\": \"True\", \"hoverlabel\": {\"namelength\": 0}, \"hovertemplate\": \"City: %{x}<br>Sales amount: %{y}\", \"legendgroup\": \"city=\\u0410\\u0434\\u044b\\u0433\\u0435\\u044f\", \"marker\": {\"color\": \"#636efa\"}, \"name\": \"city=\\u0410\\u0434\\u044b\\u0433\\u0435\\u044f\", \"offsetgroup\": \"city=\\u0410\\u0434\\u044b\\u0433\\u0435\\u044f\", \"orientation\": \"v\", \"showlegend\": true, \"textposition\": \"auto\", \"type\": \"bar\", \"x\": [\"\\u0410\\u0434\\u044b\\u0433\\u0435\\u044f\"], \"xaxis\": \"x\", \"y\": [30568.0], \"yaxis\": \"y\"}, {\"alignmentgroup\": \"True\", \"hoverlabel\": {\"namelength\": 0}, \"hovertemplate\": \"City: %{x}<br>Sales amount: %{y}\", \"legendgroup\": \"city=\\u0411\\u0430\\u043b\\u0430\\u0448\\u0438\\u0445\\u0430\", \"marker\": {\"color\": \"#EF553B\"}, \"name\": \"city=\\u0411\\u0430\\u043b\\u0430\\u0448\\u0438\\u0445\\u0430\", \"offsetgroup\": \"city=\\u0411\\u0430\\u043b\\u0430\\u0448\\u0438\\u0445\\u0430\", \"orientation\": \"v\", \"showlegend\": true, \"textposition\": \"auto\", \"type\": \"bar\", \"x\": [\"\\u0411\\u0430\\u043b\\u0430\\u0448\\u0438\\u0445\\u0430\"], \"xaxis\": \"x\", \"y\": [28327.0], \"yaxis\": \"y\"}, {\"alignmentgroup\": \"True\", \"hoverlabel\": {\"namelength\": 0}, \"hovertemplate\": \"City: %{x}<br>Sales amount: %{y}\", \"legendgroup\": \"city=\\u0412\\u043e\\u043b\\u0436\\u0441\\u043a\\u0438\\u0439\", \"marker\": {\"color\": \"#00cc96\"}, \"name\": \"city=\\u0412\\u043e\\u043b\\u0436\\u0441\\u043a\\u0438\\u0439\", \"offsetgroup\": \"city=\\u0412\\u043e\\u043b\\u0436\\u0441\\u043a\\u0438\\u0439\", \"orientation\": \"v\", \"showlegend\": true, \"textposition\": \"auto\", \"type\": \"bar\", \"x\": [\"\\u0412\\u043e\\u043b\\u0436\\u0441\\u043a\\u0438\\u0439\"], \"xaxis\": \"x\", \"y\": [43875.0], \"yaxis\": \"y\"}, {\"alignmentgroup\": \"True\", \"hoverlabel\": {\"namelength\": 0}, \"hovertemplate\": \"City: %{x}<br>Sales amount: %{y}\", \"legendgroup\": \"city=\\u0412\\u043e\\u043b\\u043e\\u0433\\u0434\\u0430\", \"marker\": {\"color\": \"#ab63fa\"}, \"name\": \"city=\\u0412\\u043e\\u043b\\u043e\\u0433\\u0434\\u0430\", \"offsetgroup\": \"city=\\u0412\\u043e\\u043b\\u043e\\u0433\\u0434\\u0430\", \"orientation\": \"v\", \"showlegend\": true, \"textposition\": \"auto\", \"type\": \"bar\", \"x\": [\"\\u0412\\u043e\\u043b\\u043e\\u0433\\u0434\\u0430\"], \"xaxis\": \"x\", \"y\": [42634.0], \"yaxis\": \"y\"}, {\"alignmentgroup\": \"True\", \"hoverlabel\": {\"namelength\": 0}, \"hovertemplate\": \"City: %{x}<br>Sales amount: %{y}\", \"legendgroup\": \"city=\\u0412\\u043e\\u0440\\u043e\\u043d\\u0435\\u0436\", \"marker\": {\"color\": \"#FFA15A\"}, \"name\": \"city=\\u0412\\u043e\\u0440\\u043e\\u043d\\u0435\\u0436\", \"offsetgroup\": \"city=\\u0412\\u043e\\u0440\\u043e\\u043d\\u0435\\u0436\", \"orientation\": \"v\", \"showlegend\": true, \"textposition\": \"auto\", \"type\": \"bar\", \"x\": [\"\\u0412\\u043e\\u0440\\u043e\\u043d\\u0435\\u0436\"], \"xaxis\": \"x\", \"y\": [169768.0], \"yaxis\": \"y\"}, {\"alignmentgroup\": \"True\", \"hoverlabel\": {\"namelength\": 0}, \"hovertemplate\": \"City: %{x}<br>Sales amount: %{y}\", \"legendgroup\": \"city=\\u0412\\u044b\\u0435\\u0437\\u0434\\u043d\\u0430\\u044f\", \"marker\": {\"color\": \"#19d3f3\"}, \"name\": \"city=\\u0412\\u044b\\u0435\\u0437\\u0434\\u043d\\u0430\\u044f\", \"offsetgroup\": \"city=\\u0412\\u044b\\u0435\\u0437\\u0434\\u043d\\u0430\\u044f\", \"orientation\": \"v\", \"showlegend\": true, \"textposition\": \"auto\", \"type\": \"bar\", \"x\": [\"\\u0412\\u044b\\u0435\\u0437\\u0434\\u043d\\u0430\\u044f\"], \"xaxis\": \"x\", \"y\": [14043.0], \"yaxis\": \"y\"}, {\"alignmentgroup\": \"True\", \"hoverlabel\": {\"namelength\": 0}, \"hovertemplate\": \"City: %{x}<br>Sales amount: %{y}\", \"legendgroup\": \"city=\\u0416\\u0443\\u043a\\u043e\\u0432\\u0441\\u043a\\u0438\\u0439\", \"marker\": {\"color\": \"#FF6692\"}, \"name\": \"city=\\u0416\\u0443\\u043a\\u043e\\u0432\\u0441\\u043a\\u0438\\u0439\", \"offsetgroup\": \"city=\\u0416\\u0443\\u043a\\u043e\\u0432\\u0441\\u043a\\u0438\\u0439\", \"orientation\": \"v\", \"showlegend\": true, \"textposition\": \"auto\", \"type\": \"bar\", \"x\": [\"\\u0416\\u0443\\u043a\\u043e\\u0432\\u0441\\u043a\\u0438\\u0439\"], \"xaxis\": \"x\", \"y\": [25052.0], \"yaxis\": \"y\"}, {\"alignmentgroup\": \"True\", \"hoverlabel\": {\"namelength\": 0}, \"hovertemplate\": \"City: %{x}<br>Sales amount: %{y}\", \"legendgroup\": \"city=\\u0418\\u043d\\u0442\\u0435\\u0440\\u043d\\u0435\\u0442-\\u043c\\u0430\\u0433\\u0430\\u0437\\u0438\\u043d\", \"marker\": {\"color\": \"#B6E880\"}, \"name\": \"city=\\u0418\\u043d\\u0442\\u0435\\u0440\\u043d\\u0435\\u0442-\\u043c\\u0430\\u0433\\u0430\\u0437\\u0438\\u043d\", \"offsetgroup\": \"city=\\u0418\\u043d\\u0442\\u0435\\u0440\\u043d\\u0435\\u0442-\\u043c\\u0430\\u0433\\u0430\\u0437\\u0438\\u043d\", \"orientation\": \"v\", \"showlegend\": true, \"textposition\": \"auto\", \"type\": \"bar\", \"x\": [\"\\u0418\\u043d\\u0442\\u0435\\u0440\\u043d\\u0435\\u0442-\\u043c\\u0430\\u0433\\u0430\\u0437\\u0438\\u043d\"], \"xaxis\": \"x\", \"y\": [57575.0], \"yaxis\": \"y\"}, {\"alignmentgroup\": \"True\", \"hoverlabel\": {\"namelength\": 0}, \"hovertemplate\": \"City: %{x}<br>Sales amount: %{y}\", \"legendgroup\": \"city=\\u041a\\u0430\\u0437\\u0430\\u043d\\u044c\", \"marker\": {\"color\": \"#FF97FF\"}, \"name\": \"city=\\u041a\\u0430\\u0437\\u0430\\u043d\\u044c\", \"offsetgroup\": \"city=\\u041a\\u0430\\u0437\\u0430\\u043d\\u044c\", \"orientation\": \"v\", \"showlegend\": true, \"textposition\": \"auto\", \"type\": \"bar\", \"x\": [\"\\u041a\\u0430\\u0437\\u0430\\u043d\\u044c\"], \"xaxis\": \"x\", \"y\": [65915.0], \"yaxis\": \"y\"}, {\"alignmentgroup\": \"True\", \"hoverlabel\": {\"namelength\": 0}, \"hovertemplate\": \"City: %{x}<br>Sales amount: %{y}\", \"legendgroup\": \"city=\\u041a\\u0430\\u043b\\u0443\\u0433\\u0430\", \"marker\": {\"color\": \"#FECB52\"}, \"name\": \"city=\\u041a\\u0430\\u043b\\u0443\\u0433\\u0430\", \"offsetgroup\": \"city=\\u041a\\u0430\\u043b\\u0443\\u0433\\u0430\", \"orientation\": \"v\", \"showlegend\": true, \"textposition\": \"auto\", \"type\": \"bar\", \"x\": [\"\\u041a\\u0430\\u043b\\u0443\\u0433\\u0430\"], \"xaxis\": \"x\", \"y\": [69982.0], \"yaxis\": \"y\"}, {\"alignmentgroup\": \"True\", \"hoverlabel\": {\"namelength\": 0}, \"hovertemplate\": \"City: %{x}<br>Sales amount: %{y}\", \"legendgroup\": \"city=\\u041a\\u043e\\u043b\\u043e\\u043c\\u043d\\u0430\", \"marker\": {\"color\": \"#636efa\"}, \"name\": \"city=\\u041a\\u043e\\u043b\\u043e\\u043c\\u043d\\u0430\", \"offsetgroup\": \"city=\\u041a\\u043e\\u043b\\u043e\\u043c\\u043d\\u0430\", \"orientation\": \"v\", \"showlegend\": true, \"textposition\": \"auto\", \"type\": \"bar\", \"x\": [\"\\u041a\\u043e\\u043b\\u043e\\u043c\\u043d\\u0430\"], \"xaxis\": \"x\", \"y\": [61607.0], \"yaxis\": \"y\"}, {\"alignmentgroup\": \"True\", \"hoverlabel\": {\"namelength\": 0}, \"hovertemplate\": \"City: %{x}<br>Sales amount: %{y}\", \"legendgroup\": \"city=\\u041a\\u0440\\u0430\\u0441\\u043d\\u043e\\u044f\\u0440\\u0441\\u043a\", \"marker\": {\"color\": \"#EF553B\"}, \"name\": \"city=\\u041a\\u0440\\u0430\\u0441\\u043d\\u043e\\u044f\\u0440\\u0441\\u043a\", \"offsetgroup\": \"city=\\u041a\\u0440\\u0430\\u0441\\u043d\\u043e\\u044f\\u0440\\u0441\\u043a\", \"orientation\": \"v\", \"showlegend\": true, \"textposition\": \"auto\", \"type\": \"bar\", \"x\": [\"\\u041a\\u0440\\u0430\\u0441\\u043d\\u043e\\u044f\\u0440\\u0441\\u043a\"], \"xaxis\": \"x\", \"y\": [90721.0], \"yaxis\": \"y\"}, {\"alignmentgroup\": \"True\", \"hoverlabel\": {\"namelength\": 0}, \"hovertemplate\": \"City: %{x}<br>Sales amount: %{y}\", \"legendgroup\": \"city=\\u041a\\u0443\\u0440\\u0441\\u043a\", \"marker\": {\"color\": \"#00cc96\"}, \"name\": \"city=\\u041a\\u0443\\u0440\\u0441\\u043a\", \"offsetgroup\": \"city=\\u041a\\u0443\\u0440\\u0441\\u043a\", \"orientation\": \"v\", \"showlegend\": true, \"textposition\": \"auto\", \"type\": \"bar\", \"x\": [\"\\u041a\\u0443\\u0440\\u0441\\u043a\"], \"xaxis\": \"x\", \"y\": [73322.0], \"yaxis\": \"y\"}, {\"alignmentgroup\": \"True\", \"hoverlabel\": {\"namelength\": 0}, \"hovertemplate\": \"City: %{x}<br>Sales amount: %{y}\", \"legendgroup\": \"city=\\u041c\\u043e\\u0441\\u043a\\u0432\\u0430\", \"marker\": {\"color\": \"#ab63fa\"}, \"name\": \"city=\\u041c\\u043e\\u0441\\u043a\\u0432\\u0430\", \"offsetgroup\": \"city=\\u041c\\u043e\\u0441\\u043a\\u0432\\u0430\", \"orientation\": \"v\", \"showlegend\": true, \"textposition\": \"auto\", \"type\": \"bar\", \"x\": [\"\\u041c\\u043e\\u0441\\u043a\\u0432\\u0430\"], \"xaxis\": \"x\", \"y\": [1256264.0], \"yaxis\": \"y\"}, {\"alignmentgroup\": \"True\", \"hoverlabel\": {\"namelength\": 0}, \"hovertemplate\": \"City: %{x}<br>Sales amount: %{y}\", \"legendgroup\": \"city=\\u041c\\u044b\\u0442\\u0438\\u0449\\u0438\", \"marker\": {\"color\": \"#FFA15A\"}, \"name\": \"city=\\u041c\\u044b\\u0442\\u0438\\u0449\\u0438\", \"offsetgroup\": \"city=\\u041c\\u044b\\u0442\\u0438\\u0449\\u0438\", \"orientation\": \"v\", \"showlegend\": true, \"textposition\": \"auto\", \"type\": \"bar\", \"x\": [\"\\u041c\\u044b\\u0442\\u0438\\u0449\\u0438\"], \"xaxis\": \"x\", \"y\": [5504.0], \"yaxis\": \"y\"}, {\"alignmentgroup\": \"True\", \"hoverlabel\": {\"namelength\": 0}, \"hovertemplate\": \"City: %{x}<br>Sales amount: %{y}\", \"legendgroup\": \"city=\\u041d.\\u041d\\u043e\\u0432\\u0433\\u043e\\u0440\\u043e\\u0434\", \"marker\": {\"color\": \"#19d3f3\"}, \"name\": \"city=\\u041d.\\u041d\\u043e\\u0432\\u0433\\u043e\\u0440\\u043e\\u0434\", \"offsetgroup\": \"city=\\u041d.\\u041d\\u043e\\u0432\\u0433\\u043e\\u0440\\u043e\\u0434\", \"orientation\": \"v\", \"showlegend\": true, \"textposition\": \"auto\", \"type\": \"bar\", \"x\": [\"\\u041d.\\u041d\\u043e\\u0432\\u0433\\u043e\\u0440\\u043e\\u0434\"], \"xaxis\": \"x\", \"y\": [75114.0], \"yaxis\": \"y\"}, {\"alignmentgroup\": \"True\", \"hoverlabel\": {\"namelength\": 0}, \"hovertemplate\": \"City: %{x}<br>Sales amount: %{y}\", \"legendgroup\": \"city=\\u041d\\u043e\\u0432\\u043e\\u0441\\u0438\\u0431\\u0438\\u0440\\u0441\\u043a\", \"marker\": {\"color\": \"#FF6692\"}, \"name\": \"city=\\u041d\\u043e\\u0432\\u043e\\u0441\\u0438\\u0431\\u0438\\u0440\\u0441\\u043a\", \"offsetgroup\": \"city=\\u041d\\u043e\\u0432\\u043e\\u0441\\u0438\\u0431\\u0438\\u0440\\u0441\\u043a\", \"orientation\": \"v\", \"showlegend\": true, \"textposition\": \"auto\", \"type\": \"bar\", \"x\": [\"\\u041d\\u043e\\u0432\\u043e\\u0441\\u0438\\u0431\\u0438\\u0440\\u0441\\u043a\"], \"xaxis\": \"x\", \"y\": [46492.0], \"yaxis\": \"y\"}, {\"alignmentgroup\": \"True\", \"hoverlabel\": {\"namelength\": 0}, \"hovertemplate\": \"City: %{x}<br>Sales amount: %{y}\", \"legendgroup\": \"city=\\u041e\\u043c\\u0441\\u043a\", \"marker\": {\"color\": \"#B6E880\"}, \"name\": \"city=\\u041e\\u043c\\u0441\\u043a\", \"offsetgroup\": \"city=\\u041e\\u043c\\u0441\\u043a\", \"orientation\": \"v\", \"showlegend\": true, \"textposition\": \"auto\", \"type\": \"bar\", \"x\": [\"\\u041e\\u043c\\u0441\\u043a\"], \"xaxis\": \"x\", \"y\": [53432.0], \"yaxis\": \"y\"}, {\"alignmentgroup\": \"True\", \"hoverlabel\": {\"namelength\": 0}, \"hovertemplate\": \"City: %{x}<br>Sales amount: %{y}\", \"legendgroup\": \"city=\\u0420\\u043e\\u0441\\u0442\\u043e\\u0432\\u041d\\u0430\\u0414\\u043e\\u043d\\u0443\", \"marker\": {\"color\": \"#FF97FF\"}, \"name\": \"city=\\u0420\\u043e\\u0441\\u0442\\u043e\\u0432\\u041d\\u0430\\u0414\\u043e\\u043d\\u0443\", \"offsetgroup\": \"city=\\u0420\\u043e\\u0441\\u0442\\u043e\\u0432\\u041d\\u0430\\u0414\\u043e\\u043d\\u0443\", \"orientation\": \"v\", \"showlegend\": true, \"textposition\": \"auto\", \"type\": \"bar\", \"x\": [\"\\u0420\\u043e\\u0441\\u0442\\u043e\\u0432\\u041d\\u0430\\u0414\\u043e\\u043d\\u0443\"], \"xaxis\": \"x\", \"y\": [70751.0], \"yaxis\": \"y\"}, {\"alignmentgroup\": \"True\", \"hoverlabel\": {\"namelength\": 0}, \"hovertemplate\": \"City: %{x}<br>Sales amount: %{y}\", \"legendgroup\": \"city=\\u0421\\u041f\\u0431\", \"marker\": {\"color\": \"#FECB52\"}, \"name\": \"city=\\u0421\\u041f\\u0431\", \"offsetgroup\": \"city=\\u0421\\u041f\\u0431\", \"orientation\": \"v\", \"showlegend\": true, \"textposition\": \"auto\", \"type\": \"bar\", \"x\": [\"\\u0421\\u041f\\u0431\"], \"xaxis\": \"x\", \"y\": [191630.0], \"yaxis\": \"y\"}, {\"alignmentgroup\": \"True\", \"hoverlabel\": {\"namelength\": 0}, \"hovertemplate\": \"City: %{x}<br>Sales amount: %{y}\", \"legendgroup\": \"city=\\u0421\\u0430\\u043c\\u0430\\u0440\\u0430\", \"marker\": {\"color\": \"#636efa\"}, \"name\": \"city=\\u0421\\u0430\\u043c\\u0430\\u0440\\u0430\", \"offsetgroup\": \"city=\\u0421\\u0430\\u043c\\u0430\\u0440\\u0430\", \"orientation\": \"v\", \"showlegend\": true, \"textposition\": \"auto\", \"type\": \"bar\", \"x\": [\"\\u0421\\u0430\\u043c\\u0430\\u0440\\u0430\"], \"xaxis\": \"x\", \"y\": [86686.0], \"yaxis\": \"y\"}, {\"alignmentgroup\": \"True\", \"hoverlabel\": {\"namelength\": 0}, \"hovertemplate\": \"City: %{x}<br>Sales amount: %{y}\", \"legendgroup\": \"city=\\u0421\\u0435\\u0440\\u0433\\u0438\\u0435\\u0432\", \"marker\": {\"color\": \"#EF553B\"}, \"name\": \"city=\\u0421\\u0435\\u0440\\u0433\\u0438\\u0435\\u0432\", \"offsetgroup\": \"city=\\u0421\\u0435\\u0440\\u0433\\u0438\\u0435\\u0432\", \"orientation\": \"v\", \"showlegend\": true, \"textposition\": \"auto\", \"type\": \"bar\", \"x\": [\"\\u0421\\u0435\\u0440\\u0433\\u0438\\u0435\\u0432\"], \"xaxis\": \"x\", \"y\": [78595.0], \"yaxis\": \"y\"}, {\"alignmentgroup\": \"True\", \"hoverlabel\": {\"namelength\": 0}, \"hovertemplate\": \"City: %{x}<br>Sales amount: %{y}\", \"legendgroup\": \"city=\\u0421\\u0443\\u0440\\u0433\\u0443\\u0442\", \"marker\": {\"color\": \"#00cc96\"}, \"name\": \"city=\\u0421\\u0443\\u0440\\u0433\\u0443\\u0442\", \"offsetgroup\": \"city=\\u0421\\u0443\\u0440\\u0433\\u0443\\u0442\", \"orientation\": \"v\", \"showlegend\": true, \"textposition\": \"auto\", \"type\": \"bar\", \"x\": [\"\\u0421\\u0443\\u0440\\u0433\\u0443\\u0442\"], \"xaxis\": \"x\", \"y\": [67220.0], \"yaxis\": \"y\"}, {\"alignmentgroup\": \"True\", \"hoverlabel\": {\"namelength\": 0}, \"hovertemplate\": \"City: %{x}<br>Sales amount: %{y}\", \"legendgroup\": \"city=\\u0422\\u043e\\u043c\\u0441\\u043a\", \"marker\": {\"color\": \"#ab63fa\"}, \"name\": \"city=\\u0422\\u043e\\u043c\\u0441\\u043a\", \"offsetgroup\": \"city=\\u0422\\u043e\\u043c\\u0441\\u043a\", \"orientation\": \"v\", \"showlegend\": true, \"textposition\": \"auto\", \"type\": \"bar\", \"x\": [\"\\u0422\\u043e\\u043c\\u0441\\u043a\"], \"xaxis\": \"x\", \"y\": [24931.0], \"yaxis\": \"y\"}, {\"alignmentgroup\": \"True\", \"hoverlabel\": {\"namelength\": 0}, \"hovertemplate\": \"City: %{x}<br>Sales amount: %{y}\", \"legendgroup\": \"city=\\u0422\\u044e\\u043c\\u0435\\u043d\\u044c\", \"marker\": {\"color\": \"#FFA15A\"}, \"name\": \"city=\\u0422\\u044e\\u043c\\u0435\\u043d\\u044c\", \"offsetgroup\": \"city=\\u0422\\u044e\\u043c\\u0435\\u043d\\u044c\", \"orientation\": \"v\", \"showlegend\": true, \"textposition\": \"auto\", \"type\": \"bar\", \"x\": [\"\\u0422\\u044e\\u043c\\u0435\\u043d\\u044c\"], \"xaxis\": \"x\", \"y\": [141913.0], \"yaxis\": \"y\"}, {\"alignmentgroup\": \"True\", \"hoverlabel\": {\"namelength\": 0}, \"hovertemplate\": \"City: %{x}<br>Sales amount: %{y}\", \"legendgroup\": \"city=\\u0423\\u0444\\u0430\", \"marker\": {\"color\": \"#19d3f3\"}, \"name\": \"city=\\u0423\\u0444\\u0430\", \"offsetgroup\": \"city=\\u0423\\u0444\\u0430\", \"orientation\": \"v\", \"showlegend\": true, \"textposition\": \"auto\", \"type\": \"bar\", \"x\": [\"\\u0423\\u0444\\u0430\"], \"xaxis\": \"x\", \"y\": [111209.0], \"yaxis\": \"y\"}, {\"alignmentgroup\": \"True\", \"hoverlabel\": {\"namelength\": 0}, \"hovertemplate\": \"City: %{x}<br>Sales amount: %{y}\", \"legendgroup\": \"city=\\u0425\\u0438\\u043c\\u043a\\u0438\", \"marker\": {\"color\": \"#FF6692\"}, \"name\": \"city=\\u0425\\u0438\\u043c\\u043a\\u0438\", \"offsetgroup\": \"city=\\u0425\\u0438\\u043c\\u043a\\u0438\", \"orientation\": \"v\", \"showlegend\": true, \"textposition\": \"auto\", \"type\": \"bar\", \"x\": [\"\\u0425\\u0438\\u043c\\u043a\\u0438\"], \"xaxis\": \"x\", \"y\": [182559.0], \"yaxis\": \"y\"}, {\"alignmentgroup\": \"True\", \"hoverlabel\": {\"namelength\": 0}, \"hovertemplate\": \"City: %{x}<br>Sales amount: %{y}\", \"legendgroup\": \"city=\\u0426\\u0438\\u0444\\u0440\\u043e\\u0432\\u043e\\u0439\", \"marker\": {\"color\": \"#B6E880\"}, \"name\": \"city=\\u0426\\u0438\\u0444\\u0440\\u043e\\u0432\\u043e\\u0439\", \"offsetgroup\": \"city=\\u0426\\u0438\\u0444\\u0440\\u043e\\u0432\\u043e\\u0439\", \"orientation\": \"v\", \"showlegend\": true, \"textposition\": \"auto\", \"type\": \"bar\", \"x\": [\"\\u0426\\u0438\\u0444\\u0440\\u043e\\u0432\\u043e\\u0439\"], \"xaxis\": \"x\", \"y\": [55142.0], \"yaxis\": \"y\"}, {\"alignmentgroup\": \"True\", \"hoverlabel\": {\"namelength\": 0}, \"hovertemplate\": \"City: %{x}<br>Sales amount: %{y}\", \"legendgroup\": \"city=\\u0427\\u0435\\u0445\\u043e\\u0432\", \"marker\": {\"color\": \"#FF97FF\"}, \"name\": \"city=\\u0427\\u0435\\u0445\\u043e\\u0432\", \"offsetgroup\": \"city=\\u0427\\u0435\\u0445\\u043e\\u0432\", \"orientation\": \"v\", \"showlegend\": true, \"textposition\": \"auto\", \"type\": \"bar\", \"x\": [\"\\u0427\\u0435\\u0445\\u043e\\u0432\"], \"xaxis\": \"x\", \"y\": [78141.0], \"yaxis\": \"y\"}, {\"alignmentgroup\": \"True\", \"hoverlabel\": {\"namelength\": 0}, \"hovertemplate\": \"City: %{x}<br>Sales amount: %{y}\", \"legendgroup\": \"city=\\u042f\\u043a\\u0443\\u0442\\u0441\\u043a\", \"marker\": {\"color\": \"#FECB52\"}, \"name\": \"city=\\u042f\\u043a\\u0443\\u0442\\u0441\\u043a\", \"offsetgroup\": \"city=\\u042f\\u043a\\u0443\\u0442\\u0441\\u043a\", \"orientation\": \"v\", \"showlegend\": true, \"textposition\": \"auto\", \"type\": \"bar\", \"x\": [\"\\u042f\\u043a\\u0443\\u0442\\u0441\\u043a\"], \"xaxis\": \"x\", \"y\": [240728.0], \"yaxis\": \"y\"}, {\"alignmentgroup\": \"True\", \"hoverlabel\": {\"namelength\": 0}, \"hovertemplate\": \"City: %{x}<br>Sales amount: %{y}\", \"legendgroup\": \"city=\\u042f\\u0440\\u043e\\u0441\\u043b\\u0430\\u0432\\u043b\\u044c\", \"marker\": {\"color\": \"#636efa\"}, \"name\": \"city=\\u042f\\u0440\\u043e\\u0441\\u043b\\u0430\\u0432\\u043b\\u044c\", \"offsetgroup\": \"city=\\u042f\\u0440\\u043e\\u0441\\u043b\\u0430\\u0432\\u043b\\u044c\", \"orientation\": \"v\", \"showlegend\": true, \"textposition\": \"auto\", \"type\": \"bar\", \"x\": [\"\\u042f\\u0440\\u043e\\u0441\\u043b\\u0430\\u0432\\u043b\\u044c\"], \"xaxis\": \"x\", \"y\": [48951.0], \"yaxis\": \"y\"}],\n",
              "                        {\"barmode\": \"relative\", \"legend\": {\"tracegroupgap\": 0}, \"margin\": {\"t\": 60}, \"showlegend\": false, \"template\": {\"data\": {\"bar\": [{\"error_x\": {\"color\": \"#2a3f5f\"}, \"error_y\": {\"color\": \"#2a3f5f\"}, \"marker\": {\"line\": {\"color\": \"#E5ECF6\", \"width\": 0.5}}, \"type\": \"bar\"}], \"barpolar\": [{\"marker\": {\"line\": {\"color\": \"#E5ECF6\", \"width\": 0.5}}, \"type\": \"barpolar\"}], \"carpet\": [{\"aaxis\": {\"endlinecolor\": \"#2a3f5f\", \"gridcolor\": \"white\", \"linecolor\": \"white\", \"minorgridcolor\": \"white\", \"startlinecolor\": \"#2a3f5f\"}, \"baxis\": {\"endlinecolor\": \"#2a3f5f\", \"gridcolor\": \"white\", \"linecolor\": \"white\", \"minorgridcolor\": \"white\", \"startlinecolor\": \"#2a3f5f\"}, \"type\": \"carpet\"}], \"choropleth\": [{\"colorbar\": {\"outlinewidth\": 0, \"ticks\": \"\"}, \"type\": \"choropleth\"}], \"contour\": [{\"colorbar\": {\"outlinewidth\": 0, \"ticks\": \"\"}, \"colorscale\": [[0.0, \"#0d0887\"], [0.1111111111111111, \"#46039f\"], [0.2222222222222222, \"#7201a8\"], [0.3333333333333333, \"#9c179e\"], [0.4444444444444444, \"#bd3786\"], [0.5555555555555556, \"#d8576b\"], [0.6666666666666666, \"#ed7953\"], [0.7777777777777778, \"#fb9f3a\"], [0.8888888888888888, \"#fdca26\"], [1.0, \"#f0f921\"]], \"type\": \"contour\"}], \"contourcarpet\": [{\"colorbar\": {\"outlinewidth\": 0, \"ticks\": \"\"}, \"type\": \"contourcarpet\"}], \"heatmap\": [{\"colorbar\": {\"outlinewidth\": 0, \"ticks\": \"\"}, \"colorscale\": [[0.0, \"#0d0887\"], [0.1111111111111111, \"#46039f\"], [0.2222222222222222, \"#7201a8\"], [0.3333333333333333, \"#9c179e\"], [0.4444444444444444, \"#bd3786\"], [0.5555555555555556, \"#d8576b\"], [0.6666666666666666, \"#ed7953\"], [0.7777777777777778, \"#fb9f3a\"], [0.8888888888888888, \"#fdca26\"], [1.0, \"#f0f921\"]], \"type\": \"heatmap\"}], \"heatmapgl\": [{\"colorbar\": {\"outlinewidth\": 0, \"ticks\": \"\"}, \"colorscale\": [[0.0, \"#0d0887\"], [0.1111111111111111, \"#46039f\"], [0.2222222222222222, \"#7201a8\"], [0.3333333333333333, \"#9c179e\"], [0.4444444444444444, \"#bd3786\"], [0.5555555555555556, \"#d8576b\"], [0.6666666666666666, \"#ed7953\"], [0.7777777777777778, \"#fb9f3a\"], [0.8888888888888888, \"#fdca26\"], [1.0, \"#f0f921\"]], \"type\": \"heatmapgl\"}], \"histogram\": [{\"marker\": {\"colorbar\": {\"outlinewidth\": 0, \"ticks\": \"\"}}, \"type\": \"histogram\"}], \"histogram2d\": [{\"colorbar\": {\"outlinewidth\": 0, \"ticks\": \"\"}, \"colorscale\": [[0.0, \"#0d0887\"], [0.1111111111111111, \"#46039f\"], [0.2222222222222222, \"#7201a8\"], [0.3333333333333333, \"#9c179e\"], [0.4444444444444444, \"#bd3786\"], [0.5555555555555556, \"#d8576b\"], [0.6666666666666666, \"#ed7953\"], [0.7777777777777778, \"#fb9f3a\"], [0.8888888888888888, \"#fdca26\"], [1.0, \"#f0f921\"]], \"type\": \"histogram2d\"}], \"histogram2dcontour\": [{\"colorbar\": {\"outlinewidth\": 0, \"ticks\": \"\"}, \"colorscale\": [[0.0, \"#0d0887\"], [0.1111111111111111, \"#46039f\"], [0.2222222222222222, \"#7201a8\"], [0.3333333333333333, \"#9c179e\"], [0.4444444444444444, \"#bd3786\"], [0.5555555555555556, \"#d8576b\"], [0.6666666666666666, \"#ed7953\"], [0.7777777777777778, \"#fb9f3a\"], [0.8888888888888888, \"#fdca26\"], [1.0, \"#f0f921\"]], \"type\": \"histogram2dcontour\"}], \"mesh3d\": [{\"colorbar\": {\"outlinewidth\": 0, \"ticks\": \"\"}, \"type\": \"mesh3d\"}], \"parcoords\": [{\"line\": {\"colorbar\": {\"outlinewidth\": 0, \"ticks\": \"\"}}, \"type\": \"parcoords\"}], \"pie\": [{\"automargin\": true, \"type\": \"pie\"}], \"scatter\": [{\"marker\": {\"colorbar\": {\"outlinewidth\": 0, \"ticks\": \"\"}}, \"type\": \"scatter\"}], \"scatter3d\": [{\"line\": {\"colorbar\": {\"outlinewidth\": 0, \"ticks\": \"\"}}, \"marker\": {\"colorbar\": {\"outlinewidth\": 0, \"ticks\": \"\"}}, \"type\": \"scatter3d\"}], \"scattercarpet\": [{\"marker\": {\"colorbar\": {\"outlinewidth\": 0, \"ticks\": \"\"}}, \"type\": \"scattercarpet\"}], \"scattergeo\": [{\"marker\": {\"colorbar\": {\"outlinewidth\": 0, \"ticks\": \"\"}}, \"type\": \"scattergeo\"}], \"scattergl\": [{\"marker\": {\"colorbar\": {\"outlinewidth\": 0, \"ticks\": \"\"}}, \"type\": \"scattergl\"}], \"scattermapbox\": [{\"marker\": {\"colorbar\": {\"outlinewidth\": 0, \"ticks\": \"\"}}, \"type\": \"scattermapbox\"}], \"scatterpolar\": [{\"marker\": {\"colorbar\": {\"outlinewidth\": 0, \"ticks\": \"\"}}, \"type\": \"scatterpolar\"}], \"scatterpolargl\": [{\"marker\": {\"colorbar\": {\"outlinewidth\": 0, \"ticks\": \"\"}}, \"type\": \"scatterpolargl\"}], \"scatterternary\": [{\"marker\": {\"colorbar\": {\"outlinewidth\": 0, \"ticks\": \"\"}}, \"type\": \"scatterternary\"}], \"surface\": [{\"colorbar\": {\"outlinewidth\": 0, \"ticks\": \"\"}, \"colorscale\": [[0.0, \"#0d0887\"], [0.1111111111111111, \"#46039f\"], [0.2222222222222222, \"#7201a8\"], [0.3333333333333333, \"#9c179e\"], [0.4444444444444444, \"#bd3786\"], [0.5555555555555556, \"#d8576b\"], [0.6666666666666666, \"#ed7953\"], [0.7777777777777778, \"#fb9f3a\"], [0.8888888888888888, \"#fdca26\"], [1.0, \"#f0f921\"]], \"type\": \"surface\"}], \"table\": [{\"cells\": {\"fill\": {\"color\": \"#EBF0F8\"}, \"line\": {\"color\": \"white\"}}, \"header\": {\"fill\": {\"color\": \"#C8D4E3\"}, \"line\": {\"color\": \"white\"}}, \"type\": \"table\"}]}, \"layout\": {\"annotationdefaults\": {\"arrowcolor\": \"#2a3f5f\", \"arrowhead\": 0, \"arrowwidth\": 1}, \"coloraxis\": {\"colorbar\": {\"outlinewidth\": 0, \"ticks\": \"\"}}, \"colorscale\": {\"diverging\": [[0, \"#8e0152\"], [0.1, \"#c51b7d\"], [0.2, \"#de77ae\"], [0.3, \"#f1b6da\"], [0.4, \"#fde0ef\"], [0.5, \"#f7f7f7\"], [0.6, \"#e6f5d0\"], [0.7, \"#b8e186\"], [0.8, \"#7fbc41\"], [0.9, \"#4d9221\"], [1, \"#276419\"]], \"sequential\": [[0.0, \"#0d0887\"], [0.1111111111111111, \"#46039f\"], [0.2222222222222222, \"#7201a8\"], [0.3333333333333333, \"#9c179e\"], [0.4444444444444444, \"#bd3786\"], [0.5555555555555556, \"#d8576b\"], [0.6666666666666666, \"#ed7953\"], [0.7777777777777778, \"#fb9f3a\"], [0.8888888888888888, \"#fdca26\"], [1.0, \"#f0f921\"]], \"sequentialminus\": [[0.0, \"#0d0887\"], [0.1111111111111111, \"#46039f\"], [0.2222222222222222, \"#7201a8\"], [0.3333333333333333, \"#9c179e\"], [0.4444444444444444, \"#bd3786\"], [0.5555555555555556, \"#d8576b\"], [0.6666666666666666, \"#ed7953\"], [0.7777777777777778, \"#fb9f3a\"], [0.8888888888888888, \"#fdca26\"], [1.0, \"#f0f921\"]]}, \"colorway\": [\"#636efa\", \"#EF553B\", \"#00cc96\", \"#ab63fa\", \"#FFA15A\", \"#19d3f3\", \"#FF6692\", \"#B6E880\", \"#FF97FF\", \"#FECB52\"], \"font\": {\"color\": \"#2a3f5f\"}, \"geo\": {\"bgcolor\": \"white\", \"lakecolor\": \"white\", \"landcolor\": \"#E5ECF6\", \"showlakes\": true, \"showland\": true, \"subunitcolor\": \"white\"}, \"hoverlabel\": {\"align\": \"left\"}, \"hovermode\": \"closest\", \"mapbox\": {\"style\": \"light\"}, \"paper_bgcolor\": \"white\", \"plot_bgcolor\": \"#E5ECF6\", \"polar\": {\"angularaxis\": {\"gridcolor\": \"white\", \"linecolor\": \"white\", \"ticks\": \"\"}, \"bgcolor\": \"#E5ECF6\", \"radialaxis\": {\"gridcolor\": \"white\", \"linecolor\": \"white\", \"ticks\": \"\"}}, \"scene\": {\"xaxis\": {\"backgroundcolor\": \"#E5ECF6\", \"gridcolor\": \"white\", \"gridwidth\": 2, \"linecolor\": \"white\", \"showbackground\": true, \"ticks\": \"\", \"zerolinecolor\": \"white\"}, \"yaxis\": {\"backgroundcolor\": \"#E5ECF6\", \"gridcolor\": \"white\", \"gridwidth\": 2, \"linecolor\": \"white\", \"showbackground\": true, \"ticks\": \"\", \"zerolinecolor\": \"white\"}, \"zaxis\": {\"backgroundcolor\": \"#E5ECF6\", \"gridcolor\": \"white\", \"gridwidth\": 2, \"linecolor\": \"white\", \"showbackground\": true, \"ticks\": \"\", \"zerolinecolor\": \"white\"}}, \"shapedefaults\": {\"line\": {\"color\": \"#2a3f5f\"}}, \"ternary\": {\"aaxis\": {\"gridcolor\": \"white\", \"linecolor\": \"white\", \"ticks\": \"\"}, \"baxis\": {\"gridcolor\": \"white\", \"linecolor\": \"white\", \"ticks\": \"\"}, \"bgcolor\": \"#E5ECF6\", \"caxis\": {\"gridcolor\": \"white\", \"linecolor\": \"white\", \"ticks\": \"\"}}, \"title\": {\"x\": 0.05}, \"xaxis\": {\"automargin\": true, \"gridcolor\": \"white\", \"linecolor\": \"white\", \"ticks\": \"\", \"title\": {\"standoff\": 15}, \"zerolinecolor\": \"white\", \"zerolinewidth\": 2}, \"yaxis\": {\"automargin\": true, \"gridcolor\": \"white\", \"linecolor\": \"white\", \"ticks\": \"\", \"title\": {\"standoff\": 15}, \"zerolinecolor\": \"white\", \"zerolinewidth\": 2}}}, \"title\": {\"text\": \"Sales by city\"}, \"xaxis\": {\"anchor\": \"y\", \"categoryarray\": [\"\\u0410\\u0434\\u044b\\u0433\\u0435\\u044f\", \"\\u0411\\u0430\\u043b\\u0430\\u0448\\u0438\\u0445\\u0430\", \"\\u0412\\u043e\\u043b\\u0436\\u0441\\u043a\\u0438\\u0439\", \"\\u0412\\u043e\\u043b\\u043e\\u0433\\u0434\\u0430\", \"\\u0412\\u043e\\u0440\\u043e\\u043d\\u0435\\u0436\", \"\\u0412\\u044b\\u0435\\u0437\\u0434\\u043d\\u0430\\u044f\", \"\\u0416\\u0443\\u043a\\u043e\\u0432\\u0441\\u043a\\u0438\\u0439\", \"\\u0418\\u043d\\u0442\\u0435\\u0440\\u043d\\u0435\\u0442-\\u043c\\u0430\\u0433\\u0430\\u0437\\u0438\\u043d\", \"\\u041a\\u0430\\u0437\\u0430\\u043d\\u044c\", \"\\u041a\\u0430\\u043b\\u0443\\u0433\\u0430\", \"\\u041a\\u043e\\u043b\\u043e\\u043c\\u043d\\u0430\", \"\\u041a\\u0440\\u0430\\u0441\\u043d\\u043e\\u044f\\u0440\\u0441\\u043a\", \"\\u041a\\u0443\\u0440\\u0441\\u043a\", \"\\u041c\\u043e\\u0441\\u043a\\u0432\\u0430\", \"\\u041c\\u044b\\u0442\\u0438\\u0449\\u0438\", \"\\u041d.\\u041d\\u043e\\u0432\\u0433\\u043e\\u0440\\u043e\\u0434\", \"\\u041d\\u043e\\u0432\\u043e\\u0441\\u0438\\u0431\\u0438\\u0440\\u0441\\u043a\", \"\\u041e\\u043c\\u0441\\u043a\", \"\\u0420\\u043e\\u0441\\u0442\\u043e\\u0432\\u041d\\u0430\\u0414\\u043e\\u043d\\u0443\", \"\\u0421\\u041f\\u0431\", \"\\u0421\\u0430\\u043c\\u0430\\u0440\\u0430\", \"\\u0421\\u0435\\u0440\\u0433\\u0438\\u0435\\u0432\", \"\\u0421\\u0443\\u0440\\u0433\\u0443\\u0442\", \"\\u0422\\u043e\\u043c\\u0441\\u043a\", \"\\u0422\\u044e\\u043c\\u0435\\u043d\\u044c\", \"\\u0423\\u0444\\u0430\", \"\\u0425\\u0438\\u043c\\u043a\\u0438\", \"\\u0426\\u0438\\u0444\\u0440\\u043e\\u0432\\u043e\\u0439\", \"\\u0427\\u0435\\u0445\\u043e\\u0432\", \"\\u042f\\u043a\\u0443\\u0442\\u0441\\u043a\", \"\\u042f\\u0440\\u043e\\u0441\\u043b\\u0430\\u0432\\u043b\\u044c\"], \"categoryorder\": \"array\", \"domain\": [0.0, 1.0], \"title\": {\"text\": \"city\"}}, \"yaxis\": {\"anchor\": \"x\", \"domain\": [0.0, 1.0], \"title\": {\"text\": \"item_cnt_day\"}}},\n",
              "                        {\"responsive\": true}\n",
              "                    ).then(function(){\n",
              "                            \n",
              "var gd = document.getElementById('35222f56-8594-447d-b0f6-11f308939003');\n",
              "var x = new MutationObserver(function (mutations, observer) {{\n",
              "        var display = window.getComputedStyle(gd).display;\n",
              "        if (!display || display === 'none') {{\n",
              "            console.log([gd, 'removed!']);\n",
              "            Plotly.purge(gd);\n",
              "            observer.disconnect();\n",
              "        }}\n",
              "}});\n",
              "\n",
              "// Listen for the removal of the full notebook cells\n",
              "var notebookContainer = gd.closest('#notebook-container');\n",
              "if (notebookContainer) {{\n",
              "    x.observe(notebookContainer, {childList: true});\n",
              "}}\n",
              "\n",
              "// Listen for the clearing of the current output cell\n",
              "var outputEl = gd.closest('.output');\n",
              "if (outputEl) {{\n",
              "    x.observe(outputEl, {childList: true});\n",
              "}}\n",
              "\n",
              "                        })\n",
              "                };\n",
              "                \n",
              "            </script>\n",
              "        </div>\n",
              "</body>\n",
              "</html>"
            ]
          },
          "metadata": {
            "tags": []
          }
        }
      ]
    },
    {
      "cell_type": "code",
      "metadata": {
        "id": "txr8bXKa_EUn"
      },
      "source": [
        "del temporary_df"
      ],
      "execution_count": 119,
      "outputs": []
    },
    {
      "cell_type": "code",
      "metadata": {
        "colab": {
          "base_uri": "https://localhost:8080/"
        },
        "id": "Ee0ZUWGLs1aE",
        "outputId": "3dc2c724-e49f-47b9-975a-8daed7bf31f8"
      },
      "source": [
        "items_df.item_category_name.unique()"
      ],
      "execution_count": null,
      "outputs": [
        {
          "output_type": "execute_result",
          "data": {
            "text/plain": [
              "array(['Кино - DVD', 'Программы - Для дома и офиса (Цифра)',\n",
              "       'Музыка - CD локального производства', 'Игры - PS3',\n",
              "       'Игры PC - Стандартные издания', 'Игры - XBOX 360',\n",
              "       'Кино - Blu-Ray', 'Кино - Коллекционное', 'Музыка - MP3',\n",
              "       'Книги - Аудиокниги', 'Программы - Обучающие (Цифра)',\n",
              "       'Книги - Цифра', 'Книги - Методические материалы 1С',\n",
              "       'Книги - Аудиокниги (Цифра)', 'Книги - Аудиокниги 1С',\n",
              "       'Программы - Обучающие', 'Программы - 1С:Предприятие 8',\n",
              "       'Игры PC - Цифра', 'Программы - Для дома и офиса',\n",
              "       'Музыка - Винил', 'Музыка - CD фирменного производства',\n",
              "       'Кино - Blu-Ray 3D', 'Подарки - Развитие',\n",
              "       'Музыка - Музыкальное видео', 'Музыка - Подарочные издания',\n",
              "       'Программы - MAC (Цифра)', 'Игры - PSP',\n",
              "       'Игры PC - Дополнительные издания', 'Игры - PS4',\n",
              "       'Игры - XBOX ONE', 'Игры PC - Коллекционные издания',\n",
              "       'Подарки - Сувениры (в навеску)', 'Игры - PSVita',\n",
              "       'Карты оплаты (Кино, Музыка, Игры)',\n",
              "       'Подарки - Гаджеты, роботы, спорт', 'Игры - Аксессуары для игр',\n",
              "       'Подарки - Фигурки', 'Аксессуары - PSP',\n",
              "       'Подарки - Мягкие игрушки', 'Игры MAC - Цифра', 'Игры - PS2',\n",
              "       'Игры Android - Цифра', 'Подарки - Настольные игры',\n",
              "       'Игровые консоли - XBOX 360', 'Подарки - Сертификаты, услуги',\n",
              "       'PC - Гарнитуры/Наушники', 'Аксессуары - PS3',\n",
              "       'Аксессуары - PSVita', 'Аксессуары - PS2', 'Аксессуары - PS4',\n",
              "       'Аксессуары - XBOX 360', 'Карты оплаты - PSN',\n",
              "       'Подарки - Настольные игры (компактные)',\n",
              "       'Игровые консоли - PSVita', 'Игровые консоли - PSP',\n",
              "       'Игровые консоли - PS2', 'Игровые консоли - PS3',\n",
              "       'Игровые консоли - PS4', 'Книги - Компьютерная литература',\n",
              "       'Подарки - Сумки, Альбомы, Коврики д/мыши', 'Подарки - Сувениры',\n",
              "       'Аксессуары - XBOX ONE', 'Карты оплаты - Live!',\n",
              "       'Карты оплаты - Live! (Цифра)', 'Игровые консоли - XBOX ONE',\n",
              "       'Подарки - Открытки, наклейки', 'Кино - Blu-Ray 4K',\n",
              "       'Книги - Путеводители', 'Книги - Бизнес литература',\n",
              "       'Книги - Артбуки, энциклопедии', 'Подарки - Атрибутика',\n",
              "       'Билеты (Цифра)', 'Служебные - Билеты', 'Доставка товара',\n",
              "       'Игровые консоли - Прочие', 'Карты оплаты - Windows (Цифра)',\n",
              "       'Книги - Комиксы, манга', 'Чистые носители (штучные)',\n",
              "       'Чистые носители (шпиль)', 'Книги - Открытки',\n",
              "       'Книги - Познавательная литература', 'Служебные',\n",
              "       'Книги - Художественная литература', 'Элементы питания'],\n",
              "      dtype=object)"
            ]
          },
          "metadata": {
            "tags": []
          },
          "execution_count": 31
        }
      ]
    },
    {
      "cell_type": "code",
      "metadata": {
        "id": "yea_OPBWsB2Y"
      },
      "source": [
        "splits = items_df.item_category_name.str.split(' - ')\n",
        "items_df['item_type'] = splits.map(lambda x: x[0])\n",
        "items_df['item_subtype'] = splits.map(lambda x: x[1] if len(x)>1 else x[0])"
      ],
      "execution_count": 120,
      "outputs": []
    },
    {
      "cell_type": "code",
      "metadata": {
        "colab": {
          "base_uri": "https://localhost:8080/"
        },
        "id": "KpkjrySmtpLd",
        "outputId": "efcf74f5-a67d-40b9-ddb1-a7126883964b"
      },
      "source": [
        "len(items_df.item_subtype.unique()) # 67 subtypes"
      ],
      "execution_count": null,
      "outputs": [
        {
          "output_type": "execute_result",
          "data": {
            "text/plain": [
              "67"
            ]
          },
          "metadata": {
            "tags": []
          },
          "execution_count": 23
        }
      ]
    },
    {
      "cell_type": "code",
      "metadata": {
        "colab": {
          "base_uri": "https://localhost:8080/"
        },
        "id": "K-23_LuQtJdL",
        "outputId": "6fd38174-d997-4188-96c8-5aff97df09dc"
      },
      "source": [
        "len(items_df.item_type.unique()) # 20 types"
      ],
      "execution_count": null,
      "outputs": [
        {
          "output_type": "execute_result",
          "data": {
            "text/plain": [
              "20"
            ]
          },
          "metadata": {
            "tags": []
          },
          "execution_count": 24
        }
      ]
    },
    {
      "cell_type": "markdown",
      "metadata": {
        "id": "Mhoa4vmTAkib"
      },
      "source": [
        "What concerns encoding, in Kaggle notebooks all use LabelEncoder for each of the following columns but I think that it would be inappropriate, as by this encoding method model can assume that categories which stand next to each other has smth in common, which is not true for 'city' and 'type' (in the case of 'subtype' feature 1st there are many categories - 67 and 2nd some of them share common meaning, i.g. 'Комиксы' which is followed by 'Позновательная литература', 'Художественная литература'. So I used for these features frequency encoding and for 'subtype' - LabelEncoder. Then making different models I've tried LabelEncoder for all features but my predictions were worse."
      ]
    },
    {
      "cell_type": "code",
      "metadata": {
        "id": "hPfkd7SBr9Py"
      },
      "source": [
        "city_codes = shops.groupby('city').size() / shops.shape[0]\n",
        "type_codes = items_df.groupby('item_type').size() / items_df.shape[0]\n",
        "\n",
        "shops['city_code'] = shops.city.apply(lambda x: city_codes[x])\n",
        "items_df['type_code'] = items_df.item_type.apply(lambda x: type_codes[x])\n",
        "items_df['subtype_code'] = LabelEncoder().fit_transform(items_df.item_subtype)"
      ],
      "execution_count": 122,
      "outputs": []
    },
    {
      "cell_type": "markdown",
      "metadata": {
        "id": "YhypKLv6CPTp"
      },
      "source": [
        "Also in the next steps you'll see that I've changed types of data many times, this is due to pretty size of data which will be in the end and problems with Colab sessions when I trained model or tuned params and ran out of RAM."
      ]
    },
    {
      "cell_type": "code",
      "metadata": {
        "id": "e0SwrGe4Ccdl"
      },
      "source": [
        "shops['city_code'] = shops.city_code.astype(np.float16)\n",
        "shops['shop_id'] = shops.shop_id.astype(np.int8)\n",
        "items_df['type_code'] = items_df.type_code.astype(np.float16)\n",
        "items_df['subtype_code'] = items_df.subtype_code.astype(np.int8)\n",
        "items_df['item_category_id'] = items_df.item_category_id.astype(np.int8)"
      ],
      "execution_count": 123,
      "outputs": []
    },
    {
      "cell_type": "code",
      "metadata": {
        "id": "yNp0Zn_Pv3l9"
      },
      "source": [
        "sales_df['revenue'] = sales_df.item_price * sales_df.item_cnt_day\n",
        "sales_df['revenue'] = sales_df.revenue.astype(np.float32)\n",
        "sales_df['date_block_num'] = sales_df.date_block_num.astype(np.int8)  \n",
        "sales_df['item_cnt_day'] = sales_df.item_cnt_day.astype(np.int8)  \n",
        "sales_df['shop_id'] = sales_df.shop_id.astype(np.int8)      "
      ],
      "execution_count": 124,
      "outputs": []
    },
    {
      "cell_type": "code",
      "metadata": {
        "colab": {
          "base_uri": "https://localhost:8080/"
        },
        "id": "WUTZZplJs8Jv",
        "outputId": "2413dcdc-2755-42cf-b5b7-ef4fa9fa6b2e"
      },
      "source": [
        "sales_df.info()"
      ],
      "execution_count": 125,
      "outputs": [
        {
          "output_type": "stream",
          "text": [
            "<class 'pandas.core.frame.DataFrame'>\n",
            "Int64Index: 2935847 entries, 0 to 2935848\n",
            "Data columns (total 7 columns):\n",
            " #   Column          Dtype  \n",
            "---  ------          -----  \n",
            " 0   date            object \n",
            " 1   date_block_num  int8   \n",
            " 2   shop_id         int8   \n",
            " 3   item_id         int64  \n",
            " 4   item_price      float64\n",
            " 5   item_cnt_day    int8   \n",
            " 6   revenue         float32\n",
            "dtypes: float32(1), float64(1), int64(1), int8(3), object(1)\n",
            "memory usage: 109.2+ MB\n"
          ],
          "name": "stdout"
        }
      ]
    },
    {
      "cell_type": "code",
      "metadata": {
        "colab": {
          "base_uri": "https://localhost:8080/",
          "height": 202
        },
        "id": "AyjXO2wA7mS8",
        "outputId": "1660b28f-6c18-48b6-c3ba-52b1fcda0de0"
      },
      "source": [
        "shops.head()"
      ],
      "execution_count": null,
      "outputs": [
        {
          "output_type": "execute_result",
          "data": {
            "text/html": [
              "<div>\n",
              "<style scoped>\n",
              "    .dataframe tbody tr th:only-of-type {\n",
              "        vertical-align: middle;\n",
              "    }\n",
              "\n",
              "    .dataframe tbody tr th {\n",
              "        vertical-align: top;\n",
              "    }\n",
              "\n",
              "    .dataframe thead th {\n",
              "        text-align: right;\n",
              "    }\n",
              "</style>\n",
              "<table border=\"1\" class=\"dataframe\">\n",
              "  <thead>\n",
              "    <tr style=\"text-align: right;\">\n",
              "      <th></th>\n",
              "      <th>shop_name</th>\n",
              "      <th>shop_id</th>\n",
              "      <th>city</th>\n",
              "      <th>city_code</th>\n",
              "    </tr>\n",
              "  </thead>\n",
              "  <tbody>\n",
              "    <tr>\n",
              "      <th>0</th>\n",
              "      <td>!Якутск Орджоникидзе, 56 фран</td>\n",
              "      <td>0</td>\n",
              "      <td>Якутск</td>\n",
              "      <td>0.066650</td>\n",
              "    </tr>\n",
              "    <tr>\n",
              "      <th>1</th>\n",
              "      <td>!Якутск ТЦ \"Центральный\" фран</td>\n",
              "      <td>1</td>\n",
              "      <td>Якутск</td>\n",
              "      <td>0.066650</td>\n",
              "    </tr>\n",
              "    <tr>\n",
              "      <th>2</th>\n",
              "      <td>Адыгея ТЦ \"Мега\"</td>\n",
              "      <td>2</td>\n",
              "      <td>Адыгея</td>\n",
              "      <td>0.016663</td>\n",
              "    </tr>\n",
              "    <tr>\n",
              "      <th>3</th>\n",
              "      <td>Балашиха ТРК \"Октябрь-Киномир\"</td>\n",
              "      <td>3</td>\n",
              "      <td>Балашиха</td>\n",
              "      <td>0.016663</td>\n",
              "    </tr>\n",
              "    <tr>\n",
              "      <th>4</th>\n",
              "      <td>Волжский ТЦ \"Волга Молл\"</td>\n",
              "      <td>4</td>\n",
              "      <td>Волжский</td>\n",
              "      <td>0.016663</td>\n",
              "    </tr>\n",
              "  </tbody>\n",
              "</table>\n",
              "</div>"
            ],
            "text/plain": [
              "                        shop_name  shop_id      city  city_code\n",
              "0   !Якутск Орджоникидзе, 56 фран        0    Якутск   0.066650\n",
              "1   !Якутск ТЦ \"Центральный\" фран        1    Якутск   0.066650\n",
              "2                Адыгея ТЦ \"Мега\"        2    Адыгея   0.016663\n",
              "3  Балашиха ТРК \"Октябрь-Киномир\"        3  Балашиха   0.016663\n",
              "4        Волжский ТЦ \"Волга Молл\"        4  Волжский   0.016663"
            ]
          },
          "metadata": {
            "tags": []
          },
          "execution_count": 30
        }
      ]
    },
    {
      "cell_type": "code",
      "metadata": {
        "colab": {
          "base_uri": "https://localhost:8080/",
          "height": 202
        },
        "id": "SzqrAsID7oM_",
        "outputId": "8cc01bb1-6922-454e-a3e4-105555671589"
      },
      "source": [
        "items_df.head()"
      ],
      "execution_count": null,
      "outputs": [
        {
          "output_type": "execute_result",
          "data": {
            "text/html": [
              "<div>\n",
              "<style scoped>\n",
              "    .dataframe tbody tr th:only-of-type {\n",
              "        vertical-align: middle;\n",
              "    }\n",
              "\n",
              "    .dataframe tbody tr th {\n",
              "        vertical-align: top;\n",
              "    }\n",
              "\n",
              "    .dataframe thead th {\n",
              "        text-align: right;\n",
              "    }\n",
              "</style>\n",
              "<table border=\"1\" class=\"dataframe\">\n",
              "  <thead>\n",
              "    <tr style=\"text-align: right;\">\n",
              "      <th></th>\n",
              "      <th>item_name</th>\n",
              "      <th>item_id</th>\n",
              "      <th>item_category_id</th>\n",
              "      <th>item_category_name</th>\n",
              "      <th>item_type</th>\n",
              "      <th>item_subtype</th>\n",
              "      <th>type_code</th>\n",
              "      <th>subtype_code</th>\n",
              "    </tr>\n",
              "  </thead>\n",
              "  <tbody>\n",
              "    <tr>\n",
              "      <th>0</th>\n",
              "      <td>! ВО ВЛАСТИ НАВАЖДЕНИЯ (ПЛАСТ.)         D</td>\n",
              "      <td>0</td>\n",
              "      <td>40</td>\n",
              "      <td>Кино - DVD</td>\n",
              "      <td>Кино</td>\n",
              "      <td>DVD</td>\n",
              "      <td>0.336671</td>\n",
              "      <td>6</td>\n",
              "    </tr>\n",
              "    <tr>\n",
              "      <th>1</th>\n",
              "      <td>***В ЛУЧАХ СЛАВЫ   (UNV)                    D</td>\n",
              "      <td>2</td>\n",
              "      <td>40</td>\n",
              "      <td>Кино - DVD</td>\n",
              "      <td>Кино</td>\n",
              "      <td>DVD</td>\n",
              "      <td>0.336671</td>\n",
              "      <td>6</td>\n",
              "    </tr>\n",
              "    <tr>\n",
              "      <th>2</th>\n",
              "      <td>***ГОЛУБАЯ ВОЛНА  (Univ)                      D</td>\n",
              "      <td>3</td>\n",
              "      <td>40</td>\n",
              "      <td>Кино - DVD</td>\n",
              "      <td>Кино</td>\n",
              "      <td>DVD</td>\n",
              "      <td>0.336671</td>\n",
              "      <td>6</td>\n",
              "    </tr>\n",
              "    <tr>\n",
              "      <th>3</th>\n",
              "      <td>***КОРОБКА (СТЕКЛО)                       D</td>\n",
              "      <td>4</td>\n",
              "      <td>40</td>\n",
              "      <td>Кино - DVD</td>\n",
              "      <td>Кино</td>\n",
              "      <td>DVD</td>\n",
              "      <td>0.336671</td>\n",
              "      <td>6</td>\n",
              "    </tr>\n",
              "    <tr>\n",
              "      <th>4</th>\n",
              "      <td>***НОВЫЕ АМЕРИКАНСКИЕ ГРАФФИТИ  (UNI)         ...</td>\n",
              "      <td>5</td>\n",
              "      <td>40</td>\n",
              "      <td>Кино - DVD</td>\n",
              "      <td>Кино</td>\n",
              "      <td>DVD</td>\n",
              "      <td>0.336671</td>\n",
              "      <td>6</td>\n",
              "    </tr>\n",
              "  </tbody>\n",
              "</table>\n",
              "</div>"
            ],
            "text/plain": [
              "                                           item_name  ...  subtype_code\n",
              "0          ! ВО ВЛАСТИ НАВАЖДЕНИЯ (ПЛАСТ.)         D  ...             6\n",
              "1      ***В ЛУЧАХ СЛАВЫ   (UNV)                    D  ...             6\n",
              "2    ***ГОЛУБАЯ ВОЛНА  (Univ)                      D  ...             6\n",
              "3        ***КОРОБКА (СТЕКЛО)                       D  ...             6\n",
              "4  ***НОВЫЕ АМЕРИКАНСКИЕ ГРАФФИТИ  (UNI)         ...  ...             6\n",
              "\n",
              "[5 rows x 8 columns]"
            ]
          },
          "metadata": {
            "tags": []
          },
          "execution_count": 40
        }
      ]
    },
    {
      "cell_type": "code",
      "metadata": {
        "id": "6HaQxG-e8Lav"
      },
      "source": [
        "shops_id_code = shops[['shop_id','city_code']]\n",
        "items_id_code = items_df[['item_id', 'item_category_id','type_code', 'subtype_code']]"
      ],
      "execution_count": 126,
      "outputs": []
    },
    {
      "cell_type": "code",
      "metadata": {
        "colab": {
          "base_uri": "https://localhost:8080/"
        },
        "id": "MZH5D-U1USQI",
        "outputId": "7533aa49-abb7-4d6e-9ad3-40cda71a489b"
      },
      "source": [
        "# create df with different combinations of 'date_block_num','shop_id','item_id' (use product())\n",
        "cols = ['date_block_num','shop_id','item_id']\n",
        "matrix = []\n",
        "for i in tqdm(range(34)):\n",
        "    sales = sales_df[sales_df.date_block_num==i]\n",
        "    matrix.append(np.array(list(product([i], sales.shop_id.unique(), sales.item_id.unique())), dtype='int16'))"
      ],
      "execution_count": 127,
      "outputs": [
        {
          "output_type": "stream",
          "text": [
            "100%|██████████| 34/34 [00:06<00:00,  5.43it/s]\n"
          ],
          "name": "stderr"
        }
      ]
    },
    {
      "cell_type": "code",
      "metadata": {
        "colab": {
          "base_uri": "https://localhost:8080/"
        },
        "id": "YhzGdOAXV36i",
        "outputId": "e6059cda-b6a6-42cf-8c58-7c565ec60cfa"
      },
      "source": [
        "matrix = np.vstack(matrix)\n",
        "matrix.shape\n",
        "# about 11 million of observations!"
      ],
      "execution_count": 128,
      "outputs": [
        {
          "output_type": "execute_result",
          "data": {
            "text/plain": [
              "(10913804, 3)"
            ]
          },
          "metadata": {
            "tags": []
          },
          "execution_count": 128
        }
      ]
    },
    {
      "cell_type": "code",
      "metadata": {
        "colab": {
          "base_uri": "https://localhost:8080/",
          "height": 0
        },
        "id": "2PMrUQq7UoRu",
        "outputId": "e552914a-d5db-4293-84cd-25c495661be6"
      },
      "source": [
        "sales_combin = pd.DataFrame(matrix, columns=cols)\n",
        "sales_combin.head(3)"
      ],
      "execution_count": 129,
      "outputs": [
        {
          "output_type": "execute_result",
          "data": {
            "text/html": [
              "<div>\n",
              "<style scoped>\n",
              "    .dataframe tbody tr th:only-of-type {\n",
              "        vertical-align: middle;\n",
              "    }\n",
              "\n",
              "    .dataframe tbody tr th {\n",
              "        vertical-align: top;\n",
              "    }\n",
              "\n",
              "    .dataframe thead th {\n",
              "        text-align: right;\n",
              "    }\n",
              "</style>\n",
              "<table border=\"1\" class=\"dataframe\">\n",
              "  <thead>\n",
              "    <tr style=\"text-align: right;\">\n",
              "      <th></th>\n",
              "      <th>date_block_num</th>\n",
              "      <th>shop_id</th>\n",
              "      <th>item_id</th>\n",
              "    </tr>\n",
              "  </thead>\n",
              "  <tbody>\n",
              "    <tr>\n",
              "      <th>0</th>\n",
              "      <td>0</td>\n",
              "      <td>59</td>\n",
              "      <td>22154</td>\n",
              "    </tr>\n",
              "    <tr>\n",
              "      <th>1</th>\n",
              "      <td>0</td>\n",
              "      <td>59</td>\n",
              "      <td>2552</td>\n",
              "    </tr>\n",
              "    <tr>\n",
              "      <th>2</th>\n",
              "      <td>0</td>\n",
              "      <td>59</td>\n",
              "      <td>2554</td>\n",
              "    </tr>\n",
              "  </tbody>\n",
              "</table>\n",
              "</div>"
            ],
            "text/plain": [
              "   date_block_num  shop_id  item_id\n",
              "0               0       59    22154\n",
              "1               0       59     2552\n",
              "2               0       59     2554"
            ]
          },
          "metadata": {
            "tags": []
          },
          "execution_count": 129
        }
      ]
    },
    {
      "cell_type": "code",
      "metadata": {
        "colab": {
          "base_uri": "https://localhost:8080/"
        },
        "id": "RWUVJm6sUoLv",
        "outputId": "327b7327-4a9b-44aa-bb2a-40c4b9753172"
      },
      "source": [
        "sales_combin.info()"
      ],
      "execution_count": 130,
      "outputs": [
        {
          "output_type": "stream",
          "text": [
            "<class 'pandas.core.frame.DataFrame'>\n",
            "RangeIndex: 10913804 entries, 0 to 10913803\n",
            "Data columns (total 3 columns):\n",
            " #   Column          Dtype\n",
            "---  ------          -----\n",
            " 0   date_block_num  int16\n",
            " 1   shop_id         int16\n",
            " 2   item_id         int16\n",
            "dtypes: int16(3)\n",
            "memory usage: 62.4 MB\n"
          ],
          "name": "stdout"
        }
      ]
    },
    {
      "cell_type": "code",
      "metadata": {
        "id": "c5O8rDQ_WgJA"
      },
      "source": [
        "# need to sort df 'sales_combin', as grouped df of 'sales_df' have index in sorted format\n",
        "sales_combin.sort_values(cols,inplace=True)\n",
        "group = sales_df.groupby(['date_block_num','shop_id','item_id']).agg({'item_cnt_day':'sum'})\n",
        "group.columns = ['item_cnt_month']\n",
        "group.reset_index(inplace=True)\n",
        "\n",
        "sales_combin = sales_combin.merge(group, on=cols, how='left')\n",
        "sales_combin['item_cnt_month'] = sales_combin.item_cnt_month.fillna(0).astype('int16')"
      ],
      "execution_count": 131,
      "outputs": []
    },
    {
      "cell_type": "code",
      "metadata": {
        "id": "Ot23WLEyWf7j"
      },
      "source": [
        "# remember test data\n",
        "test_df.head()"
      ],
      "execution_count": null,
      "outputs": []
    },
    {
      "cell_type": "code",
      "metadata": {
        "id": "vItH20zlcJlC"
      },
      "source": [
        "# this technique I also looked up in Kaggle, where we add our test data as next month (which in our case is 34) observations\n",
        "test_df['date_block_num'] = 34\n",
        "test_df.drop('ID', axis=1, inplace=True)\n",
        "test_df = test_df.astype({'shop_id':'int8', 'item_id':'int16', 'date_block_num':'int8'})"
      ],
      "execution_count": 132,
      "outputs": []
    },
    {
      "cell_type": "code",
      "metadata": {
        "colab": {
          "base_uri": "https://localhost:8080/"
        },
        "id": "BiI6_jTtGEvY",
        "outputId": "d6cb650e-b340-4774-8388-a234c1ffbf17"
      },
      "source": [
        "test_df.info()"
      ],
      "execution_count": null,
      "outputs": [
        {
          "output_type": "stream",
          "text": [
            "<class 'pandas.core.frame.DataFrame'>\n",
            "RangeIndex: 214200 entries, 0 to 214199\n",
            "Data columns (total 3 columns):\n",
            " #   Column          Non-Null Count   Dtype\n",
            "---  ------          --------------   -----\n",
            " 0   shop_id         214200 non-null  int8 \n",
            " 1   item_id         214200 non-null  int16\n",
            " 2   date_block_num  214200 non-null  int8 \n",
            "dtypes: int16(1), int8(2)\n",
            "memory usage: 836.8 KB\n"
          ],
          "name": "stdout"
        }
      ]
    },
    {
      "cell_type": "code",
      "metadata": {
        "colab": {
          "base_uri": "https://localhost:8080/",
          "height": 0
        },
        "id": "m7hoso0bcKEr",
        "outputId": "a7019cd6-4db5-465e-85d9-042712a3f2f6"
      },
      "source": [
        "# add test data to our main data\n",
        "sales_combin = pd.concat([sales_combin, test_df], ignore_index=True, keys=cols)\n",
        "sales_combin.item_cnt_month.fillna(0, inplace=True)\n",
        "sales_combin.tail(3)"
      ],
      "execution_count": 133,
      "outputs": [
        {
          "output_type": "execute_result",
          "data": {
            "text/html": [
              "<div>\n",
              "<style scoped>\n",
              "    .dataframe tbody tr th:only-of-type {\n",
              "        vertical-align: middle;\n",
              "    }\n",
              "\n",
              "    .dataframe tbody tr th {\n",
              "        vertical-align: top;\n",
              "    }\n",
              "\n",
              "    .dataframe thead th {\n",
              "        text-align: right;\n",
              "    }\n",
              "</style>\n",
              "<table border=\"1\" class=\"dataframe\">\n",
              "  <thead>\n",
              "    <tr style=\"text-align: right;\">\n",
              "      <th></th>\n",
              "      <th>date_block_num</th>\n",
              "      <th>shop_id</th>\n",
              "      <th>item_id</th>\n",
              "      <th>item_cnt_month</th>\n",
              "    </tr>\n",
              "  </thead>\n",
              "  <tbody>\n",
              "    <tr>\n",
              "      <th>11128001</th>\n",
              "      <td>34</td>\n",
              "      <td>45</td>\n",
              "      <td>15757</td>\n",
              "      <td>0.0</td>\n",
              "    </tr>\n",
              "    <tr>\n",
              "      <th>11128002</th>\n",
              "      <td>34</td>\n",
              "      <td>45</td>\n",
              "      <td>19648</td>\n",
              "      <td>0.0</td>\n",
              "    </tr>\n",
              "    <tr>\n",
              "      <th>11128003</th>\n",
              "      <td>34</td>\n",
              "      <td>45</td>\n",
              "      <td>969</td>\n",
              "      <td>0.0</td>\n",
              "    </tr>\n",
              "  </tbody>\n",
              "</table>\n",
              "</div>"
            ],
            "text/plain": [
              "          date_block_num  shop_id  item_id  item_cnt_month\n",
              "11128001              34       45    15757             0.0\n",
              "11128002              34       45    19648             0.0\n",
              "11128003              34       45      969             0.0"
            ]
          },
          "metadata": {
            "tags": []
          },
          "execution_count": 133
        }
      ]
    },
    {
      "cell_type": "code",
      "metadata": {
        "colab": {
          "base_uri": "https://localhost:8080/"
        },
        "id": "yVGUUBAOd0FH",
        "outputId": "35b5f627-1938-42da-dae0-5915738db7b0"
      },
      "source": [
        "sales_combin.info()"
      ],
      "execution_count": 86,
      "outputs": [
        {
          "output_type": "stream",
          "text": [
            "<class 'pandas.core.frame.DataFrame'>\n",
            "RangeIndex: 11128004 entries, 0 to 11128003\n",
            "Data columns (total 4 columns):\n",
            " #   Column          Dtype  \n",
            "---  ------          -----  \n",
            " 0   date_block_num  int16  \n",
            " 1   shop_id         int16  \n",
            " 2   item_id         int16  \n",
            " 3   item_cnt_month  float64\n",
            "dtypes: float64(1), int16(3)\n",
            "memory usage: 148.6 MB\n"
          ],
          "name": "stdout"
        }
      ]
    },
    {
      "cell_type": "code",
      "metadata": {
        "id": "3QqA1IVXGr03"
      },
      "source": [
        "sales_combin['item_cnt_month'] = sales_combin.item_cnt_month.astype('int16')"
      ],
      "execution_count": 134,
      "outputs": []
    },
    {
      "cell_type": "code",
      "metadata": {
        "id": "vXXo2Gi_ovO8"
      },
      "source": [
        "# add shop and item dfs\n",
        "sales_combin = pd.merge(sales_combin, shops_id_code, on='shop_id', how='left')\n",
        "sales_combin = pd.merge(sales_combin, items_id_code, on='item_id', how='left')"
      ],
      "execution_count": 135,
      "outputs": []
    },
    {
      "cell_type": "code",
      "metadata": {
        "id": "5B1oOhl19ThP"
      },
      "source": [
        "sales_combin['date_block_num'] = sales_combin.date_block_num.astype('int8')\n",
        "sales_combin['shop_id'] = sales_combin.shop_id.astype('int8')"
      ],
      "execution_count": 136,
      "outputs": []
    },
    {
      "cell_type": "code",
      "metadata": {
        "colab": {
          "base_uri": "https://localhost:8080/"
        },
        "id": "vbs0RzLVGiAZ",
        "outputId": "594d8c9e-6312-4535-d228-ab8c4a855bf3"
      },
      "source": [
        "sales_combin.info()"
      ],
      "execution_count": null,
      "outputs": [
        {
          "output_type": "stream",
          "text": [
            "<class 'pandas.core.frame.DataFrame'>\n",
            "Int64Index: 11128004 entries, 0 to 11128003\n",
            "Data columns (total 8 columns):\n",
            " #   Column            Dtype  \n",
            "---  ------            -----  \n",
            " 0   date_block_num    int8   \n",
            " 1   shop_id           int8   \n",
            " 2   item_id           int16  \n",
            " 3   item_cnt_month    int16  \n",
            " 4   city_code         float16\n",
            " 5   item_category_id  int8   \n",
            " 6   type_code         float16\n",
            " 7   subtype_code      int8   \n",
            "dtypes: float16(2), int16(2), int8(4)\n",
            "memory usage: 212.2 MB\n"
          ],
          "name": "stdout"
        }
      ]
    },
    {
      "cell_type": "code",
      "metadata": {
        "colab": {
          "base_uri": "https://localhost:8080/",
          "height": 0
        },
        "id": "WEV9DDpS_JIR",
        "outputId": "eb72df37-0a68-49da-da80-9eb4f0c7c13a"
      },
      "source": [
        "sales_combin.head()"
      ],
      "execution_count": 137,
      "outputs": [
        {
          "output_type": "execute_result",
          "data": {
            "text/html": [
              "<div>\n",
              "<style scoped>\n",
              "    .dataframe tbody tr th:only-of-type {\n",
              "        vertical-align: middle;\n",
              "    }\n",
              "\n",
              "    .dataframe tbody tr th {\n",
              "        vertical-align: top;\n",
              "    }\n",
              "\n",
              "    .dataframe thead th {\n",
              "        text-align: right;\n",
              "    }\n",
              "</style>\n",
              "<table border=\"1\" class=\"dataframe\">\n",
              "  <thead>\n",
              "    <tr style=\"text-align: right;\">\n",
              "      <th></th>\n",
              "      <th>date_block_num</th>\n",
              "      <th>shop_id</th>\n",
              "      <th>item_id</th>\n",
              "      <th>item_cnt_month</th>\n",
              "      <th>city_code</th>\n",
              "      <th>item_category_id</th>\n",
              "      <th>type_code</th>\n",
              "      <th>subtype_code</th>\n",
              "    </tr>\n",
              "  </thead>\n",
              "  <tbody>\n",
              "    <tr>\n",
              "      <th>0</th>\n",
              "      <td>0</td>\n",
              "      <td>2</td>\n",
              "      <td>19</td>\n",
              "      <td>0</td>\n",
              "      <td>0.016663</td>\n",
              "      <td>40</td>\n",
              "      <td>0.336670</td>\n",
              "      <td>6</td>\n",
              "    </tr>\n",
              "    <tr>\n",
              "      <th>1</th>\n",
              "      <td>0</td>\n",
              "      <td>2</td>\n",
              "      <td>27</td>\n",
              "      <td>1</td>\n",
              "      <td>0.016663</td>\n",
              "      <td>19</td>\n",
              "      <td>0.080139</td>\n",
              "      <td>12</td>\n",
              "    </tr>\n",
              "    <tr>\n",
              "      <th>2</th>\n",
              "      <td>0</td>\n",
              "      <td>2</td>\n",
              "      <td>28</td>\n",
              "      <td>0</td>\n",
              "      <td>0.016663</td>\n",
              "      <td>30</td>\n",
              "      <td>0.097717</td>\n",
              "      <td>57</td>\n",
              "    </tr>\n",
              "    <tr>\n",
              "      <th>3</th>\n",
              "      <td>0</td>\n",
              "      <td>2</td>\n",
              "      <td>29</td>\n",
              "      <td>0</td>\n",
              "      <td>0.016663</td>\n",
              "      <td>23</td>\n",
              "      <td>0.080139</td>\n",
              "      <td>18</td>\n",
              "    </tr>\n",
              "    <tr>\n",
              "      <th>4</th>\n",
              "      <td>0</td>\n",
              "      <td>2</td>\n",
              "      <td>32</td>\n",
              "      <td>0</td>\n",
              "      <td>0.016663</td>\n",
              "      <td>40</td>\n",
              "      <td>0.336670</td>\n",
              "      <td>6</td>\n",
              "    </tr>\n",
              "  </tbody>\n",
              "</table>\n",
              "</div>"
            ],
            "text/plain": [
              "   date_block_num  shop_id  item_id  ...  item_category_id  type_code  subtype_code\n",
              "0               0        2       19  ...                40   0.336670             6\n",
              "1               0        2       27  ...                19   0.080139            12\n",
              "2               0        2       28  ...                30   0.097717            57\n",
              "3               0        2       29  ...                23   0.080139            18\n",
              "4               0        2       32  ...                40   0.336670             6\n",
              "\n",
              "[5 rows x 8 columns]"
            ]
          },
          "metadata": {
            "tags": []
          },
          "execution_count": 137
        }
      ]
    },
    {
      "cell_type": "code",
      "metadata": {
        "id": "oNkTivT-AKuy"
      },
      "source": [
        "# func which adds specified number of lags\n",
        "def add_lag(df, lags, col):\n",
        "  tmp = df[['date_block_num', 'shop_id', 'item_id', col]]\n",
        "  for lag in lags:\n",
        "    copy = tmp.copy()\n",
        "    copy.columns = ['date_block_num', 'shop_id', 'item_id', col+'_lag_'+str(lag)]\n",
        "    copy['date_block_num'] += lag\n",
        "    df = pd.merge(df, copy, on=['date_block_num', 'shop_id', 'item_id'], how='left')\n",
        "  return df"
      ],
      "execution_count": 90,
      "outputs": []
    },
    {
      "cell_type": "code",
      "metadata": {
        "id": "y1cMN9cNUUfW"
      },
      "source": [
        "# also I thought that 12's lag would be meaningfull, as we have the main sales in December\n",
        "# but it turned out to not be a good predictor \n",
        "lags = [1,2,3,4,5,6]\n",
        "sales_combin = add_lag(sales_combin, lags, 'item_cnt_month')"
      ],
      "execution_count": 138,
      "outputs": []
    },
    {
      "cell_type": "code",
      "metadata": {
        "id": "x0NNoOKWeV4x"
      },
      "source": [
        "for lag in lags:\n",
        "  sales_combin['item_cnt_month_lag_'+str(lag)] = sales_combin['item_cnt_month_lag_'+str(lag)].astype('float16')"
      ],
      "execution_count": 139,
      "outputs": []
    },
    {
      "cell_type": "code",
      "metadata": {
        "colab": {
          "base_uri": "https://localhost:8080/"
        },
        "id": "wVzCadAFIR5B",
        "outputId": "dcc8df56-6217-4246-de65-3cd93e915250"
      },
      "source": [
        "sales_combin.info()"
      ],
      "execution_count": null,
      "outputs": [
        {
          "output_type": "stream",
          "text": [
            "<class 'pandas.core.frame.DataFrame'>\n",
            "Int64Index: 11128004 entries, 0 to 11128003\n",
            "Data columns (total 14 columns):\n",
            " #   Column                Dtype  \n",
            "---  ------                -----  \n",
            " 0   date_block_num        int8   \n",
            " 1   shop_id               int8   \n",
            " 2   item_id               int16  \n",
            " 3   item_cnt_month        int16  \n",
            " 4   city_code             float16\n",
            " 5   item_category_id      int8   \n",
            " 6   type_code             float16\n",
            " 7   subtype_code          int8   \n",
            " 8   item_cnt_month_lag_1  float16\n",
            " 9   item_cnt_month_lag_2  float16\n",
            " 10  item_cnt_month_lag_3  float16\n",
            " 11  item_cnt_month_lag_4  float16\n",
            " 12  item_cnt_month_lag_5  float16\n",
            " 13  item_cnt_month_lag_6  float16\n",
            "dtypes: float16(8), int16(2), int8(4)\n",
            "memory usage: 339.6 MB\n"
          ],
          "name": "stdout"
        }
      ]
    },
    {
      "cell_type": "code",
      "metadata": {
        "colab": {
          "base_uri": "https://localhost:8080/",
          "height": 0
        },
        "id": "2oeHQC1hAKkf",
        "outputId": "3f1497a2-b826-4b17-9a04-319ce3ff6b13"
      },
      "source": [
        "# check if works \n",
        "sales_combin[sales_combin.date_block_num == 0].head(5)"
      ],
      "execution_count": 105,
      "outputs": [
        {
          "output_type": "execute_result",
          "data": {
            "text/html": [
              "<div>\n",
              "<style scoped>\n",
              "    .dataframe tbody tr th:only-of-type {\n",
              "        vertical-align: middle;\n",
              "    }\n",
              "\n",
              "    .dataframe tbody tr th {\n",
              "        vertical-align: top;\n",
              "    }\n",
              "\n",
              "    .dataframe thead th {\n",
              "        text-align: right;\n",
              "    }\n",
              "</style>\n",
              "<table border=\"1\" class=\"dataframe\">\n",
              "  <thead>\n",
              "    <tr style=\"text-align: right;\">\n",
              "      <th></th>\n",
              "      <th>date_block_num</th>\n",
              "      <th>shop_id</th>\n",
              "      <th>item_id</th>\n",
              "      <th>item_cnt_month</th>\n",
              "      <th>city_code</th>\n",
              "      <th>item_category_id</th>\n",
              "      <th>type_code</th>\n",
              "      <th>subtype_code</th>\n",
              "      <th>item_cnt_month_lag_1</th>\n",
              "      <th>item_cnt_month_lag_2</th>\n",
              "      <th>item_cnt_month_lag_3</th>\n",
              "      <th>item_cnt_month_lag_4</th>\n",
              "      <th>item_cnt_month_lag_5</th>\n",
              "      <th>item_cnt_month_lag_6</th>\n",
              "      <th>date_avg_item_cnt_lag_1</th>\n",
              "      <th>date_item_avg_item_cnt_lag_1</th>\n",
              "      <th>date_item_avg_item_cnt_lag_2</th>\n",
              "      <th>date_item_avg_item_cnt_lag_3</th>\n",
              "      <th>date_shop_avg_item_cnt_lag_1</th>\n",
              "      <th>date_shop_avg_item_cnt_lag_2</th>\n",
              "      <th>date_shop_avg_item_cnt_lag_3</th>\n",
              "      <th>date_shop_item_avg_item_cnt_lag_1</th>\n",
              "      <th>date_shop_item_avg_item_cnt_lag_2</th>\n",
              "      <th>date_shop_item_avg_item_cnt_lag_3</th>\n",
              "      <th>date_shop_item_avg_item_cnt_lag_6</th>\n",
              "      <th>date_shop_categ_avg_item_cnt_lag_1</th>\n",
              "      <th>date_city_avg_item_cnt_lag_1</th>\n",
              "      <th>date_item_city_avg_item_cnt_lag_1</th>\n",
              "      <th>date_shop_type_avg_item_cnt_lag_1</th>\n",
              "      <th>date_shop_subtype_avg_item_cnt_lag_1</th>\n",
              "      <th>date_type_avg_item_cnt_lag_1</th>\n",
              "      <th>date_subtype_avg_item_cnt_lag_1</th>\n",
              "      <th>month</th>\n",
              "      <th>days</th>\n",
              "      <th>item_price_trend_lag_1</th>\n",
              "      <th>item_price_trend_lag_2</th>\n",
              "      <th>item_price_trend_lag_3</th>\n",
              "      <th>shop_revenue_trend_lag_1</th>\n",
              "      <th>shop_revenue_trend_lag_2</th>\n",
              "      <th>shop_revenue_trend_lag_3</th>\n",
              "      <th>shop_item_fist_sales</th>\n",
              "      <th>item_fist_sales</th>\n",
              "    </tr>\n",
              "  </thead>\n",
              "  <tbody>\n",
              "    <tr>\n",
              "      <th>0</th>\n",
              "      <td>0</td>\n",
              "      <td>2</td>\n",
              "      <td>19</td>\n",
              "      <td>0</td>\n",
              "      <td>0.016663</td>\n",
              "      <td>40</td>\n",
              "      <td>0.336670</td>\n",
              "      <td>6</td>\n",
              "      <td>NaN</td>\n",
              "      <td>NaN</td>\n",
              "      <td>NaN</td>\n",
              "      <td>NaN</td>\n",
              "      <td>NaN</td>\n",
              "      <td>NaN</td>\n",
              "      <td>NaN</td>\n",
              "      <td>NaN</td>\n",
              "      <td>NaN</td>\n",
              "      <td>NaN</td>\n",
              "      <td>NaN</td>\n",
              "      <td>NaN</td>\n",
              "      <td>NaN</td>\n",
              "      <td>NaN</td>\n",
              "      <td>NaN</td>\n",
              "      <td>NaN</td>\n",
              "      <td>NaN</td>\n",
              "      <td>NaN</td>\n",
              "      <td>NaN</td>\n",
              "      <td>NaN</td>\n",
              "      <td>NaN</td>\n",
              "      <td>NaN</td>\n",
              "      <td>NaN</td>\n",
              "      <td>NaN</td>\n",
              "      <td>0</td>\n",
              "      <td>31</td>\n",
              "      <td>NaN</td>\n",
              "      <td>NaN</td>\n",
              "      <td>NaN</td>\n",
              "      <td>NaN</td>\n",
              "      <td>NaN</td>\n",
              "      <td>NaN</td>\n",
              "      <td>0</td>\n",
              "      <td>0</td>\n",
              "    </tr>\n",
              "    <tr>\n",
              "      <th>1</th>\n",
              "      <td>0</td>\n",
              "      <td>2</td>\n",
              "      <td>27</td>\n",
              "      <td>1</td>\n",
              "      <td>0.016663</td>\n",
              "      <td>19</td>\n",
              "      <td>0.080139</td>\n",
              "      <td>12</td>\n",
              "      <td>NaN</td>\n",
              "      <td>NaN</td>\n",
              "      <td>NaN</td>\n",
              "      <td>NaN</td>\n",
              "      <td>NaN</td>\n",
              "      <td>NaN</td>\n",
              "      <td>NaN</td>\n",
              "      <td>NaN</td>\n",
              "      <td>NaN</td>\n",
              "      <td>NaN</td>\n",
              "      <td>NaN</td>\n",
              "      <td>NaN</td>\n",
              "      <td>NaN</td>\n",
              "      <td>NaN</td>\n",
              "      <td>NaN</td>\n",
              "      <td>NaN</td>\n",
              "      <td>NaN</td>\n",
              "      <td>NaN</td>\n",
              "      <td>NaN</td>\n",
              "      <td>NaN</td>\n",
              "      <td>NaN</td>\n",
              "      <td>NaN</td>\n",
              "      <td>NaN</td>\n",
              "      <td>NaN</td>\n",
              "      <td>0</td>\n",
              "      <td>31</td>\n",
              "      <td>NaN</td>\n",
              "      <td>NaN</td>\n",
              "      <td>NaN</td>\n",
              "      <td>NaN</td>\n",
              "      <td>NaN</td>\n",
              "      <td>NaN</td>\n",
              "      <td>0</td>\n",
              "      <td>0</td>\n",
              "    </tr>\n",
              "    <tr>\n",
              "      <th>2</th>\n",
              "      <td>0</td>\n",
              "      <td>2</td>\n",
              "      <td>28</td>\n",
              "      <td>0</td>\n",
              "      <td>0.016663</td>\n",
              "      <td>30</td>\n",
              "      <td>0.097717</td>\n",
              "      <td>57</td>\n",
              "      <td>NaN</td>\n",
              "      <td>NaN</td>\n",
              "      <td>NaN</td>\n",
              "      <td>NaN</td>\n",
              "      <td>NaN</td>\n",
              "      <td>NaN</td>\n",
              "      <td>NaN</td>\n",
              "      <td>NaN</td>\n",
              "      <td>NaN</td>\n",
              "      <td>NaN</td>\n",
              "      <td>NaN</td>\n",
              "      <td>NaN</td>\n",
              "      <td>NaN</td>\n",
              "      <td>NaN</td>\n",
              "      <td>NaN</td>\n",
              "      <td>NaN</td>\n",
              "      <td>NaN</td>\n",
              "      <td>NaN</td>\n",
              "      <td>NaN</td>\n",
              "      <td>NaN</td>\n",
              "      <td>NaN</td>\n",
              "      <td>NaN</td>\n",
              "      <td>NaN</td>\n",
              "      <td>NaN</td>\n",
              "      <td>0</td>\n",
              "      <td>31</td>\n",
              "      <td>NaN</td>\n",
              "      <td>NaN</td>\n",
              "      <td>NaN</td>\n",
              "      <td>NaN</td>\n",
              "      <td>NaN</td>\n",
              "      <td>NaN</td>\n",
              "      <td>0</td>\n",
              "      <td>0</td>\n",
              "    </tr>\n",
              "    <tr>\n",
              "      <th>3</th>\n",
              "      <td>0</td>\n",
              "      <td>2</td>\n",
              "      <td>29</td>\n",
              "      <td>0</td>\n",
              "      <td>0.016663</td>\n",
              "      <td>23</td>\n",
              "      <td>0.080139</td>\n",
              "      <td>18</td>\n",
              "      <td>NaN</td>\n",
              "      <td>NaN</td>\n",
              "      <td>NaN</td>\n",
              "      <td>NaN</td>\n",
              "      <td>NaN</td>\n",
              "      <td>NaN</td>\n",
              "      <td>NaN</td>\n",
              "      <td>NaN</td>\n",
              "      <td>NaN</td>\n",
              "      <td>NaN</td>\n",
              "      <td>NaN</td>\n",
              "      <td>NaN</td>\n",
              "      <td>NaN</td>\n",
              "      <td>NaN</td>\n",
              "      <td>NaN</td>\n",
              "      <td>NaN</td>\n",
              "      <td>NaN</td>\n",
              "      <td>NaN</td>\n",
              "      <td>NaN</td>\n",
              "      <td>NaN</td>\n",
              "      <td>NaN</td>\n",
              "      <td>NaN</td>\n",
              "      <td>NaN</td>\n",
              "      <td>NaN</td>\n",
              "      <td>0</td>\n",
              "      <td>31</td>\n",
              "      <td>NaN</td>\n",
              "      <td>NaN</td>\n",
              "      <td>NaN</td>\n",
              "      <td>NaN</td>\n",
              "      <td>NaN</td>\n",
              "      <td>NaN</td>\n",
              "      <td>0</td>\n",
              "      <td>0</td>\n",
              "    </tr>\n",
              "    <tr>\n",
              "      <th>4</th>\n",
              "      <td>0</td>\n",
              "      <td>2</td>\n",
              "      <td>32</td>\n",
              "      <td>0</td>\n",
              "      <td>0.016663</td>\n",
              "      <td>40</td>\n",
              "      <td>0.336670</td>\n",
              "      <td>6</td>\n",
              "      <td>NaN</td>\n",
              "      <td>NaN</td>\n",
              "      <td>NaN</td>\n",
              "      <td>NaN</td>\n",
              "      <td>NaN</td>\n",
              "      <td>NaN</td>\n",
              "      <td>NaN</td>\n",
              "      <td>NaN</td>\n",
              "      <td>NaN</td>\n",
              "      <td>NaN</td>\n",
              "      <td>NaN</td>\n",
              "      <td>NaN</td>\n",
              "      <td>NaN</td>\n",
              "      <td>NaN</td>\n",
              "      <td>NaN</td>\n",
              "      <td>NaN</td>\n",
              "      <td>NaN</td>\n",
              "      <td>NaN</td>\n",
              "      <td>NaN</td>\n",
              "      <td>NaN</td>\n",
              "      <td>NaN</td>\n",
              "      <td>NaN</td>\n",
              "      <td>NaN</td>\n",
              "      <td>NaN</td>\n",
              "      <td>0</td>\n",
              "      <td>31</td>\n",
              "      <td>NaN</td>\n",
              "      <td>NaN</td>\n",
              "      <td>NaN</td>\n",
              "      <td>NaN</td>\n",
              "      <td>NaN</td>\n",
              "      <td>NaN</td>\n",
              "      <td>0</td>\n",
              "      <td>0</td>\n",
              "    </tr>\n",
              "  </tbody>\n",
              "</table>\n",
              "</div>"
            ],
            "text/plain": [
              "   date_block_num  shop_id  ...  shop_item_fist_sales  item_fist_sales\n",
              "0               0        2  ...                     0                0\n",
              "1               0        2  ...                     0                0\n",
              "2               0        2  ...                     0                0\n",
              "3               0        2  ...                     0                0\n",
              "4               0        2  ...                     0                0\n",
              "\n",
              "[5 rows x 42 columns]"
            ]
          },
          "metadata": {
            "tags": []
          },
          "execution_count": 105
        }
      ]
    },
    {
      "cell_type": "code",
      "metadata": {
        "colab": {
          "base_uri": "https://localhost:8080/",
          "height": 0
        },
        "id": "qvPI0CjJYI0G",
        "outputId": "8d758103-f0f1-4e51-bce2-8759ec76662b"
      },
      "source": [
        "# for observation date_block_num=1, shop_id=2, item_id=32 -> item_cnt_month_lag_1 == 0 (which is item_cnt_month for date_block 0)\n",
        "sales_combin[(sales_combin.date_block_num == 1) & (sales_combin.item_id == 32)].head(1)"
      ],
      "execution_count": 106,
      "outputs": [
        {
          "output_type": "execute_result",
          "data": {
            "text/html": [
              "<div>\n",
              "<style scoped>\n",
              "    .dataframe tbody tr th:only-of-type {\n",
              "        vertical-align: middle;\n",
              "    }\n",
              "\n",
              "    .dataframe tbody tr th {\n",
              "        vertical-align: top;\n",
              "    }\n",
              "\n",
              "    .dataframe thead th {\n",
              "        text-align: right;\n",
              "    }\n",
              "</style>\n",
              "<table border=\"1\" class=\"dataframe\">\n",
              "  <thead>\n",
              "    <tr style=\"text-align: right;\">\n",
              "      <th></th>\n",
              "      <th>date_block_num</th>\n",
              "      <th>shop_id</th>\n",
              "      <th>item_id</th>\n",
              "      <th>item_cnt_month</th>\n",
              "      <th>city_code</th>\n",
              "      <th>item_category_id</th>\n",
              "      <th>type_code</th>\n",
              "      <th>subtype_code</th>\n",
              "      <th>item_cnt_month_lag_1</th>\n",
              "      <th>item_cnt_month_lag_2</th>\n",
              "      <th>item_cnt_month_lag_3</th>\n",
              "      <th>item_cnt_month_lag_4</th>\n",
              "      <th>item_cnt_month_lag_5</th>\n",
              "      <th>item_cnt_month_lag_6</th>\n",
              "      <th>date_avg_item_cnt_lag_1</th>\n",
              "      <th>date_item_avg_item_cnt_lag_1</th>\n",
              "      <th>date_item_avg_item_cnt_lag_2</th>\n",
              "      <th>date_item_avg_item_cnt_lag_3</th>\n",
              "      <th>date_shop_avg_item_cnt_lag_1</th>\n",
              "      <th>date_shop_avg_item_cnt_lag_2</th>\n",
              "      <th>date_shop_avg_item_cnt_lag_3</th>\n",
              "      <th>date_shop_item_avg_item_cnt_lag_1</th>\n",
              "      <th>date_shop_item_avg_item_cnt_lag_2</th>\n",
              "      <th>date_shop_item_avg_item_cnt_lag_3</th>\n",
              "      <th>date_shop_item_avg_item_cnt_lag_6</th>\n",
              "      <th>date_shop_categ_avg_item_cnt_lag_1</th>\n",
              "      <th>date_city_avg_item_cnt_lag_1</th>\n",
              "      <th>date_item_city_avg_item_cnt_lag_1</th>\n",
              "      <th>date_shop_type_avg_item_cnt_lag_1</th>\n",
              "      <th>date_shop_subtype_avg_item_cnt_lag_1</th>\n",
              "      <th>date_type_avg_item_cnt_lag_1</th>\n",
              "      <th>date_subtype_avg_item_cnt_lag_1</th>\n",
              "      <th>month</th>\n",
              "      <th>days</th>\n",
              "      <th>item_price_trend_lag_1</th>\n",
              "      <th>item_price_trend_lag_2</th>\n",
              "      <th>item_price_trend_lag_3</th>\n",
              "      <th>shop_revenue_trend_lag_1</th>\n",
              "      <th>shop_revenue_trend_lag_2</th>\n",
              "      <th>shop_revenue_trend_lag_3</th>\n",
              "      <th>shop_item_fist_sales</th>\n",
              "      <th>item_fist_sales</th>\n",
              "    </tr>\n",
              "  </thead>\n",
              "  <tbody>\n",
              "    <tr>\n",
              "      <th>365180</th>\n",
              "      <td>1</td>\n",
              "      <td>2</td>\n",
              "      <td>32</td>\n",
              "      <td>0</td>\n",
              "      <td>0.016663</td>\n",
              "      <td>40</td>\n",
              "      <td>0.33667</td>\n",
              "      <td>6</td>\n",
              "      <td>0.0</td>\n",
              "      <td>NaN</td>\n",
              "      <td>NaN</td>\n",
              "      <td>NaN</td>\n",
              "      <td>NaN</td>\n",
              "      <td>NaN</td>\n",
              "      <td>0.36084</td>\n",
              "      <td>6.644531</td>\n",
              "      <td>NaN</td>\n",
              "      <td>NaN</td>\n",
              "      <td>0.141846</td>\n",
              "      <td>NaN</td>\n",
              "      <td>NaN</td>\n",
              "      <td>0.0</td>\n",
              "      <td>NaN</td>\n",
              "      <td>NaN</td>\n",
              "      <td>NaN</td>\n",
              "      <td>0.07312</td>\n",
              "      <td>0.337402</td>\n",
              "      <td>6.230469</td>\n",
              "      <td>0.073853</td>\n",
              "      <td>0.07312</td>\n",
              "      <td>0.2854</td>\n",
              "      <td>0.311279</td>\n",
              "      <td>1</td>\n",
              "      <td>28</td>\n",
              "      <td>0.354004</td>\n",
              "      <td>NaN</td>\n",
              "      <td>NaN</td>\n",
              "      <td>-0.383545</td>\n",
              "      <td>NaN</td>\n",
              "      <td>NaN</td>\n",
              "      <td>1</td>\n",
              "      <td>1</td>\n",
              "    </tr>\n",
              "  </tbody>\n",
              "</table>\n",
              "</div>"
            ],
            "text/plain": [
              "        date_block_num  shop_id  ...  shop_item_fist_sales  item_fist_sales\n",
              "365180               1        2  ...                     1                1\n",
              "\n",
              "[1 rows x 42 columns]"
            ]
          },
          "metadata": {
            "tags": []
          },
          "execution_count": 106
        }
      ]
    },
    {
      "cell_type": "code",
      "metadata": {
        "id": "rRG7VdNFaiH1"
      },
      "source": [
        "# add aggregated features from grouped dfs and agg-s funcs\n",
        "# for each 'date_block_num', 'item_id', 'shop_id'\n",
        "group = sales_combin.groupby('date_block_num').agg({'item_cnt_month':'mean'})\n",
        "group.columns = ['date_avg_item_cnt']\n",
        "group.reset_index(inplace=True)\n",
        "\n",
        "# merge dfs\n",
        "sales_combin = pd.merge(sales_combin, group, on='date_block_num', how='left')\n",
        "sales_combin.date_avg_item_cnt = sales_combin.date_avg_item_cnt.astype('float16')\n",
        "# add lag\n",
        "sales_combin = add_lag(sales_combin, [1], 'date_avg_item_cnt')\n",
        "sales_combin.date_avg_item_cnt_lag_1 = sales_combin.date_avg_item_cnt_lag_1.astype('float16')\n",
        "# and drop the main column: this helped to decrease the size of data, prevent from dependence between lagged feature and primary feature \n",
        "# and keep only info about the previous sales for test block (as info such as aggregated mean about the current feature would be 0 in the case of test block) \n",
        "sales_combin.drop(['date_avg_item_cnt'], axis=1, inplace=True )"
      ],
      "execution_count": 140,
      "outputs": []
    },
    {
      "cell_type": "code",
      "metadata": {
        "id": "kHnQQlmNmNa1"
      },
      "source": [
        "# group by date_block_num, item_id\n",
        "group = sales_combin.groupby(['date_block_num', 'item_id']).agg({'item_cnt_month':'mean'})\n",
        "name = 'date_item_avg_item_cnt'\n",
        "group.columns = [name]\n",
        "group.reset_index(inplace=True)\n",
        "\n",
        "sales_combin = pd.merge(sales_combin, group, on=['date_block_num', 'item_id'], how='left')\n",
        "sales_combin[name] = sales_combin[name].astype('float16')\n",
        "lags = [1,2,3]\n",
        "sales_combin = add_lag(sales_combin, lags, name)\n",
        "for lag in lags:\n",
        "  sales_combin[name+'_lag_'+str(lag)] = sales_combin[name+'_lag_'+str(lag)].astype('float16')\n",
        "sales_combin.drop(['date_item_avg_item_cnt'], axis=1, inplace=True )"
      ],
      "execution_count": 141,
      "outputs": []
    },
    {
      "cell_type": "code",
      "metadata": {
        "id": "1DxnSfInaiYQ"
      },
      "source": [
        "# group by date_block_num, shop_id\n",
        "group = sales_combin.groupby(['date_block_num', 'shop_id']).agg({'item_cnt_month':'mean'})\n",
        "name = 'date_shop_avg_item_cnt'\n",
        "group.columns = [name]\n",
        "group.reset_index(inplace=True)\n",
        "\n",
        "sales_combin = pd.merge(sales_combin, group, on=['date_block_num', 'shop_id'], how='left')\n",
        "sales_combin[name] = sales_combin[name].astype('float16')\n",
        "sales_combin = add_lag(sales_combin, lags, name)\n",
        "for lag in lags:\n",
        "  sales_combin[name+'_lag_'+str(lag)] = sales_combin[name+'_lag_'+str(lag)].astype('float16')\n",
        "sales_combin.drop(['date_shop_avg_item_cnt'], axis=1, inplace=True)"
      ],
      "execution_count": 142,
      "outputs": []
    },
    {
      "cell_type": "code",
      "metadata": {
        "id": "PnTiZpF9nw2u"
      },
      "source": [
        "# group by date_block_num, shop_id, item_id\n",
        "group = sales_combin.groupby(['date_block_num', 'shop_id', 'item_id']).agg({'item_cnt_month':'mean'})\n",
        "name = 'date_shop_item_avg_item_cnt'\n",
        "group.columns = [name]\n",
        "group.reset_index(inplace=True)\n",
        "\n",
        "sales_combin = pd.merge(sales_combin, group, on=['date_block_num', 'shop_id', 'item_id'], how='left')\n",
        "sales_combin[name] = sales_combin[name].astype('float16')\n",
        "lags = [1,2,3,6]\n",
        "sales_combin = add_lag(sales_combin, lags, name)\n",
        "for lag in lags:\n",
        "  sales_combin[name+'_lag_'+str(lag)] = sales_combin[name+'_lag_'+str(lag)].astype('float16')\n",
        "sales_combin.drop(['date_shop_item_avg_item_cnt'], axis=1, inplace=True)"
      ],
      "execution_count": 143,
      "outputs": []
    },
    {
      "cell_type": "code",
      "metadata": {
        "id": "DmJtZUxCn9Pl"
      },
      "source": [
        "# group by date, shop, item_categ\n",
        "group = sales_combin.groupby(['date_block_num', 'shop_id', 'item_category_id']).agg({'item_cnt_month':'mean'})\n",
        "name = 'date_shop_categ_avg_item_cnt'\n",
        "group.columns = [name]\n",
        "group.reset_index(inplace=True)\n",
        "\n",
        "sales_combin = pd.merge(sales_combin, group, on=['date_block_num', 'shop_id', 'item_category_id'], how='left')\n",
        "sales_combin[name] = sales_combin[name].astype('float16')\n",
        "sales_combin = add_lag(sales_combin, [1], name)\n",
        "sales_combin[name+'_lag_1'] = sales_combin[name+'_lag_1'].astype('float16')\n",
        "sales_combin.drop([name], axis=1, inplace=True)\n",
        "\n",
        "# group by date, city_code\n",
        "group = sales_combin.groupby(['date_block_num', 'city_code']).agg({'item_cnt_month':'mean'})\n",
        "name = 'date_city_avg_item_cnt'\n",
        "group.columns = [name]\n",
        "group.reset_index(inplace=True)\n",
        "\n",
        "sales_combin = pd.merge(sales_combin, group, on=['date_block_num', 'city_code'], how='left')\n",
        "sales_combin[name] = sales_combin[name].astype('float16')\n",
        "sales_combin = add_lag(sales_combin, [1], name)\n",
        "sales_combin[name+'_lag_1'] = sales_combin[name+'_lag_1'].astype('float16')\n",
        "sales_combin.drop([name], axis=1, inplace=True)\n",
        "\n",
        "# group by date, item, city_code\n",
        "group = sales_combin.groupby(['date_block_num', 'item_id', 'city_code']).agg({'item_cnt_month':'mean'})\n",
        "name = 'date_item_city_avg_item_cnt'\n",
        "group.columns = [name]\n",
        "group.reset_index(inplace=True)\n",
        "\n",
        "sales_combin = pd.merge(sales_combin, group, on=['date_block_num', 'item_id', 'city_code'], how='left')\n",
        "sales_combin[name] = sales_combin[name].astype('float16')\n",
        "sales_combin = add_lag(sales_combin, [1], name)\n",
        "sales_combin[name+'_lag_1'] = sales_combin[name+'_lag_1'].astype('float16')\n",
        "sales_combin.drop([name], axis=1, inplace=True)\n",
        "\n",
        "# group by date, shop, type_code\n",
        "group = sales_combin.groupby(['date_block_num', 'shop_id', 'type_code']).agg({'item_cnt_month':'mean'})\n",
        "name = 'date_shop_type_avg_item_cnt'\n",
        "group.columns = [name]\n",
        "group.reset_index(inplace=True)\n",
        "\n",
        "sales_combin = pd.merge(sales_combin, group, on=['date_block_num', 'shop_id', 'type_code'], how='left')\n",
        "sales_combin[name] = sales_combin[name].astype('float16')\n",
        "sales_combin = add_lag(sales_combin, [1], name)\n",
        "sales_combin[name+'_lag_1'] = sales_combin[name+'_lag_1'].astype('float16')\n",
        "sales_combin.drop([name], axis=1, inplace=True)\n",
        "\n",
        "# group by date, shop, subtype_code\n",
        "group = sales_combin.groupby(['date_block_num', 'shop_id', 'subtype_code']).agg({'item_cnt_month':'mean'})\n",
        "name = 'date_shop_subtype_avg_item_cnt'\n",
        "group.columns = [name]\n",
        "group.reset_index(inplace=True)\n",
        "\n",
        "sales_combin = pd.merge(sales_combin, group, on=['date_block_num', 'shop_id', 'subtype_code'], how='left')\n",
        "sales_combin[name] = sales_combin[name].astype('float16')\n",
        "sales_combin = add_lag(sales_combin, [1], name)\n",
        "sales_combin[name+'_lag_1'] = sales_combin[name+'_lag_1'].astype('float16')\n",
        "sales_combin.drop([name], axis=1, inplace=True)\n",
        "\n",
        "# group by date, type_code\n",
        "group = sales_combin.groupby(['date_block_num', 'type_code']).agg({'item_cnt_month':'mean'})\n",
        "name = 'date_type_avg_item_cnt'\n",
        "group.columns = [name]\n",
        "group.reset_index(inplace=True)\n",
        "\n",
        "sales_combin = pd.merge(sales_combin, group, on=['date_block_num', 'type_code'], how='left')\n",
        "sales_combin[name] = sales_combin[name].astype('float16')\n",
        "sales_combin = add_lag(sales_combin, [1], name)\n",
        "sales_combin[name+'_lag_1'] = sales_combin[name+'_lag_1'].astype('float16')\n",
        "sales_combin.drop([name], axis=1, inplace=True)\n",
        "\n",
        "# group by date, subtype_code\n",
        "group = sales_combin.groupby(['date_block_num', 'subtype_code']).agg({'item_cnt_month':'mean'})\n",
        "name = 'date_subtype_avg_item_cnt'\n",
        "group.columns = [name]\n",
        "group.reset_index(inplace=True)\n",
        "\n",
        "sales_combin = pd.merge(sales_combin, group, on=['date_block_num', 'subtype_code'], how='left')\n",
        "sales_combin[name] = sales_combin[name].astype('float16')\n",
        "sales_combin = add_lag(sales_combin, [1], name)\n",
        "sales_combin[name+'_lag_1'] = sales_combin[name+'_lag_1'].astype('float16')\n",
        "sales_combin.drop([name], axis=1, inplace=True)"
      ],
      "execution_count": 144,
      "outputs": []
    },
    {
      "cell_type": "code",
      "metadata": {
        "id": "432MiNUXJbjs"
      },
      "source": [
        "# add time features like number of days and month\n",
        "days = pd.Series([31,28,31,30,31,30,31,31,30,31,30,31])\n",
        "sales_combin['month'] = (sales_combin.date_block_num % 12).astype('int8')\n",
        "sales_combin['days'] = sales_combin.month.map(days).astype('int8')"
      ],
      "execution_count": 145,
      "outputs": []
    },
    {
      "cell_type": "code",
      "metadata": {
        "id": "yHLxW6cYTy2N"
      },
      "source": [
        "sales_combin.head(3)"
      ],
      "execution_count": null,
      "outputs": []
    },
    {
      "cell_type": "code",
      "metadata": {
        "id": "hMnPHn6RwO-L"
      },
      "source": [
        "# add features from train df like 'revenue', 'item_price'\n",
        "# mean price for each item\n",
        "group = sales_df.groupby(['item_id']).agg({'item_price': ['mean']})\n",
        "name = 'item_avg_item_price'\n",
        "group.columns = [name]\n",
        "group.reset_index(inplace=True)\n",
        "\n",
        "sales_combin = pd.merge(sales_combin, group, on=['item_id'], how='left')\n",
        "sales_combin[name] = sales_combin[name].astype('float16')\n",
        "\n",
        "# mean price for each pair of date_block and item\n",
        "group = sales_df.groupby(['date_block_num', 'item_id']).agg({'item_price': ['mean']})\n",
        "name = 'date_item_avg_item_price'\n",
        "group.columns = [name]\n",
        "group.reset_index(inplace=True)\n",
        "\n",
        "sales_combin = pd.merge(sales_combin, group, on=['date_block_num', 'item_id'], how='left')\n",
        "sales_combin[name] = sales_combin[name].astype('float16')\n",
        "\n",
        "# and this I borrowed from kaggle\n",
        "# here we calculate trend of the mean item price by date blocks\n",
        "sales_combin['item_price_trend'] = (sales_combin.date_item_avg_item_price - sales_combin.item_avg_item_price) / sales_combin.item_avg_item_price\n",
        "lags = [1, 2, 3]\n",
        "sales_combin = add_lag(sales_combin, lags, 'item_price_trend')\n",
        "for lag in lags:\n",
        "  sales_combin['item_price_trend_lag_'+str(lag)] = sales_combin['item_price_trend_lag_'+str(lag)].astype('float16')\n",
        "sales_combin.drop(['item_price_trend', 'date_item_avg_item_price', 'item_avg_item_price'], axis=1, inplace=True)"
      ],
      "execution_count": 146,
      "outputs": []
    },
    {
      "cell_type": "code",
      "metadata": {
        "id": "sU9ieGGlVHbm"
      },
      "source": [
        "# group by date, shop\n",
        "group = sales_df.groupby(['date_block_num', 'shop_id']).agg({'revenue': ['mean']})\n",
        "group.columns = ['date_shop_avg_revenue']\n",
        "group.reset_index(inplace=True)\n",
        "\n",
        "sales_combin = pd.merge(sales_combin, group, on=['date_block_num', 'shop_id'], how='left')\n",
        "sales_combin['date_shop_avg_revenue'] = sales_combin['date_shop_avg_revenue'].astype('float16')\n",
        "\n",
        "group = group.groupby('shop_id').agg({'date_shop_avg_revenue':'mean'})\n",
        "group.columns = ['shop_avg_revenue']\n",
        "group.reset_index(inplace=True)\n",
        "\n",
        "sales_combin = pd.merge(sales_combin, group, on=['shop_id'], how='left')\n",
        "sales_combin['shop_avg_revenue'] = sales_combin['shop_avg_revenue'].astype('float16')\n",
        "\n",
        "# add revenue trend\n",
        "sales_combin['shop_revenue_trend'] = (sales_combin.date_shop_avg_revenue - sales_combin.shop_avg_revenue) / sales_combin.shop_avg_revenue\n",
        "sales_combin = add_lag(sales_combin, lags, 'shop_revenue_trend')\n",
        "for lag in lags:\n",
        "  sales_combin['shop_revenue_trend_lag_'+str(lag)] = sales_combin['shop_revenue_trend_lag_'+str(lag)].astype('float16')\n",
        "sales_combin.drop(['shop_revenue_trend', 'date_shop_avg_revenue', 'shop_avg_revenue'], axis=1, inplace=True)"
      ],
      "execution_count": 147,
      "outputs": []
    },
    {
      "cell_type": "code",
      "metadata": {
        "id": "dtlrZiENuExU",
        "colab": {
          "base_uri": "https://localhost:8080/"
        },
        "outputId": "13f7c57f-2885-4f20-95f1-114af59560c8"
      },
      "source": [
        "# for each shop-item pair and then for each item find fist date_block of sales\n",
        "sales_combin.groupby(['shop_id', 'item_id'])['date_block_num'].min()"
      ],
      "execution_count": 103,
      "outputs": [
        {
          "output_type": "execute_result",
          "data": {
            "text/plain": [
              "shop_id  item_id\n",
              "2        0          20\n",
              "         1          15\n",
              "         2          19\n",
              "         3          18\n",
              "         4          20\n",
              "                    ..\n",
              "59       22165       7\n",
              "         22166       9\n",
              "         22167       8\n",
              "         22168       0\n",
              "         22169      14\n",
              "Name: date_block_num, Length: 1128896, dtype: int8"
            ]
          },
          "metadata": {
            "tags": []
          },
          "execution_count": 103
        }
      ]
    },
    {
      "cell_type": "code",
      "metadata": {
        "id": "XxVAPvfZ8Xgz"
      },
      "source": [
        "# and calculate how many date_blocks has passed since the first sale's date_block\n",
        "sales_combin['shop_item_fist_sales'] = sales_combin.date_block_num - sales_combin.groupby(['shop_id', 'item_id'])['date_block_num'].transform('min')\n",
        "sales_combin['item_fist_sales'] = sales_combin.date_block_num - sales_combin.groupby(['item_id'])['date_block_num'].transform('min')"
      ],
      "execution_count": 148,
      "outputs": []
    },
    {
      "cell_type": "code",
      "metadata": {
        "colab": {
          "base_uri": "https://localhost:8080/"
        },
        "id": "OqldxOdbLuM9",
        "outputId": "5a3c88b5-0ed3-4a5b-8e2e-18ef19f63a42"
      },
      "source": [
        "sales_combin.info()"
      ],
      "execution_count": 149,
      "outputs": [
        {
          "output_type": "stream",
          "text": [
            "<class 'pandas.core.frame.DataFrame'>\n",
            "Int64Index: 11128004 entries, 0 to 11128003\n",
            "Data columns (total 42 columns):\n",
            " #   Column                                Dtype  \n",
            "---  ------                                -----  \n",
            " 0   date_block_num                        int8   \n",
            " 1   shop_id                               int8   \n",
            " 2   item_id                               int16  \n",
            " 3   item_cnt_month                        int16  \n",
            " 4   city_code                             float16\n",
            " 5   item_category_id                      int8   \n",
            " 6   type_code                             float16\n",
            " 7   subtype_code                          int8   \n",
            " 8   item_cnt_month_lag_1                  float16\n",
            " 9   item_cnt_month_lag_2                  float16\n",
            " 10  item_cnt_month_lag_3                  float16\n",
            " 11  item_cnt_month_lag_4                  float16\n",
            " 12  item_cnt_month_lag_5                  float16\n",
            " 13  item_cnt_month_lag_6                  float16\n",
            " 14  date_avg_item_cnt_lag_1               float16\n",
            " 15  date_item_avg_item_cnt_lag_1          float16\n",
            " 16  date_item_avg_item_cnt_lag_2          float16\n",
            " 17  date_item_avg_item_cnt_lag_3          float16\n",
            " 18  date_shop_avg_item_cnt_lag_1          float16\n",
            " 19  date_shop_avg_item_cnt_lag_2          float16\n",
            " 20  date_shop_avg_item_cnt_lag_3          float16\n",
            " 21  date_shop_item_avg_item_cnt_lag_1     float16\n",
            " 22  date_shop_item_avg_item_cnt_lag_2     float16\n",
            " 23  date_shop_item_avg_item_cnt_lag_3     float16\n",
            " 24  date_shop_item_avg_item_cnt_lag_6     float16\n",
            " 25  date_shop_categ_avg_item_cnt_lag_1    float16\n",
            " 26  date_city_avg_item_cnt_lag_1          float16\n",
            " 27  date_item_city_avg_item_cnt_lag_1     float16\n",
            " 28  date_shop_type_avg_item_cnt_lag_1     float16\n",
            " 29  date_shop_subtype_avg_item_cnt_lag_1  float16\n",
            " 30  date_type_avg_item_cnt_lag_1          float16\n",
            " 31  date_subtype_avg_item_cnt_lag_1       float16\n",
            " 32  month                                 int8   \n",
            " 33  days                                  int8   \n",
            " 34  item_price_trend_lag_1                float16\n",
            " 35  item_price_trend_lag_2                float16\n",
            " 36  item_price_trend_lag_3                float16\n",
            " 37  shop_revenue_trend_lag_1              float16\n",
            " 38  shop_revenue_trend_lag_2              float16\n",
            " 39  shop_revenue_trend_lag_3              float16\n",
            " 40  shop_item_fist_sales                  int8   \n",
            " 41  item_fist_sales                       int8   \n",
            "dtypes: float16(32), int16(2), int8(8)\n",
            "memory usage: 891.4 MB\n"
          ],
          "name": "stdout"
        }
      ]
    },
    {
      "cell_type": "code",
      "metadata": {
        "id": "aFoBoj3VLV-7"
      },
      "source": [
        "# as the biggest lag is 6, which means that we can omit first 5 date blocks\n",
        "sales_combin = sales_combin[sales_combin.date_block_num > 5]"
      ],
      "execution_count": 150,
      "outputs": []
    },
    {
      "cell_type": "code",
      "metadata": {
        "colab": {
          "base_uri": "https://localhost:8080/"
        },
        "id": "-qccsG7ALQXh",
        "outputId": "40908604-732f-463b-d23d-1e255691e1f0"
      },
      "source": [
        "sales_combin.isna().sum()\n",
        "# have lots of missing values in lagged features, but xgboost we'll cope with them"
      ],
      "execution_count": 109,
      "outputs": [
        {
          "output_type": "execute_result",
          "data": {
            "text/plain": [
              "date_block_num                                0\n",
              "shop_id                                       0\n",
              "item_id                                       0\n",
              "item_cnt_month                                0\n",
              "city_code                                     0\n",
              "item_category_id                              0\n",
              "type_code                                     0\n",
              "subtype_code                                  0\n",
              "item_cnt_month_lag_1                    1812889\n",
              "item_cnt_month_lag_2                    2082221\n",
              "item_cnt_month_lag_3                    2351588\n",
              "item_cnt_month_lag_4                    2611120\n",
              "item_cnt_month_lag_5                    2874218\n",
              "item_cnt_month_lag_6                    3123035\n",
              "date_avg_item_cnt_lag_1                 1812889\n",
              "date_item_avg_item_cnt_lag_1            1812889\n",
              "date_item_avg_item_cnt_lag_2            2082221\n",
              "date_item_avg_item_cnt_lag_3            2351588\n",
              "date_shop_avg_item_cnt_lag_1            1812889\n",
              "date_shop_avg_item_cnt_lag_2            2082221\n",
              "date_shop_avg_item_cnt_lag_3            2351588\n",
              "date_shop_item_avg_item_cnt_lag_1       1812889\n",
              "date_shop_item_avg_item_cnt_lag_2       2082221\n",
              "date_shop_item_avg_item_cnt_lag_3       2351588\n",
              "date_shop_item_avg_item_cnt_lag_6       3123035\n",
              "date_shop_categ_avg_item_cnt_lag_1      1812889\n",
              "date_city_avg_item_cnt_lag_1            1812889\n",
              "date_item_city_avg_item_cnt_lag_1       1812889\n",
              "date_shop_type_avg_item_cnt_lag_1       1812889\n",
              "date_shop_subtype_avg_item_cnt_lag_1    1812889\n",
              "date_type_avg_item_cnt_lag_1            1812889\n",
              "date_subtype_avg_item_cnt_lag_1         1812889\n",
              "month                                         0\n",
              "days                                          0\n",
              "item_price_trend_lag_1                  1812889\n",
              "item_price_trend_lag_2                  2082221\n",
              "item_price_trend_lag_3                  2351588\n",
              "shop_revenue_trend_lag_1                1812889\n",
              "shop_revenue_trend_lag_2                2082221\n",
              "shop_revenue_trend_lag_3                2351588\n",
              "shop_item_fist_sales                          0\n",
              "item_fist_sales                               0\n",
              "dtype: int64"
            ]
          },
          "metadata": {
            "tags": []
          },
          "execution_count": 109
        }
      ]
    },
    {
      "cell_type": "code",
      "metadata": {
        "id": "E5zrKGA33Rgl"
      },
      "source": [
        "sales_combin.to_pickle('sales_demo_20.pkl')"
      ],
      "execution_count": 151,
      "outputs": []
    },
    {
      "cell_type": "markdown",
      "metadata": {
        "id": "b2B5-dSMYdRC"
      },
      "source": [
        "## Prepare train, val and test data"
      ]
    },
    {
      "cell_type": "code",
      "metadata": {
        "id": "c1wNJTHbw_Zp",
        "colab": {
          "base_uri": "https://localhost:8080/",
          "height": 0
        },
        "outputId": "ad96f2e0-32e6-4261-877b-b33c6cea283c"
      },
      "source": [
        "# load model\n",
        "sales_combin = pd.read_pickle('sales_demo_20.pkl')\n",
        "sales_combin.head(3)"
      ],
      "execution_count": 3,
      "outputs": [
        {
          "output_type": "execute_result",
          "data": {
            "text/html": [
              "<div>\n",
              "<style scoped>\n",
              "    .dataframe tbody tr th:only-of-type {\n",
              "        vertical-align: middle;\n",
              "    }\n",
              "\n",
              "    .dataframe tbody tr th {\n",
              "        vertical-align: top;\n",
              "    }\n",
              "\n",
              "    .dataframe thead th {\n",
              "        text-align: right;\n",
              "    }\n",
              "</style>\n",
              "<table border=\"1\" class=\"dataframe\">\n",
              "  <thead>\n",
              "    <tr style=\"text-align: right;\">\n",
              "      <th></th>\n",
              "      <th>date_block_num</th>\n",
              "      <th>shop_id</th>\n",
              "      <th>item_id</th>\n",
              "      <th>item_cnt_month</th>\n",
              "      <th>city_code</th>\n",
              "      <th>item_category_id</th>\n",
              "      <th>type_code</th>\n",
              "      <th>subtype_code</th>\n",
              "      <th>item_cnt_month_lag_1</th>\n",
              "      <th>item_cnt_month_lag_2</th>\n",
              "      <th>item_cnt_month_lag_3</th>\n",
              "      <th>item_cnt_month_lag_4</th>\n",
              "      <th>item_cnt_month_lag_5</th>\n",
              "      <th>item_cnt_month_lag_6</th>\n",
              "      <th>date_avg_item_cnt_lag_1</th>\n",
              "      <th>date_item_avg_item_cnt_lag_1</th>\n",
              "      <th>date_item_avg_item_cnt_lag_2</th>\n",
              "      <th>date_item_avg_item_cnt_lag_3</th>\n",
              "      <th>date_shop_avg_item_cnt_lag_1</th>\n",
              "      <th>date_shop_avg_item_cnt_lag_2</th>\n",
              "      <th>date_shop_avg_item_cnt_lag_3</th>\n",
              "      <th>date_shop_item_avg_item_cnt_lag_1</th>\n",
              "      <th>date_shop_item_avg_item_cnt_lag_2</th>\n",
              "      <th>date_shop_item_avg_item_cnt_lag_3</th>\n",
              "      <th>date_shop_item_avg_item_cnt_lag_6</th>\n",
              "      <th>date_shop_categ_avg_item_cnt_lag_1</th>\n",
              "      <th>date_city_avg_item_cnt_lag_1</th>\n",
              "      <th>date_item_city_avg_item_cnt_lag_1</th>\n",
              "      <th>date_shop_type_avg_item_cnt_lag_1</th>\n",
              "      <th>date_shop_subtype_avg_item_cnt_lag_1</th>\n",
              "      <th>date_type_avg_item_cnt_lag_1</th>\n",
              "      <th>date_subtype_avg_item_cnt_lag_1</th>\n",
              "      <th>month</th>\n",
              "      <th>days</th>\n",
              "      <th>item_price_trend_lag_1</th>\n",
              "      <th>item_price_trend_lag_2</th>\n",
              "      <th>item_price_trend_lag_3</th>\n",
              "      <th>shop_revenue_trend_lag_1</th>\n",
              "      <th>shop_revenue_trend_lag_2</th>\n",
              "      <th>shop_revenue_trend_lag_3</th>\n",
              "      <th>shop_item_fist_sales</th>\n",
              "      <th>item_fist_sales</th>\n",
              "    </tr>\n",
              "  </thead>\n",
              "  <tbody>\n",
              "    <tr>\n",
              "      <th>2262708</th>\n",
              "      <td>6</td>\n",
              "      <td>2</td>\n",
              "      <td>27</td>\n",
              "      <td>0</td>\n",
              "      <td>0.016663</td>\n",
              "      <td>19</td>\n",
              "      <td>0.080139</td>\n",
              "      <td>12</td>\n",
              "      <td>0.0</td>\n",
              "      <td>0.0</td>\n",
              "      <td>0.0</td>\n",
              "      <td>0.0</td>\n",
              "      <td>0.0</td>\n",
              "      <td>1.0</td>\n",
              "      <td>0.316406</td>\n",
              "      <td>0.043488</td>\n",
              "      <td>0.044434</td>\n",
              "      <td>0.021744</td>\n",
              "      <td>0.098145</td>\n",
              "      <td>0.066345</td>\n",
              "      <td>0.071838</td>\n",
              "      <td>0.0</td>\n",
              "      <td>0.0</td>\n",
              "      <td>0.0</td>\n",
              "      <td>1.0</td>\n",
              "      <td>0.724609</td>\n",
              "      <td>0.262695</td>\n",
              "      <td>0.00000</td>\n",
              "      <td>0.563965</td>\n",
              "      <td>0.650391</td>\n",
              "      <td>0.796875</td>\n",
              "      <td>0.888184</td>\n",
              "      <td>6</td>\n",
              "      <td>31</td>\n",
              "      <td>-0.043121</td>\n",
              "      <td>0.196411</td>\n",
              "      <td>0.367676</td>\n",
              "      <td>-0.332764</td>\n",
              "      <td>-0.38208</td>\n",
              "      <td>-0.32959</td>\n",
              "      <td>6</td>\n",
              "      <td>6</td>\n",
              "    </tr>\n",
              "    <tr>\n",
              "      <th>2262709</th>\n",
              "      <td>6</td>\n",
              "      <td>2</td>\n",
              "      <td>28</td>\n",
              "      <td>0</td>\n",
              "      <td>0.016663</td>\n",
              "      <td>30</td>\n",
              "      <td>0.097717</td>\n",
              "      <td>57</td>\n",
              "      <td>0.0</td>\n",
              "      <td>0.0</td>\n",
              "      <td>0.0</td>\n",
              "      <td>0.0</td>\n",
              "      <td>0.0</td>\n",
              "      <td>0.0</td>\n",
              "      <td>0.316406</td>\n",
              "      <td>0.086975</td>\n",
              "      <td>0.111084</td>\n",
              "      <td>0.130493</td>\n",
              "      <td>0.098145</td>\n",
              "      <td>0.066345</td>\n",
              "      <td>0.071838</td>\n",
              "      <td>0.0</td>\n",
              "      <td>0.0</td>\n",
              "      <td>0.0</td>\n",
              "      <td>0.0</td>\n",
              "      <td>0.431641</td>\n",
              "      <td>0.262695</td>\n",
              "      <td>0.06665</td>\n",
              "      <td>0.288330</td>\n",
              "      <td>0.431641</td>\n",
              "      <td>0.787598</td>\n",
              "      <td>1.236328</td>\n",
              "      <td>6</td>\n",
              "      <td>31</td>\n",
              "      <td>-0.038696</td>\n",
              "      <td>0.283936</td>\n",
              "      <td>0.256348</td>\n",
              "      <td>-0.332764</td>\n",
              "      <td>-0.38208</td>\n",
              "      <td>-0.32959</td>\n",
              "      <td>6</td>\n",
              "      <td>6</td>\n",
              "    </tr>\n",
              "    <tr>\n",
              "      <th>2262710</th>\n",
              "      <td>6</td>\n",
              "      <td>2</td>\n",
              "      <td>29</td>\n",
              "      <td>0</td>\n",
              "      <td>0.016663</td>\n",
              "      <td>23</td>\n",
              "      <td>0.080139</td>\n",
              "      <td>18</td>\n",
              "      <td>NaN</td>\n",
              "      <td>0.0</td>\n",
              "      <td>NaN</td>\n",
              "      <td>NaN</td>\n",
              "      <td>NaN</td>\n",
              "      <td>0.0</td>\n",
              "      <td>NaN</td>\n",
              "      <td>NaN</td>\n",
              "      <td>0.022217</td>\n",
              "      <td>NaN</td>\n",
              "      <td>NaN</td>\n",
              "      <td>0.066345</td>\n",
              "      <td>NaN</td>\n",
              "      <td>NaN</td>\n",
              "      <td>0.0</td>\n",
              "      <td>NaN</td>\n",
              "      <td>0.0</td>\n",
              "      <td>NaN</td>\n",
              "      <td>NaN</td>\n",
              "      <td>NaN</td>\n",
              "      <td>NaN</td>\n",
              "      <td>NaN</td>\n",
              "      <td>NaN</td>\n",
              "      <td>NaN</td>\n",
              "      <td>6</td>\n",
              "      <td>31</td>\n",
              "      <td>NaN</td>\n",
              "      <td>-0.147827</td>\n",
              "      <td>NaN</td>\n",
              "      <td>NaN</td>\n",
              "      <td>-0.38208</td>\n",
              "      <td>NaN</td>\n",
              "      <td>6</td>\n",
              "      <td>6</td>\n",
              "    </tr>\n",
              "  </tbody>\n",
              "</table>\n",
              "</div>"
            ],
            "text/plain": [
              "         date_block_num  shop_id  ...  shop_item_fist_sales  item_fist_sales\n",
              "2262708               6        2  ...                     6                6\n",
              "2262709               6        2  ...                     6                6\n",
              "2262710               6        2  ...                     6                6\n",
              "\n",
              "[3 rows x 42 columns]"
            ]
          },
          "metadata": {
            "tags": []
          },
          "execution_count": 3
        }
      ]
    },
    {
      "cell_type": "code",
      "metadata": {
        "id": "pwxKdACcOgbw"
      },
      "source": [
        "X_train = sales_combin[sales_combin.date_block_num < 33].drop(['item_cnt_month'], axis=1)\n",
        "y_train = sales_combin[sales_combin.date_block_num < 33]['item_cnt_month']\n",
        "\n",
        "X_val = sales_combin[sales_combin.date_block_num == 33].drop(['item_cnt_month'], axis=1)\n",
        "y_val = sales_combin[sales_combin.date_block_num == 33]['item_cnt_month']\n",
        "\n",
        "X_test = sales_combin[sales_combin.date_block_num == 34].drop(['item_cnt_month'], axis=1)"
      ],
      "execution_count": 4,
      "outputs": []
    },
    {
      "cell_type": "code",
      "metadata": {
        "id": "_VgYJbqnPMrW"
      },
      "source": [
        "del sales_combin\n",
        "import gc\n",
        "gc.collect();"
      ],
      "execution_count": 5,
      "outputs": []
    },
    {
      "cell_type": "markdown",
      "metadata": {
        "id": "N7cEqH7h64IH"
      },
      "source": [
        "## Model 1 (where item count in range 0-22)"
      ]
    },
    {
      "cell_type": "code",
      "metadata": {
        "colab": {
          "base_uri": "https://localhost:8080/"
        },
        "id": "W7nwnrqDPY1K",
        "outputId": "269273d5-b4e6-470d-ec9a-4b1ccb10f9cf"
      },
      "source": [
        "model1 = XGBRegressor(max_depth=10,\n",
        "                      eta=0.05,\n",
        "                      n_estimators=1000,\n",
        "                      gamma=1,\n",
        "                      min_child_weight=5,\n",
        "                      colsample_bytree=0.8, \n",
        "                      subsample=0.8, \n",
        "                      seed=42,\n",
        "                      tree_method='gpu_hist', gpu_id=0)\n",
        "model1.fit(X_train, \n",
        "    y_train, \n",
        "    eval_metric=\"rmse\", \n",
        "    eval_set=[(X_train, y_train), (X_val, y_val)], \n",
        "    verbose=True,\n",
        "    early_stopping_rounds=50)"
      ],
      "execution_count": 8,
      "outputs": [
        {
          "output_type": "stream",
          "text": [
            "[14:27:23] WARNING: /workspace/src/objective/regression_obj.cu:152: reg:linear is now deprecated in favor of reg:squarederror.\n",
            "[0]\tvalidation_0-rmse:2.61821\tvalidation_1-rmse:2.21504\n",
            "Multiple eval metrics have been passed: 'validation_1-rmse' will be used for early stopping.\n",
            "\n",
            "Will train until validation_1-rmse hasn't improved in 50 rounds.\n",
            "[1]\tvalidation_0-rmse:2.44765\tvalidation_1-rmse:2.11411\n",
            "[2]\tvalidation_0-rmse:2.29772\tvalidation_1-rmse:2.00065\n",
            "[3]\tvalidation_0-rmse:2.16712\tvalidation_1-rmse:1.90367\n",
            "[4]\tvalidation_0-rmse:2.05219\tvalidation_1-rmse:1.81961\n",
            "[5]\tvalidation_0-rmse:1.95042\tvalidation_1-rmse:1.74453\n",
            "[6]\tvalidation_0-rmse:1.86169\tvalidation_1-rmse:1.66876\n",
            "[7]\tvalidation_0-rmse:1.78552\tvalidation_1-rmse:1.59904\n",
            "[8]\tvalidation_0-rmse:1.71759\tvalidation_1-rmse:1.55134\n",
            "[9]\tvalidation_0-rmse:1.6598\tvalidation_1-rmse:1.51199\n",
            "[10]\tvalidation_0-rmse:1.60833\tvalidation_1-rmse:1.48918\n",
            "[11]\tvalidation_0-rmse:1.5638\tvalidation_1-rmse:1.46471\n",
            "[12]\tvalidation_0-rmse:1.52414\tvalidation_1-rmse:1.44728\n",
            "[13]\tvalidation_0-rmse:1.48902\tvalidation_1-rmse:1.4308\n",
            "[14]\tvalidation_0-rmse:1.45936\tvalidation_1-rmse:1.42037\n",
            "[15]\tvalidation_0-rmse:1.43333\tvalidation_1-rmse:1.40998\n",
            "[16]\tvalidation_0-rmse:1.41274\tvalidation_1-rmse:1.39846\n",
            "[17]\tvalidation_0-rmse:1.3931\tvalidation_1-rmse:1.39371\n",
            "[18]\tvalidation_0-rmse:1.37392\tvalidation_1-rmse:1.38935\n",
            "[19]\tvalidation_0-rmse:1.35943\tvalidation_1-rmse:1.39715\n",
            "[20]\tvalidation_0-rmse:1.34525\tvalidation_1-rmse:1.39206\n",
            "[21]\tvalidation_0-rmse:1.33365\tvalidation_1-rmse:1.39209\n",
            "[22]\tvalidation_0-rmse:1.32391\tvalidation_1-rmse:1.39526\n",
            "[23]\tvalidation_0-rmse:1.31403\tvalidation_1-rmse:1.39901\n",
            "[24]\tvalidation_0-rmse:1.30536\tvalidation_1-rmse:1.39865\n",
            "[25]\tvalidation_0-rmse:1.29693\tvalidation_1-rmse:1.39857\n",
            "[26]\tvalidation_0-rmse:1.28992\tvalidation_1-rmse:1.39806\n",
            "[27]\tvalidation_0-rmse:1.28356\tvalidation_1-rmse:1.40239\n",
            "[28]\tvalidation_0-rmse:1.2778\tvalidation_1-rmse:1.40634\n",
            "[29]\tvalidation_0-rmse:1.27239\tvalidation_1-rmse:1.40451\n",
            "[30]\tvalidation_0-rmse:1.26751\tvalidation_1-rmse:1.40298\n",
            "[31]\tvalidation_0-rmse:1.26364\tvalidation_1-rmse:1.40275\n",
            "[32]\tvalidation_0-rmse:1.25841\tvalidation_1-rmse:1.40161\n",
            "[33]\tvalidation_0-rmse:1.25512\tvalidation_1-rmse:1.40318\n",
            "[34]\tvalidation_0-rmse:1.25149\tvalidation_1-rmse:1.40345\n",
            "[35]\tvalidation_0-rmse:1.24817\tvalidation_1-rmse:1.40381\n",
            "[36]\tvalidation_0-rmse:1.24547\tvalidation_1-rmse:1.40868\n",
            "[37]\tvalidation_0-rmse:1.24264\tvalidation_1-rmse:1.40976\n",
            "[38]\tvalidation_0-rmse:1.24016\tvalidation_1-rmse:1.41045\n",
            "[39]\tvalidation_0-rmse:1.23697\tvalidation_1-rmse:1.41155\n",
            "[40]\tvalidation_0-rmse:1.23412\tvalidation_1-rmse:1.41828\n",
            "[41]\tvalidation_0-rmse:1.23184\tvalidation_1-rmse:1.41812\n",
            "[42]\tvalidation_0-rmse:1.22953\tvalidation_1-rmse:1.41706\n",
            "[43]\tvalidation_0-rmse:1.22814\tvalidation_1-rmse:1.41674\n",
            "[44]\tvalidation_0-rmse:1.22569\tvalidation_1-rmse:1.4191\n",
            "[45]\tvalidation_0-rmse:1.22384\tvalidation_1-rmse:1.41937\n",
            "[46]\tvalidation_0-rmse:1.22165\tvalidation_1-rmse:1.42019\n",
            "[47]\tvalidation_0-rmse:1.22042\tvalidation_1-rmse:1.42196\n",
            "[48]\tvalidation_0-rmse:1.21869\tvalidation_1-rmse:1.42315\n",
            "[49]\tvalidation_0-rmse:1.21668\tvalidation_1-rmse:1.42721\n",
            "[50]\tvalidation_0-rmse:1.21435\tvalidation_1-rmse:1.42639\n",
            "[51]\tvalidation_0-rmse:1.21359\tvalidation_1-rmse:1.42667\n",
            "[52]\tvalidation_0-rmse:1.21121\tvalidation_1-rmse:1.42708\n",
            "[53]\tvalidation_0-rmse:1.20961\tvalidation_1-rmse:1.42944\n",
            "[54]\tvalidation_0-rmse:1.20815\tvalidation_1-rmse:1.43621\n",
            "[55]\tvalidation_0-rmse:1.20665\tvalidation_1-rmse:1.43532\n",
            "[56]\tvalidation_0-rmse:1.20593\tvalidation_1-rmse:1.43546\n",
            "[57]\tvalidation_0-rmse:1.20525\tvalidation_1-rmse:1.43675\n",
            "[58]\tvalidation_0-rmse:1.20334\tvalidation_1-rmse:1.43725\n",
            "[59]\tvalidation_0-rmse:1.20202\tvalidation_1-rmse:1.43872\n",
            "[60]\tvalidation_0-rmse:1.20118\tvalidation_1-rmse:1.43861\n",
            "[61]\tvalidation_0-rmse:1.20045\tvalidation_1-rmse:1.43813\n",
            "[62]\tvalidation_0-rmse:1.19926\tvalidation_1-rmse:1.4381\n",
            "[63]\tvalidation_0-rmse:1.19785\tvalidation_1-rmse:1.43752\n",
            "[64]\tvalidation_0-rmse:1.19572\tvalidation_1-rmse:1.43663\n",
            "[65]\tvalidation_0-rmse:1.19501\tvalidation_1-rmse:1.43678\n",
            "[66]\tvalidation_0-rmse:1.19436\tvalidation_1-rmse:1.43707\n",
            "[67]\tvalidation_0-rmse:1.19372\tvalidation_1-rmse:1.43641\n",
            "[68]\tvalidation_0-rmse:1.1922\tvalidation_1-rmse:1.43636\n",
            "Stopping. Best iteration:\n",
            "[18]\tvalidation_0-rmse:1.37392\tvalidation_1-rmse:1.38935\n",
            "\n"
          ],
          "name": "stdout"
        },
        {
          "output_type": "execute_result",
          "data": {
            "text/plain": [
              "XGBRegressor(base_score=0.5, booster='gbtree', colsample_bylevel=1,\n",
              "             colsample_bynode=1, colsample_bytree=0.8, eta=0.05, gamma=1,\n",
              "             gpu_id=0, importance_type='gain', learning_rate=0.1,\n",
              "             max_delta_step=0, max_depth=10, min_child_weight=5, missing=None,\n",
              "             n_estimators=1000, n_jobs=1, nthread=None, objective='reg:linear',\n",
              "             random_state=0, reg_alpha=0, reg_lambda=1, scale_pos_weight=1,\n",
              "             seed=42, silent=None, subsample=0.8, tree_method='gpu_hist',\n",
              "             verbosity=1)"
            ]
          },
          "metadata": {
            "tags": []
          },
          "execution_count": 8
        }
      ]
    },
    {
      "cell_type": "code",
      "metadata": {
        "id": "tFQ72oVI43Ld"
      },
      "source": [
        "params = {\n",
        "    'gamma':[0.5, 0.7, 1]\n",
        "}\n",
        "grid_cv = GridSearchCV(XGBRegressor(eta=0.05, n_estimators=150, max_depth=10, min_child_weight=5, gamma=0.4, subsample=0.8, colsample_bytree=0.8, tree_method='gpu_hist', gpu_id=0), \n",
        "                       params, scoring='neg_root_mean_squared_error', cv=5, verbose=1)\n",
        "grid_cv.fit(X_train, y_train)"
      ],
      "execution_count": null,
      "outputs": []
    },
    {
      "cell_type": "code",
      "metadata": {
        "colab": {
          "base_uri": "https://localhost:8080/"
        },
        "id": "RynRxE2BMy-8",
        "outputId": "037ace34-4f9e-4987-a616-403683dcdf3d"
      },
      "source": [
        "grid_cv.best_params_, grid_cv.best_score_"
      ],
      "execution_count": null,
      "outputs": [
        {
          "output_type": "execute_result",
          "data": {
            "text/plain": [
              "({'eta': 0.05, 'max_depth': 10}, -1.6123226881027222)"
            ]
          },
          "metadata": {
            "tags": []
          },
          "execution_count": 9
        }
      ]
    },
    {
      "cell_type": "code",
      "metadata": {
        "colab": {
          "base_uri": "https://localhost:8080/"
        },
        "id": "wkaMsMqA6-15",
        "outputId": "b3fc5efa-9067-4ff2-9962-02254ed7f9c6"
      },
      "source": [
        "grid_cv.best_params_, grid_cv.best_score_"
      ],
      "execution_count": null,
      "outputs": [
        {
          "output_type": "execute_result",
          "data": {
            "text/plain": [
              "({'min_child_weight': 5}, -1.6104209184646607)"
            ]
          },
          "metadata": {
            "tags": []
          },
          "execution_count": 9
        }
      ]
    },
    {
      "cell_type": "code",
      "metadata": {
        "colab": {
          "base_uri": "https://localhost:8080/"
        },
        "id": "366Oe6bLEUAQ",
        "outputId": "b9f25da1-b128-423d-cc2e-46357e63d479"
      },
      "source": [
        "grid_cv.best_params_, grid_cv.best_score_"
      ],
      "execution_count": null,
      "outputs": [
        {
          "output_type": "execute_result",
          "data": {
            "text/plain": [
              "({'gamma': 1}, -1.613189148902893)"
            ]
          },
          "metadata": {
            "tags": []
          },
          "execution_count": 9
        }
      ]
    },
    {
      "cell_type": "code",
      "metadata": {
        "colab": {
          "base_uri": "https://localhost:8080/"
        },
        "id": "jJ4eIzqwFnm5",
        "outputId": "21fec407-ebc3-4393-8e01-018241e0c500"
      },
      "source": [
        "grid_cv.best_params_, grid_cv.best_score_"
      ],
      "execution_count": null,
      "outputs": [
        {
          "output_type": "execute_result",
          "data": {
            "text/plain": [
              "({'colsample_bytree': 0.8, 'subsample': 0.8}, -1.6765363454818725)"
            ]
          },
          "metadata": {
            "tags": []
          },
          "execution_count": 14
        }
      ]
    },
    {
      "cell_type": "code",
      "metadata": {
        "id": "NX0d7pXF2k4-"
      },
      "source": [
        "y_test = model1.predict(X_test).clip(0, 22)\n",
        "\n",
        "submission = pd.DataFrame({\n",
        "    'ID': range(X_test.shape[0]), \n",
        "    'item_cnt_month': y_test\n",
        "})"
      ],
      "execution_count": null,
      "outputs": []
    },
    {
      "cell_type": "code",
      "metadata": {
        "id": "qE68_wIC2x2z"
      },
      "source": [
        "submission.to_csv('xgb_submission.csv', index=False) # best score was 0.93289"
      ],
      "execution_count": null,
      "outputs": []
    },
    {
      "cell_type": "code",
      "metadata": {
        "colab": {
          "base_uri": "https://localhost:8080/",
          "height": 0
        },
        "id": "lwGaZ-wO3E1L",
        "outputId": "9fa06054-bf17-462a-8197-bce7e9a65484"
      },
      "source": [
        "fig, ax = plt.subplots(1, 1, figsize=(10, 14))\n",
        "plot_importance(model1, ax=ax)\n",
        "# should features with remove lag_12"
      ],
      "execution_count": 9,
      "outputs": [
        {
          "output_type": "execute_result",
          "data": {
            "text/plain": [
              "<matplotlib.axes._subplots.AxesSubplot at 0x7f046be29cc0>"
            ]
          },
          "metadata": {
            "tags": []
          },
          "execution_count": 9
        },
        {
          "output_type": "display_data",
          "data": {
            "image/png": "[encoded data removed]",
            "text/plain": [
              "<Figure size 720x1008 with 1 Axes>"
            ]
          },
          "metadata": {
            "tags": [],
            "needs_background": "light"
          }
        }
      ]
    },
    {
      "cell_type": "markdown",
      "metadata": {
        "id": "GkwpTKm8Pv38"
      },
      "source": [
        "## Model 2"
      ]
    },
    {
      "cell_type": "code",
      "metadata": {
        "id": "1HNi0UIXWefq",
        "colab": {
          "base_uri": "https://localhost:8080/"
        },
        "outputId": "5fc020e7-b7f2-43e4-a9e1-415fc3d50b95"
      },
      "source": [
        "model1 = XGBRegressor(max_depth=10,\n",
        "                      eta=0.05,\n",
        "                      n_estimators=1000,\n",
        "                      gamma=0.4,\n",
        "                      min_child_weight=3,\n",
        "                      colsample_bytree=0.7, \n",
        "                      subsample=0.9, \n",
        "                      seed=42,\n",
        "                      tree_method='gpu_hist', gpu_id=0)\n",
        "model1.fit(X_train, \n",
        "    y_train, \n",
        "    eval_metric=\"rmse\", \n",
        "    eval_set=[(X_train, y_train), (X_val, y_val)], \n",
        "    verbose=True,\n",
        "    early_stopping_rounds=50)"
      ],
      "execution_count": 6,
      "outputs": [
        {
          "output_type": "stream",
          "text": [
            "[14:30:57] WARNING: /workspace/src/objective/regression_obj.cu:152: reg:linear is now deprecated in favor of reg:squarederror.\n",
            "[0]\tvalidation_0-rmse:2.55292\tvalidation_1-rmse:2.15043\n",
            "Multiple eval metrics have been passed: 'validation_1-rmse' will be used for early stopping.\n",
            "\n",
            "Will train until validation_1-rmse hasn't improved in 50 rounds.\n",
            "[1]\tvalidation_0-rmse:2.38572\tvalidation_1-rmse:1.99511\n",
            "[2]\tvalidation_0-rmse:2.23924\tvalidation_1-rmse:1.88748\n",
            "[3]\tvalidation_0-rmse:2.11178\tvalidation_1-rmse:1.79215\n",
            "[4]\tvalidation_0-rmse:1.99935\tvalidation_1-rmse:1.72128\n",
            "[5]\tvalidation_0-rmse:1.90069\tvalidation_1-rmse:1.63755\n",
            "[6]\tvalidation_0-rmse:1.81422\tvalidation_1-rmse:1.58053\n",
            "[7]\tvalidation_0-rmse:1.74054\tvalidation_1-rmse:1.52173\n",
            "[8]\tvalidation_0-rmse:1.67204\tvalidation_1-rmse:1.47987\n",
            "[9]\tvalidation_0-rmse:1.61314\tvalidation_1-rmse:1.44756\n",
            "[10]\tvalidation_0-rmse:1.56193\tvalidation_1-rmse:1.41671\n",
            "[11]\tvalidation_0-rmse:1.51904\tvalidation_1-rmse:1.39102\n",
            "[12]\tvalidation_0-rmse:1.47927\tvalidation_1-rmse:1.37588\n",
            "[13]\tvalidation_0-rmse:1.44613\tvalidation_1-rmse:1.36612\n",
            "[14]\tvalidation_0-rmse:1.41673\tvalidation_1-rmse:1.35205\n",
            "[15]\tvalidation_0-rmse:1.39003\tvalidation_1-rmse:1.33864\n",
            "[16]\tvalidation_0-rmse:1.36784\tvalidation_1-rmse:1.33332\n",
            "[17]\tvalidation_0-rmse:1.34815\tvalidation_1-rmse:1.33159\n",
            "[18]\tvalidation_0-rmse:1.32911\tvalidation_1-rmse:1.333\n",
            "[19]\tvalidation_0-rmse:1.31421\tvalidation_1-rmse:1.32678\n",
            "[20]\tvalidation_0-rmse:1.30034\tvalidation_1-rmse:1.33022\n",
            "[21]\tvalidation_0-rmse:1.28765\tvalidation_1-rmse:1.32732\n",
            "[22]\tvalidation_0-rmse:1.27736\tvalidation_1-rmse:1.32515\n",
            "[23]\tvalidation_0-rmse:1.26857\tvalidation_1-rmse:1.32423\n",
            "[24]\tvalidation_0-rmse:1.25852\tvalidation_1-rmse:1.33065\n",
            "[25]\tvalidation_0-rmse:1.24797\tvalidation_1-rmse:1.34232\n",
            "[26]\tvalidation_0-rmse:1.24107\tvalidation_1-rmse:1.34008\n",
            "[27]\tvalidation_0-rmse:1.23447\tvalidation_1-rmse:1.34207\n",
            "[28]\tvalidation_0-rmse:1.22658\tvalidation_1-rmse:1.34049\n",
            "[29]\tvalidation_0-rmse:1.22082\tvalidation_1-rmse:1.34089\n",
            "[30]\tvalidation_0-rmse:1.21497\tvalidation_1-rmse:1.34355\n",
            "[31]\tvalidation_0-rmse:1.21043\tvalidation_1-rmse:1.34585\n",
            "[32]\tvalidation_0-rmse:1.20487\tvalidation_1-rmse:1.34683\n",
            "[33]\tvalidation_0-rmse:1.20216\tvalidation_1-rmse:1.34699\n",
            "[34]\tvalidation_0-rmse:1.19827\tvalidation_1-rmse:1.3487\n",
            "[35]\tvalidation_0-rmse:1.19526\tvalidation_1-rmse:1.35057\n",
            "[36]\tvalidation_0-rmse:1.19183\tvalidation_1-rmse:1.34878\n",
            "[37]\tvalidation_0-rmse:1.18947\tvalidation_1-rmse:1.35086\n",
            "[38]\tvalidation_0-rmse:1.1867\tvalidation_1-rmse:1.35117\n",
            "[39]\tvalidation_0-rmse:1.18413\tvalidation_1-rmse:1.35353\n",
            "[40]\tvalidation_0-rmse:1.18218\tvalidation_1-rmse:1.35398\n",
            "[41]\tvalidation_0-rmse:1.17961\tvalidation_1-rmse:1.35597\n",
            "[42]\tvalidation_0-rmse:1.17772\tvalidation_1-rmse:1.35644\n",
            "[43]\tvalidation_0-rmse:1.1751\tvalidation_1-rmse:1.35683\n",
            "[44]\tvalidation_0-rmse:1.17348\tvalidation_1-rmse:1.35713\n",
            "[45]\tvalidation_0-rmse:1.17126\tvalidation_1-rmse:1.35851\n",
            "[46]\tvalidation_0-rmse:1.16944\tvalidation_1-rmse:1.35814\n",
            "[47]\tvalidation_0-rmse:1.16831\tvalidation_1-rmse:1.35791\n",
            "[48]\tvalidation_0-rmse:1.16701\tvalidation_1-rmse:1.35738\n",
            "[49]\tvalidation_0-rmse:1.16557\tvalidation_1-rmse:1.35764\n",
            "[50]\tvalidation_0-rmse:1.16321\tvalidation_1-rmse:1.35791\n",
            "[51]\tvalidation_0-rmse:1.16182\tvalidation_1-rmse:1.35791\n",
            "[52]\tvalidation_0-rmse:1.16086\tvalidation_1-rmse:1.35829\n",
            "[53]\tvalidation_0-rmse:1.15989\tvalidation_1-rmse:1.35848\n",
            "[54]\tvalidation_0-rmse:1.15818\tvalidation_1-rmse:1.35924\n",
            "[55]\tvalidation_0-rmse:1.15623\tvalidation_1-rmse:1.35924\n",
            "[56]\tvalidation_0-rmse:1.15496\tvalidation_1-rmse:1.35912\n",
            "[57]\tvalidation_0-rmse:1.15331\tvalidation_1-rmse:1.35807\n",
            "[58]\tvalidation_0-rmse:1.15182\tvalidation_1-rmse:1.35783\n",
            "[59]\tvalidation_0-rmse:1.1501\tvalidation_1-rmse:1.35778\n",
            "[60]\tvalidation_0-rmse:1.14908\tvalidation_1-rmse:1.36006\n",
            "[61]\tvalidation_0-rmse:1.14775\tvalidation_1-rmse:1.36008\n",
            "[62]\tvalidation_0-rmse:1.14573\tvalidation_1-rmse:1.36467\n",
            "[63]\tvalidation_0-rmse:1.14468\tvalidation_1-rmse:1.3639\n",
            "[64]\tvalidation_0-rmse:1.14278\tvalidation_1-rmse:1.36346\n",
            "[65]\tvalidation_0-rmse:1.14113\tvalidation_1-rmse:1.3636\n",
            "[66]\tvalidation_0-rmse:1.14044\tvalidation_1-rmse:1.36387\n",
            "[67]\tvalidation_0-rmse:1.13949\tvalidation_1-rmse:1.36487\n",
            "[68]\tvalidation_0-rmse:1.13801\tvalidation_1-rmse:1.36485\n",
            "[69]\tvalidation_0-rmse:1.13716\tvalidation_1-rmse:1.36472\n",
            "[70]\tvalidation_0-rmse:1.13617\tvalidation_1-rmse:1.36473\n",
            "[71]\tvalidation_0-rmse:1.13568\tvalidation_1-rmse:1.36472\n",
            "[72]\tvalidation_0-rmse:1.13463\tvalidation_1-rmse:1.36457\n",
            "[73]\tvalidation_0-rmse:1.13371\tvalidation_1-rmse:1.3653\n",
            "Stopping. Best iteration:\n",
            "[23]\tvalidation_0-rmse:1.26857\tvalidation_1-rmse:1.32423\n",
            "\n"
          ],
          "name": "stdout"
        },
        {
          "output_type": "execute_result",
          "data": {
            "text/plain": [
              "XGBRegressor(base_score=0.5, booster='gbtree', colsample_bylevel=1,\n",
              "             colsample_bynode=1, colsample_bytree=0.7, eta=0.05, gamma=0.4,\n",
              "             gpu_id=0, importance_type='gain', learning_rate=0.1,\n",
              "             max_delta_step=0, max_depth=10, min_child_weight=3, missing=None,\n",
              "             n_estimators=1000, n_jobs=1, nthread=None, objective='reg:linear',\n",
              "             random_state=0, reg_alpha=0, reg_lambda=1, scale_pos_weight=1,\n",
              "             seed=42, silent=None, subsample=0.9, tree_method='gpu_hist',\n",
              "             verbosity=1)"
            ]
          },
          "metadata": {
            "tags": []
          },
          "execution_count": 6
        }
      ]
    },
    {
      "cell_type": "code",
      "metadata": {
        "id": "ZkMLA_8FjF3m",
        "colab": {
          "base_uri": "https://localhost:8080/"
        },
        "outputId": "554c54f1-7f61-4ddc-881b-0e30c50b6e28"
      },
      "source": [
        "params = {\n",
        "    'subsample':[0.8, 0.9],\n",
        "    'colsample_bytree':[0.7, 0.8],\n",
        "    'eta': [0.05, 0.1], 'max_depth': [5, 10],\n",
        "    'gamma': [0.7, 0.4], 'min_child_weight': [3, 5]\n",
        "}\n",
        "grid_cv = GridSearchCV(XGBRegressor(eta=0.05, n_estimators=150, max_depth=10, min_child_weight=3, gamma=0.7, subsample=0.8, colsample_bytree=0.8, tree_method='gpu_hist', gpu_id=0), \n",
        "                       params, scoring='neg_root_mean_squared_error', cv=5, verbose=1)\n",
        "grid_cv.fit(X_train, y_train)"
      ],
      "execution_count": 6,
      "outputs": [
        {
          "output_type": "stream",
          "text": [
            "Fitting 5 folds for each of 64 candidates, totalling 320 fits\n"
          ],
          "name": "stdout"
        },
        {
          "output_type": "stream",
          "text": [
            "[Parallel(n_jobs=1)]: Using backend SequentialBackend with 1 concurrent workers.\n"
          ],
          "name": "stderr"
        },
        {
          "output_type": "stream",
          "text": [
            "[14:35:22] WARNING: /workspace/src/objective/regression_obj.cu:152: reg:linear is now deprecated in favor of reg:squarederror.\n",
            "[14:35:41] WARNING: /workspace/src/objective/regression_obj.cu:152: reg:linear is now deprecated in favor of reg:squarederror.\n",
            "[14:35:59] WARNING: /workspace/src/objective/regression_obj.cu:152: reg:linear is now deprecated in favor of reg:squarederror.\n",
            "[14:36:17] WARNING: /workspace/src/objective/regression_obj.cu:152: reg:linear is now deprecated in favor of reg:squarederror.\n",
            "[14:36:35] WARNING: /workspace/src/objective/regression_obj.cu:152: reg:linear is now deprecated in favor of reg:squarederror.\n",
            "[14:36:55] WARNING: /workspace/src/objective/regression_obj.cu:152: reg:linear is now deprecated in favor of reg:squarederror.\n",
            "[14:37:13] WARNING: /workspace/src/objective/regression_obj.cu:152: reg:linear is now deprecated in favor of reg:squarederror.\n",
            "[14:37:31] WARNING: /workspace/src/objective/regression_obj.cu:152: reg:linear is now deprecated in favor of reg:squarederror.\n",
            "[14:37:50] WARNING: /workspace/src/objective/regression_obj.cu:152: reg:linear is now deprecated in favor of reg:squarederror.\n",
            "[14:38:08] WARNING: /workspace/src/objective/regression_obj.cu:152: reg:linear is now deprecated in favor of reg:squarederror.\n",
            "[14:38:29] WARNING: /workspace/src/objective/regression_obj.cu:152: reg:linear is now deprecated in favor of reg:squarederror.\n",
            "[14:38:47] WARNING: /workspace/src/objective/regression_obj.cu:152: reg:linear is now deprecated in favor of reg:squarederror.\n",
            "[14:39:05] WARNING: /workspace/src/objective/regression_obj.cu:152: reg:linear is now deprecated in favor of reg:squarederror.\n",
            "[14:39:23] WARNING: /workspace/src/objective/regression_obj.cu:152: reg:linear is now deprecated in favor of reg:squarederror.\n",
            "[14:39:42] WARNING: /workspace/src/objective/regression_obj.cu:152: reg:linear is now deprecated in favor of reg:squarederror.\n",
            "[14:40:02] WARNING: /workspace/src/objective/regression_obj.cu:152: reg:linear is now deprecated in favor of reg:squarederror.\n",
            "[14:40:20] WARNING: /workspace/src/objective/regression_obj.cu:152: reg:linear is now deprecated in favor of reg:squarederror.\n",
            "[14:40:38] WARNING: /workspace/src/objective/regression_obj.cu:152: reg:linear is now deprecated in favor of reg:squarederror.\n",
            "[14:40:57] WARNING: /workspace/src/objective/regression_obj.cu:152: reg:linear is now deprecated in favor of reg:squarederror.\n",
            "[14:41:16] WARNING: /workspace/src/objective/regression_obj.cu:152: reg:linear is now deprecated in favor of reg:squarederror.\n",
            "[14:41:36] WARNING: /workspace/src/objective/regression_obj.cu:152: reg:linear is now deprecated in favor of reg:squarederror.\n",
            "[14:42:02] WARNING: /workspace/src/objective/regression_obj.cu:152: reg:linear is now deprecated in favor of reg:squarederror.\n",
            "[14:42:29] WARNING: /workspace/src/objective/regression_obj.cu:152: reg:linear is now deprecated in favor of reg:squarederror.\n",
            "[14:42:55] WARNING: /workspace/src/objective/regression_obj.cu:152: reg:linear is now deprecated in favor of reg:squarederror.\n",
            "[14:43:21] WARNING: /workspace/src/objective/regression_obj.cu:152: reg:linear is now deprecated in favor of reg:squarederror.\n",
            "[14:43:50] WARNING: /workspace/src/objective/regression_obj.cu:152: reg:linear is now deprecated in favor of reg:squarederror.\n",
            "[14:44:16] WARNING: /workspace/src/objective/regression_obj.cu:152: reg:linear is now deprecated in favor of reg:squarederror.\n",
            "[14:44:43] WARNING: /workspace/src/objective/regression_obj.cu:152: reg:linear is now deprecated in favor of reg:squarederror.\n",
            "[14:45:10] WARNING: /workspace/src/objective/regression_obj.cu:152: reg:linear is now deprecated in favor of reg:squarederror.\n",
            "[14:45:37] WARNING: /workspace/src/objective/regression_obj.cu:152: reg:linear is now deprecated in favor of reg:squarederror.\n",
            "[14:46:06] WARNING: /workspace/src/objective/regression_obj.cu:152: reg:linear is now deprecated in favor of reg:squarederror.\n",
            "[14:46:31] WARNING: /workspace/src/objective/regression_obj.cu:152: reg:linear is now deprecated in favor of reg:squarederror.\n",
            "[14:46:56] WARNING: /workspace/src/objective/regression_obj.cu:152: reg:linear is now deprecated in favor of reg:squarederror.\n",
            "[14:47:22] WARNING: /workspace/src/objective/regression_obj.cu:152: reg:linear is now deprecated in favor of reg:squarederror.\n",
            "[14:47:47] WARNING: /workspace/src/objective/regression_obj.cu:152: reg:linear is now deprecated in favor of reg:squarederror.\n",
            "[14:48:15] WARNING: /workspace/src/objective/regression_obj.cu:152: reg:linear is now deprecated in favor of reg:squarederror.\n",
            "[14:48:40] WARNING: /workspace/src/objective/regression_obj.cu:152: reg:linear is now deprecated in favor of reg:squarederror.\n",
            "[14:49:06] WARNING: /workspace/src/objective/regression_obj.cu:152: reg:linear is now deprecated in favor of reg:squarederror.\n",
            "[14:49:32] WARNING: /workspace/src/objective/regression_obj.cu:152: reg:linear is now deprecated in favor of reg:squarederror.\n",
            "[14:49:58] WARNING: /workspace/src/objective/regression_obj.cu:152: reg:linear is now deprecated in favor of reg:squarederror.\n",
            "[14:50:26] WARNING: /workspace/src/objective/regression_obj.cu:152: reg:linear is now deprecated in favor of reg:squarederror.\n",
            "[14:50:45] WARNING: /workspace/src/objective/regression_obj.cu:152: reg:linear is now deprecated in favor of reg:squarederror.\n",
            "[14:51:03] WARNING: /workspace/src/objective/regression_obj.cu:152: reg:linear is now deprecated in favor of reg:squarederror.\n",
            "[14:51:22] WARNING: /workspace/src/objective/regression_obj.cu:152: reg:linear is now deprecated in favor of reg:squarederror.\n",
            "[14:51:40] WARNING: /workspace/src/objective/regression_obj.cu:152: reg:linear is now deprecated in favor of reg:squarederror.\n",
            "[14:52:01] WARNING: /workspace/src/objective/regression_obj.cu:152: reg:linear is now deprecated in favor of reg:squarederror.\n",
            "[14:52:20] WARNING: /workspace/src/objective/regression_obj.cu:152: reg:linear is now deprecated in favor of reg:squarederror.\n",
            "[14:52:38] WARNING: /workspace/src/objective/regression_obj.cu:152: reg:linear is now deprecated in favor of reg:squarederror.\n",
            "[14:52:57] WARNING: /workspace/src/objective/regression_obj.cu:152: reg:linear is now deprecated in favor of reg:squarederror.\n",
            "[14:53:16] WARNING: /workspace/src/objective/regression_obj.cu:152: reg:linear is now deprecated in favor of reg:squarederror.\n",
            "[14:53:36] WARNING: /workspace/src/objective/regression_obj.cu:152: reg:linear is now deprecated in favor of reg:squarederror.\n",
            "[14:53:55] WARNING: /workspace/src/objective/regression_obj.cu:152: reg:linear is now deprecated in favor of reg:squarederror.\n",
            "[14:54:13] WARNING: /workspace/src/objective/regression_obj.cu:152: reg:linear is now deprecated in favor of reg:squarederror.\n",
            "[14:54:31] WARNING: /workspace/src/objective/regression_obj.cu:152: reg:linear is now deprecated in favor of reg:squarederror.\n",
            "[14:54:50] WARNING: /workspace/src/objective/regression_obj.cu:152: reg:linear is now deprecated in favor of reg:squarederror.\n",
            "[14:55:10] WARNING: /workspace/src/objective/regression_obj.cu:152: reg:linear is now deprecated in favor of reg:squarederror.\n",
            "[14:55:29] WARNING: /workspace/src/objective/regression_obj.cu:152: reg:linear is now deprecated in favor of reg:squarederror.\n",
            "[14:55:47] WARNING: /workspace/src/objective/regression_obj.cu:152: reg:linear is now deprecated in favor of reg:squarederror.\n",
            "[14:56:06] WARNING: /workspace/src/objective/regression_obj.cu:152: reg:linear is now deprecated in favor of reg:squarederror.\n",
            "[14:56:25] WARNING: /workspace/src/objective/regression_obj.cu:152: reg:linear is now deprecated in favor of reg:squarederror.\n",
            "[14:56:46] WARNING: /workspace/src/objective/regression_obj.cu:152: reg:linear is now deprecated in favor of reg:squarederror.\n",
            "[14:57:12] WARNING: /workspace/src/objective/regression_obj.cu:152: reg:linear is now deprecated in favor of reg:squarederror.\n",
            "[14:57:38] WARNING: /workspace/src/objective/regression_obj.cu:152: reg:linear is now deprecated in favor of reg:squarederror.\n",
            "[14:58:05] WARNING: /workspace/src/objective/regression_obj.cu:152: reg:linear is now deprecated in favor of reg:squarederror.\n",
            "[14:58:31] WARNING: /workspace/src/objective/regression_obj.cu:152: reg:linear is now deprecated in favor of reg:squarederror.\n",
            "[14:59:00] WARNING: /workspace/src/objective/regression_obj.cu:152: reg:linear is now deprecated in favor of reg:squarederror.\n",
            "[14:59:27] WARNING: /workspace/src/objective/regression_obj.cu:152: reg:linear is now deprecated in favor of reg:squarederror.\n",
            "[14:59:53] WARNING: /workspace/src/objective/regression_obj.cu:152: reg:linear is now deprecated in favor of reg:squarederror.\n",
            "[15:00:21] WARNING: /workspace/src/objective/regression_obj.cu:152: reg:linear is now deprecated in favor of reg:squarederror.\n",
            "[15:00:48] WARNING: /workspace/src/objective/regression_obj.cu:152: reg:linear is now deprecated in favor of reg:squarederror.\n",
            "[15:01:17] WARNING: /workspace/src/objective/regression_obj.cu:152: reg:linear is now deprecated in favor of reg:squarederror.\n",
            "[15:01:42] WARNING: /workspace/src/objective/regression_obj.cu:152: reg:linear is now deprecated in favor of reg:squarederror.\n",
            "[15:02:07] WARNING: /workspace/src/objective/regression_obj.cu:152: reg:linear is now deprecated in favor of reg:squarederror.\n",
            "[15:02:33] WARNING: /workspace/src/objective/regression_obj.cu:152: reg:linear is now deprecated in favor of reg:squarederror.\n",
            "[15:02:58] WARNING: /workspace/src/objective/regression_obj.cu:152: reg:linear is now deprecated in favor of reg:squarederror.\n",
            "[15:03:25] WARNING: /workspace/src/objective/regression_obj.cu:152: reg:linear is now deprecated in favor of reg:squarederror.\n",
            "[15:03:51] WARNING: /workspace/src/objective/regression_obj.cu:152: reg:linear is now deprecated in favor of reg:squarederror.\n",
            "[15:04:17] WARNING: /workspace/src/objective/regression_obj.cu:152: reg:linear is now deprecated in favor of reg:squarederror.\n",
            "[15:04:43] WARNING: /workspace/src/objective/regression_obj.cu:152: reg:linear is now deprecated in favor of reg:squarederror.\n",
            "[15:05:09] WARNING: /workspace/src/objective/regression_obj.cu:152: reg:linear is now deprecated in favor of reg:squarederror.\n",
            "[15:05:37] WARNING: /workspace/src/objective/regression_obj.cu:152: reg:linear is now deprecated in favor of reg:squarederror.\n",
            "[15:05:55] WARNING: /workspace/src/objective/regression_obj.cu:152: reg:linear is now deprecated in favor of reg:squarederror.\n",
            "[15:06:13] WARNING: /workspace/src/objective/regression_obj.cu:152: reg:linear is now deprecated in favor of reg:squarederror.\n",
            "[15:06:32] WARNING: /workspace/src/objective/regression_obj.cu:152: reg:linear is now deprecated in favor of reg:squarederror.\n",
            "[15:06:51] WARNING: /workspace/src/objective/regression_obj.cu:152: reg:linear is now deprecated in favor of reg:squarederror.\n",
            "[15:07:12] WARNING: /workspace/src/objective/regression_obj.cu:152: reg:linear is now deprecated in favor of reg:squarederror.\n",
            "[15:07:30] WARNING: /workspace/src/objective/regression_obj.cu:152: reg:linear is now deprecated in favor of reg:squarederror.\n",
            "[15:07:49] WARNING: /workspace/src/objective/regression_obj.cu:152: reg:linear is now deprecated in favor of reg:squarederror.\n",
            "[15:08:07] WARNING: /workspace/src/objective/regression_obj.cu:152: reg:linear is now deprecated in favor of reg:squarederror.\n",
            "[15:08:26] WARNING: /workspace/src/objective/regression_obj.cu:152: reg:linear is now deprecated in favor of reg:squarederror.\n",
            "[15:08:47] WARNING: /workspace/src/objective/regression_obj.cu:152: reg:linear is now deprecated in favor of reg:squarederror.\n",
            "[15:09:05] WARNING: /workspace/src/objective/regression_obj.cu:152: reg:linear is now deprecated in favor of reg:squarederror.\n",
            "[15:09:24] WARNING: /workspace/src/objective/regression_obj.cu:152: reg:linear is now deprecated in favor of reg:squarederror.\n",
            "[15:09:42] WARNING: /workspace/src/objective/regression_obj.cu:152: reg:linear is now deprecated in favor of reg:squarederror.\n",
            "[15:10:01] WARNING: /workspace/src/objective/regression_obj.cu:152: reg:linear is now deprecated in favor of reg:squarederror.\n",
            "[15:10:22] WARNING: /workspace/src/objective/regression_obj.cu:152: reg:linear is now deprecated in favor of reg:squarederror.\n",
            "[15:10:41] WARNING: /workspace/src/objective/regression_obj.cu:152: reg:linear is now deprecated in favor of reg:squarederror.\n",
            "[15:11:00] WARNING: /workspace/src/objective/regression_obj.cu:152: reg:linear is now deprecated in favor of reg:squarederror.\n",
            "[15:11:19] WARNING: /workspace/src/objective/regression_obj.cu:152: reg:linear is now deprecated in favor of reg:squarederror.\n",
            "[15:11:38] WARNING: /workspace/src/objective/regression_obj.cu:152: reg:linear is now deprecated in favor of reg:squarederror.\n",
            "[15:11:59] WARNING: /workspace/src/objective/regression_obj.cu:152: reg:linear is now deprecated in favor of reg:squarederror.\n",
            "[15:12:26] WARNING: /workspace/src/objective/regression_obj.cu:152: reg:linear is now deprecated in favor of reg:squarederror.\n",
            "[15:12:52] WARNING: /workspace/src/objective/regression_obj.cu:152: reg:linear is now deprecated in favor of reg:squarederror.\n",
            "[15:13:19] WARNING: /workspace/src/objective/regression_obj.cu:152: reg:linear is now deprecated in favor of reg:squarederror.\n",
            "[15:13:46] WARNING: /workspace/src/objective/regression_obj.cu:152: reg:linear is now deprecated in favor of reg:squarederror.\n",
            "[15:14:14] WARNING: /workspace/src/objective/regression_obj.cu:152: reg:linear is now deprecated in favor of reg:squarederror.\n",
            "[15:14:42] WARNING: /workspace/src/objective/regression_obj.cu:152: reg:linear is now deprecated in favor of reg:squarederror.\n",
            "[15:15:09] WARNING: /workspace/src/objective/regression_obj.cu:152: reg:linear is now deprecated in favor of reg:squarederror.\n",
            "[15:15:36] WARNING: /workspace/src/objective/regression_obj.cu:152: reg:linear is now deprecated in favor of reg:squarederror.\n",
            "[15:16:03] WARNING: /workspace/src/objective/regression_obj.cu:152: reg:linear is now deprecated in favor of reg:squarederror.\n",
            "[15:16:33] WARNING: /workspace/src/objective/regression_obj.cu:152: reg:linear is now deprecated in favor of reg:squarederror.\n",
            "[15:16:58] WARNING: /workspace/src/objective/regression_obj.cu:152: reg:linear is now deprecated in favor of reg:squarederror.\n",
            "[15:17:23] WARNING: /workspace/src/objective/regression_obj.cu:152: reg:linear is now deprecated in favor of reg:squarederror.\n",
            "[15:17:49] WARNING: /workspace/src/objective/regression_obj.cu:152: reg:linear is now deprecated in favor of reg:squarederror.\n",
            "[15:18:14] WARNING: /workspace/src/objective/regression_obj.cu:152: reg:linear is now deprecated in favor of reg:squarederror.\n",
            "[15:18:42] WARNING: /workspace/src/objective/regression_obj.cu:152: reg:linear is now deprecated in favor of reg:squarederror.\n",
            "[15:19:08] WARNING: /workspace/src/objective/regression_obj.cu:152: reg:linear is now deprecated in favor of reg:squarederror.\n",
            "[15:19:34] WARNING: /workspace/src/objective/regression_obj.cu:152: reg:linear is now deprecated in favor of reg:squarederror.\n",
            "[15:20:00] WARNING: /workspace/src/objective/regression_obj.cu:152: reg:linear is now deprecated in favor of reg:squarederror.\n",
            "[15:20:26] WARNING: /workspace/src/objective/regression_obj.cu:152: reg:linear is now deprecated in favor of reg:squarederror.\n",
            "[15:20:54] WARNING: /workspace/src/objective/regression_obj.cu:152: reg:linear is now deprecated in favor of reg:squarederror.\n",
            "[15:21:13] WARNING: /workspace/src/objective/regression_obj.cu:152: reg:linear is now deprecated in favor of reg:squarederror.\n",
            "[15:21:31] WARNING: /workspace/src/objective/regression_obj.cu:152: reg:linear is now deprecated in favor of reg:squarederror.\n",
            "[15:21:50] WARNING: /workspace/src/objective/regression_obj.cu:152: reg:linear is now deprecated in favor of reg:squarederror.\n",
            "[15:22:09] WARNING: /workspace/src/objective/regression_obj.cu:152: reg:linear is now deprecated in favor of reg:squarederror.\n",
            "[15:22:30] WARNING: /workspace/src/objective/regression_obj.cu:152: reg:linear is now deprecated in favor of reg:squarederror.\n",
            "[15:22:48] WARNING: /workspace/src/objective/regression_obj.cu:152: reg:linear is now deprecated in favor of reg:squarederror.\n",
            "[15:23:07] WARNING: /workspace/src/objective/regression_obj.cu:152: reg:linear is now deprecated in favor of reg:squarederror.\n",
            "[15:23:26] WARNING: /workspace/src/objective/regression_obj.cu:152: reg:linear is now deprecated in favor of reg:squarederror.\n",
            "[15:23:45] WARNING: /workspace/src/objective/regression_obj.cu:152: reg:linear is now deprecated in favor of reg:squarederror.\n",
            "[15:24:06] WARNING: /workspace/src/objective/regression_obj.cu:152: reg:linear is now deprecated in favor of reg:squarederror.\n",
            "[15:24:25] WARNING: /workspace/src/objective/regression_obj.cu:152: reg:linear is now deprecated in favor of reg:squarederror.\n",
            "[15:24:43] WARNING: /workspace/src/objective/regression_obj.cu:152: reg:linear is now deprecated in favor of reg:squarederror.\n",
            "[15:25:02] WARNING: /workspace/src/objective/regression_obj.cu:152: reg:linear is now deprecated in favor of reg:squarederror.\n",
            "[15:25:21] WARNING: /workspace/src/objective/regression_obj.cu:152: reg:linear is now deprecated in favor of reg:squarederror.\n",
            "[15:25:42] WARNING: /workspace/src/objective/regression_obj.cu:152: reg:linear is now deprecated in favor of reg:squarederror.\n",
            "[15:26:01] WARNING: /workspace/src/objective/regression_obj.cu:152: reg:linear is now deprecated in favor of reg:squarederror.\n",
            "[15:26:19] WARNING: /workspace/src/objective/regression_obj.cu:152: reg:linear is now deprecated in favor of reg:squarederror.\n",
            "[15:26:38] WARNING: /workspace/src/objective/regression_obj.cu:152: reg:linear is now deprecated in favor of reg:squarederror.\n",
            "[15:26:57] WARNING: /workspace/src/objective/regression_obj.cu:152: reg:linear is now deprecated in favor of reg:squarederror.\n",
            "[15:27:18] WARNING: /workspace/src/objective/regression_obj.cu:152: reg:linear is now deprecated in favor of reg:squarederror.\n",
            "[15:27:45] WARNING: /workspace/src/objective/regression_obj.cu:152: reg:linear is now deprecated in favor of reg:squarederror.\n",
            "[15:28:12] WARNING: /workspace/src/objective/regression_obj.cu:152: reg:linear is now deprecated in favor of reg:squarederror.\n",
            "[15:28:39] WARNING: /workspace/src/objective/regression_obj.cu:152: reg:linear is now deprecated in favor of reg:squarederror.\n",
            "[15:29:05] WARNING: /workspace/src/objective/regression_obj.cu:152: reg:linear is now deprecated in favor of reg:squarederror.\n",
            "[15:29:34] WARNING: /workspace/src/objective/regression_obj.cu:152: reg:linear is now deprecated in favor of reg:squarederror.\n",
            "[15:30:01] WARNING: /workspace/src/objective/regression_obj.cu:152: reg:linear is now deprecated in favor of reg:squarederror.\n",
            "[15:30:28] WARNING: /workspace/src/objective/regression_obj.cu:152: reg:linear is now deprecated in favor of reg:squarederror.\n",
            "[15:30:56] WARNING: /workspace/src/objective/regression_obj.cu:152: reg:linear is now deprecated in favor of reg:squarederror.\n",
            "[15:31:23] WARNING: /workspace/src/objective/regression_obj.cu:152: reg:linear is now deprecated in favor of reg:squarederror.\n",
            "[15:31:52] WARNING: /workspace/src/objective/regression_obj.cu:152: reg:linear is now deprecated in favor of reg:squarederror.\n",
            "[15:32:18] WARNING: /workspace/src/objective/regression_obj.cu:152: reg:linear is now deprecated in favor of reg:squarederror.\n",
            "[15:32:43] WARNING: /workspace/src/objective/regression_obj.cu:152: reg:linear is now deprecated in favor of reg:squarederror.\n",
            "[15:33:08] WARNING: /workspace/src/objective/regression_obj.cu:152: reg:linear is now deprecated in favor of reg:squarederror.\n",
            "[15:33:34] WARNING: /workspace/src/objective/regression_obj.cu:152: reg:linear is now deprecated in favor of reg:squarederror.\n",
            "[15:34:02] WARNING: /workspace/src/objective/regression_obj.cu:152: reg:linear is now deprecated in favor of reg:squarederror.\n",
            "[15:34:28] WARNING: /workspace/src/objective/regression_obj.cu:152: reg:linear is now deprecated in favor of reg:squarederror.\n",
            "[15:34:54] WARNING: /workspace/src/objective/regression_obj.cu:152: reg:linear is now deprecated in favor of reg:squarederror.\n",
            "[15:35:20] WARNING: /workspace/src/objective/regression_obj.cu:152: reg:linear is now deprecated in favor of reg:squarederror.\n",
            "[15:35:46] WARNING: /workspace/src/objective/regression_obj.cu:152: reg:linear is now deprecated in favor of reg:squarederror.\n",
            "[15:36:14] WARNING: /workspace/src/objective/regression_obj.cu:152: reg:linear is now deprecated in favor of reg:squarederror.\n",
            "[15:36:33] WARNING: /workspace/src/objective/regression_obj.cu:152: reg:linear is now deprecated in favor of reg:squarederror.\n",
            "[15:36:51] WARNING: /workspace/src/objective/regression_obj.cu:152: reg:linear is now deprecated in favor of reg:squarederror.\n",
            "[15:37:10] WARNING: /workspace/src/objective/regression_obj.cu:152: reg:linear is now deprecated in favor of reg:squarederror.\n",
            "[15:37:29] WARNING: /workspace/src/objective/regression_obj.cu:152: reg:linear is now deprecated in favor of reg:squarederror.\n",
            "[15:37:50] WARNING: /workspace/src/objective/regression_obj.cu:152: reg:linear is now deprecated in favor of reg:squarederror.\n",
            "[15:38:08] WARNING: /workspace/src/objective/regression_obj.cu:152: reg:linear is now deprecated in favor of reg:squarederror.\n",
            "[15:38:27] WARNING: /workspace/src/objective/regression_obj.cu:152: reg:linear is now deprecated in favor of reg:squarederror.\n",
            "[15:38:46] WARNING: /workspace/src/objective/regression_obj.cu:152: reg:linear is now deprecated in favor of reg:squarederror.\n",
            "[15:39:05] WARNING: /workspace/src/objective/regression_obj.cu:152: reg:linear is now deprecated in favor of reg:squarederror.\n",
            "[15:39:26] WARNING: /workspace/src/objective/regression_obj.cu:152: reg:linear is now deprecated in favor of reg:squarederror.\n",
            "[15:39:45] WARNING: /workspace/src/objective/regression_obj.cu:152: reg:linear is now deprecated in favor of reg:squarederror.\n",
            "[15:40:03] WARNING: /workspace/src/objective/regression_obj.cu:152: reg:linear is now deprecated in favor of reg:squarederror.\n",
            "[15:40:22] WARNING: /workspace/src/objective/regression_obj.cu:152: reg:linear is now deprecated in favor of reg:squarederror.\n",
            "[15:40:41] WARNING: /workspace/src/objective/regression_obj.cu:152: reg:linear is now deprecated in favor of reg:squarederror.\n",
            "[15:41:02] WARNING: /workspace/src/objective/regression_obj.cu:152: reg:linear is now deprecated in favor of reg:squarederror.\n",
            "[15:41:20] WARNING: /workspace/src/objective/regression_obj.cu:152: reg:linear is now deprecated in favor of reg:squarederror.\n",
            "[15:41:39] WARNING: /workspace/src/objective/regression_obj.cu:152: reg:linear is now deprecated in favor of reg:squarederror.\n",
            "[15:41:58] WARNING: /workspace/src/objective/regression_obj.cu:152: reg:linear is now deprecated in favor of reg:squarederror.\n",
            "[15:42:17] WARNING: /workspace/src/objective/regression_obj.cu:152: reg:linear is now deprecated in favor of reg:squarederror.\n",
            "[15:42:38] WARNING: /workspace/src/objective/regression_obj.cu:152: reg:linear is now deprecated in favor of reg:squarederror.\n",
            "[15:43:04] WARNING: /workspace/src/objective/regression_obj.cu:152: reg:linear is now deprecated in favor of reg:squarederror.\n",
            "[15:43:31] WARNING: /workspace/src/objective/regression_obj.cu:152: reg:linear is now deprecated in favor of reg:squarederror.\n",
            "[15:43:58] WARNING: /workspace/src/objective/regression_obj.cu:152: reg:linear is now deprecated in favor of reg:squarederror.\n",
            "[15:44:24] WARNING: /workspace/src/objective/regression_obj.cu:152: reg:linear is now deprecated in favor of reg:squarederror.\n",
            "[15:44:53] WARNING: /workspace/src/objective/regression_obj.cu:152: reg:linear is now deprecated in favor of reg:squarederror.\n",
            "[15:45:20] WARNING: /workspace/src/objective/regression_obj.cu:152: reg:linear is now deprecated in favor of reg:squarederror.\n",
            "[15:45:47] WARNING: /workspace/src/objective/regression_obj.cu:152: reg:linear is now deprecated in favor of reg:squarederror.\n",
            "[15:46:15] WARNING: /workspace/src/objective/regression_obj.cu:152: reg:linear is now deprecated in favor of reg:squarederror.\n",
            "[15:46:42] WARNING: /workspace/src/objective/regression_obj.cu:152: reg:linear is now deprecated in favor of reg:squarederror.\n",
            "[15:47:11] WARNING: /workspace/src/objective/regression_obj.cu:152: reg:linear is now deprecated in favor of reg:squarederror.\n",
            "[15:47:36] WARNING: /workspace/src/objective/regression_obj.cu:152: reg:linear is now deprecated in favor of reg:squarederror.\n",
            "[15:48:01] WARNING: /workspace/src/objective/regression_obj.cu:152: reg:linear is now deprecated in favor of reg:squarederror.\n",
            "[15:48:27] WARNING: /workspace/src/objective/regression_obj.cu:152: reg:linear is now deprecated in favor of reg:squarederror.\n",
            "[15:48:52] WARNING: /workspace/src/objective/regression_obj.cu:152: reg:linear is now deprecated in favor of reg:squarederror.\n",
            "[15:49:20] WARNING: /workspace/src/objective/regression_obj.cu:152: reg:linear is now deprecated in favor of reg:squarederror.\n",
            "[15:49:46] WARNING: /workspace/src/objective/regression_obj.cu:152: reg:linear is now deprecated in favor of reg:squarederror.\n",
            "[15:50:11] WARNING: /workspace/src/objective/regression_obj.cu:152: reg:linear is now deprecated in favor of reg:squarederror.\n",
            "[15:50:37] WARNING: /workspace/src/objective/regression_obj.cu:152: reg:linear is now deprecated in favor of reg:squarederror.\n",
            "[15:51:03] WARNING: /workspace/src/objective/regression_obj.cu:152: reg:linear is now deprecated in favor of reg:squarederror.\n",
            "[15:51:32] WARNING: /workspace/src/objective/regression_obj.cu:152: reg:linear is now deprecated in favor of reg:squarederror.\n",
            "[15:51:50] WARNING: /workspace/src/objective/regression_obj.cu:152: reg:linear is now deprecated in favor of reg:squarederror.\n",
            "[15:52:09] WARNING: /workspace/src/objective/regression_obj.cu:152: reg:linear is now deprecated in favor of reg:squarederror.\n",
            "[15:52:28] WARNING: /workspace/src/objective/regression_obj.cu:152: reg:linear is now deprecated in favor of reg:squarederror.\n",
            "[15:52:47] WARNING: /workspace/src/objective/regression_obj.cu:152: reg:linear is now deprecated in favor of reg:squarederror.\n",
            "[15:53:07] WARNING: /workspace/src/objective/regression_obj.cu:152: reg:linear is now deprecated in favor of reg:squarederror.\n",
            "[15:53:26] WARNING: /workspace/src/objective/regression_obj.cu:152: reg:linear is now deprecated in favor of reg:squarederror.\n",
            "[15:53:45] WARNING: /workspace/src/objective/regression_obj.cu:152: reg:linear is now deprecated in favor of reg:squarederror.\n",
            "[15:54:04] WARNING: /workspace/src/objective/regression_obj.cu:152: reg:linear is now deprecated in favor of reg:squarederror.\n",
            "[15:54:23] WARNING: /workspace/src/objective/regression_obj.cu:152: reg:linear is now deprecated in favor of reg:squarederror.\n",
            "[15:54:44] WARNING: /workspace/src/objective/regression_obj.cu:152: reg:linear is now deprecated in favor of reg:squarederror.\n",
            "[15:55:02] WARNING: /workspace/src/objective/regression_obj.cu:152: reg:linear is now deprecated in favor of reg:squarederror.\n",
            "[15:55:21] WARNING: /workspace/src/objective/regression_obj.cu:152: reg:linear is now deprecated in favor of reg:squarederror.\n",
            "[15:55:39] WARNING: /workspace/src/objective/regression_obj.cu:152: reg:linear is now deprecated in favor of reg:squarederror.\n",
            "[15:55:58] WARNING: /workspace/src/objective/regression_obj.cu:152: reg:linear is now deprecated in favor of reg:squarederror.\n",
            "[15:56:19] WARNING: /workspace/src/objective/regression_obj.cu:152: reg:linear is now deprecated in favor of reg:squarederror.\n",
            "[15:56:38] WARNING: /workspace/src/objective/regression_obj.cu:152: reg:linear is now deprecated in favor of reg:squarederror.\n",
            "[15:56:56] WARNING: /workspace/src/objective/regression_obj.cu:152: reg:linear is now deprecated in favor of reg:squarederror.\n",
            "[15:57:15] WARNING: /workspace/src/objective/regression_obj.cu:152: reg:linear is now deprecated in favor of reg:squarederror.\n",
            "[15:57:34] WARNING: /workspace/src/objective/regression_obj.cu:152: reg:linear is now deprecated in favor of reg:squarederror.\n",
            "[15:57:55] WARNING: /workspace/src/objective/regression_obj.cu:152: reg:linear is now deprecated in favor of reg:squarederror.\n",
            "[15:58:22] WARNING: /workspace/src/objective/regression_obj.cu:152: reg:linear is now deprecated in favor of reg:squarederror.\n",
            "[15:58:48] WARNING: /workspace/src/objective/regression_obj.cu:152: reg:linear is now deprecated in favor of reg:squarederror.\n",
            "[15:59:15] WARNING: /workspace/src/objective/regression_obj.cu:152: reg:linear is now deprecated in favor of reg:squarederror.\n",
            "[15:59:42] WARNING: /workspace/src/objective/regression_obj.cu:152: reg:linear is now deprecated in favor of reg:squarederror.\n",
            "[16:00:11] WARNING: /workspace/src/objective/regression_obj.cu:152: reg:linear is now deprecated in favor of reg:squarederror.\n",
            "[16:00:38] WARNING: /workspace/src/objective/regression_obj.cu:152: reg:linear is now deprecated in favor of reg:squarederror.\n",
            "[16:01:05] WARNING: /workspace/src/objective/regression_obj.cu:152: reg:linear is now deprecated in favor of reg:squarederror.\n",
            "[16:01:32] WARNING: /workspace/src/objective/regression_obj.cu:152: reg:linear is now deprecated in favor of reg:squarederror.\n",
            "[16:01:59] WARNING: /workspace/src/objective/regression_obj.cu:152: reg:linear is now deprecated in favor of reg:squarederror.\n",
            "[16:02:29] WARNING: /workspace/src/objective/regression_obj.cu:152: reg:linear is now deprecated in favor of reg:squarederror.\n",
            "[16:02:54] WARNING: /workspace/src/objective/regression_obj.cu:152: reg:linear is now deprecated in favor of reg:squarederror.\n",
            "[16:03:19] WARNING: /workspace/src/objective/regression_obj.cu:152: reg:linear is now deprecated in favor of reg:squarederror.\n",
            "[16:03:44] WARNING: /workspace/src/objective/regression_obj.cu:152: reg:linear is now deprecated in favor of reg:squarederror.\n",
            "[16:04:10] WARNING: /workspace/src/objective/regression_obj.cu:152: reg:linear is now deprecated in favor of reg:squarederror.\n",
            "[16:04:37] WARNING: /workspace/src/objective/regression_obj.cu:152: reg:linear is now deprecated in favor of reg:squarederror.\n",
            "[16:05:03] WARNING: /workspace/src/objective/regression_obj.cu:152: reg:linear is now deprecated in favor of reg:squarederror.\n",
            "[16:05:29] WARNING: /workspace/src/objective/regression_obj.cu:152: reg:linear is now deprecated in favor of reg:squarederror.\n",
            "[16:05:55] WARNING: /workspace/src/objective/regression_obj.cu:152: reg:linear is now deprecated in favor of reg:squarederror.\n",
            "[16:06:21] WARNING: /workspace/src/objective/regression_obj.cu:152: reg:linear is now deprecated in favor of reg:squarederror.\n",
            "[16:06:49] WARNING: /workspace/src/objective/regression_obj.cu:152: reg:linear is now deprecated in favor of reg:squarederror.\n",
            "[16:07:07] WARNING: /workspace/src/objective/regression_obj.cu:152: reg:linear is now deprecated in favor of reg:squarederror.\n",
            "[16:07:26] WARNING: /workspace/src/objective/regression_obj.cu:152: reg:linear is now deprecated in favor of reg:squarederror.\n",
            "[16:07:45] WARNING: /workspace/src/objective/regression_obj.cu:152: reg:linear is now deprecated in favor of reg:squarederror.\n",
            "[16:08:04] WARNING: /workspace/src/objective/regression_obj.cu:152: reg:linear is now deprecated in favor of reg:squarederror.\n",
            "[16:08:25] WARNING: /workspace/src/objective/regression_obj.cu:152: reg:linear is now deprecated in favor of reg:squarederror.\n",
            "[16:08:43] WARNING: /workspace/src/objective/regression_obj.cu:152: reg:linear is now deprecated in favor of reg:squarederror.\n",
            "[16:09:02] WARNING: /workspace/src/objective/regression_obj.cu:152: reg:linear is now deprecated in favor of reg:squarederror.\n",
            "[16:09:21] WARNING: /workspace/src/objective/regression_obj.cu:152: reg:linear is now deprecated in favor of reg:squarederror.\n",
            "[16:09:40] WARNING: /workspace/src/objective/regression_obj.cu:152: reg:linear is now deprecated in favor of reg:squarederror.\n",
            "[16:10:01] WARNING: /workspace/src/objective/regression_obj.cu:152: reg:linear is now deprecated in favor of reg:squarederror.\n",
            "[16:10:19] WARNING: /workspace/src/objective/regression_obj.cu:152: reg:linear is now deprecated in favor of reg:squarederror.\n",
            "[16:10:38] WARNING: /workspace/src/objective/regression_obj.cu:152: reg:linear is now deprecated in favor of reg:squarederror.\n",
            "[16:10:57] WARNING: /workspace/src/objective/regression_obj.cu:152: reg:linear is now deprecated in favor of reg:squarederror.\n",
            "[16:11:15] WARNING: /workspace/src/objective/regression_obj.cu:152: reg:linear is now deprecated in favor of reg:squarederror.\n",
            "[16:11:36] WARNING: /workspace/src/objective/regression_obj.cu:152: reg:linear is now deprecated in favor of reg:squarederror.\n",
            "[16:11:55] WARNING: /workspace/src/objective/regression_obj.cu:152: reg:linear is now deprecated in favor of reg:squarederror.\n",
            "[16:12:14] WARNING: /workspace/src/objective/regression_obj.cu:152: reg:linear is now deprecated in favor of reg:squarederror.\n",
            "[16:12:32] WARNING: /workspace/src/objective/regression_obj.cu:152: reg:linear is now deprecated in favor of reg:squarederror.\n",
            "[16:12:52] WARNING: /workspace/src/objective/regression_obj.cu:152: reg:linear is now deprecated in favor of reg:squarederror.\n",
            "[16:13:13] WARNING: /workspace/src/objective/regression_obj.cu:152: reg:linear is now deprecated in favor of reg:squarederror.\n",
            "[16:13:39] WARNING: /workspace/src/objective/regression_obj.cu:152: reg:linear is now deprecated in favor of reg:squarederror.\n",
            "[16:14:06] WARNING: /workspace/src/objective/regression_obj.cu:152: reg:linear is now deprecated in favor of reg:squarederror.\n",
            "[16:14:32] WARNING: /workspace/src/objective/regression_obj.cu:152: reg:linear is now deprecated in favor of reg:squarederror.\n",
            "[16:14:59] WARNING: /workspace/src/objective/regression_obj.cu:152: reg:linear is now deprecated in favor of reg:squarederror.\n",
            "[16:15:28] WARNING: /workspace/src/objective/regression_obj.cu:152: reg:linear is now deprecated in favor of reg:squarederror.\n",
            "[16:15:55] WARNING: /workspace/src/objective/regression_obj.cu:152: reg:linear is now deprecated in favor of reg:squarederror.\n",
            "[16:16:22] WARNING: /workspace/src/objective/regression_obj.cu:152: reg:linear is now deprecated in favor of reg:squarederror.\n",
            "[16:16:50] WARNING: /workspace/src/objective/regression_obj.cu:152: reg:linear is now deprecated in favor of reg:squarederror.\n",
            "[16:17:17] WARNING: /workspace/src/objective/regression_obj.cu:152: reg:linear is now deprecated in favor of reg:squarederror.\n",
            "[16:17:46] WARNING: /workspace/src/objective/regression_obj.cu:152: reg:linear is now deprecated in favor of reg:squarederror.\n",
            "[16:18:11] WARNING: /workspace/src/objective/regression_obj.cu:152: reg:linear is now deprecated in favor of reg:squarederror.\n",
            "[16:18:36] WARNING: /workspace/src/objective/regression_obj.cu:152: reg:linear is now deprecated in favor of reg:squarederror.\n",
            "[16:19:02] WARNING: /workspace/src/objective/regression_obj.cu:152: reg:linear is now deprecated in favor of reg:squarederror.\n",
            "[16:19:27] WARNING: /workspace/src/objective/regression_obj.cu:152: reg:linear is now deprecated in favor of reg:squarederror.\n",
            "[16:19:55] WARNING: /workspace/src/objective/regression_obj.cu:152: reg:linear is now deprecated in favor of reg:squarederror.\n",
            "[16:20:21] WARNING: /workspace/src/objective/regression_obj.cu:152: reg:linear is now deprecated in favor of reg:squarederror.\n",
            "[16:20:47] WARNING: /workspace/src/objective/regression_obj.cu:152: reg:linear is now deprecated in favor of reg:squarederror.\n",
            "[16:21:13] WARNING: /workspace/src/objective/regression_obj.cu:152: reg:linear is now deprecated in favor of reg:squarederror.\n",
            "[16:21:39] WARNING: /workspace/src/objective/regression_obj.cu:152: reg:linear is now deprecated in favor of reg:squarederror.\n",
            "[16:22:07] WARNING: /workspace/src/objective/regression_obj.cu:152: reg:linear is now deprecated in favor of reg:squarederror.\n",
            "[16:22:25] WARNING: /workspace/src/objective/regression_obj.cu:152: reg:linear is now deprecated in favor of reg:squarederror.\n",
            "[16:22:44] WARNING: /workspace/src/objective/regression_obj.cu:152: reg:linear is now deprecated in favor of reg:squarederror.\n",
            "[16:23:03] WARNING: /workspace/src/objective/regression_obj.cu:152: reg:linear is now deprecated in favor of reg:squarederror.\n",
            "[16:23:22] WARNING: /workspace/src/objective/regression_obj.cu:152: reg:linear is now deprecated in favor of reg:squarederror.\n",
            "[16:23:43] WARNING: /workspace/src/objective/regression_obj.cu:152: reg:linear is now deprecated in favor of reg:squarederror.\n",
            "[16:24:01] WARNING: /workspace/src/objective/regression_obj.cu:152: reg:linear is now deprecated in favor of reg:squarederror.\n",
            "[16:24:20] WARNING: /workspace/src/objective/regression_obj.cu:152: reg:linear is now deprecated in favor of reg:squarederror.\n",
            "[16:24:39] WARNING: /workspace/src/objective/regression_obj.cu:152: reg:linear is now deprecated in favor of reg:squarederror.\n",
            "[16:24:58] WARNING: /workspace/src/objective/regression_obj.cu:152: reg:linear is now deprecated in favor of reg:squarederror.\n",
            "[16:25:19] WARNING: /workspace/src/objective/regression_obj.cu:152: reg:linear is now deprecated in favor of reg:squarederror.\n",
            "[16:25:37] WARNING: /workspace/src/objective/regression_obj.cu:152: reg:linear is now deprecated in favor of reg:squarederror.\n",
            "[16:25:56] WARNING: /workspace/src/objective/regression_obj.cu:152: reg:linear is now deprecated in favor of reg:squarederror.\n",
            "[16:26:15] WARNING: /workspace/src/objective/regression_obj.cu:152: reg:linear is now deprecated in favor of reg:squarederror.\n",
            "[16:26:34] WARNING: /workspace/src/objective/regression_obj.cu:152: reg:linear is now deprecated in favor of reg:squarederror.\n",
            "[16:26:54] WARNING: /workspace/src/objective/regression_obj.cu:152: reg:linear is now deprecated in favor of reg:squarederror.\n",
            "[16:27:13] WARNING: /workspace/src/objective/regression_obj.cu:152: reg:linear is now deprecated in favor of reg:squarederror.\n",
            "[16:27:32] WARNING: /workspace/src/objective/regression_obj.cu:152: reg:linear is now deprecated in favor of reg:squarederror.\n",
            "[16:27:51] WARNING: /workspace/src/objective/regression_obj.cu:152: reg:linear is now deprecated in favor of reg:squarederror.\n",
            "[16:28:10] WARNING: /workspace/src/objective/regression_obj.cu:152: reg:linear is now deprecated in favor of reg:squarederror.\n",
            "[16:28:31] WARNING: /workspace/src/objective/regression_obj.cu:152: reg:linear is now deprecated in favor of reg:squarederror.\n",
            "[16:28:57] WARNING: /workspace/src/objective/regression_obj.cu:152: reg:linear is now deprecated in favor of reg:squarederror.\n",
            "[16:29:24] WARNING: /workspace/src/objective/regression_obj.cu:152: reg:linear is now deprecated in favor of reg:squarederror.\n",
            "[16:29:50] WARNING: /workspace/src/objective/regression_obj.cu:152: reg:linear is now deprecated in favor of reg:squarederror.\n",
            "[16:30:17] WARNING: /workspace/src/objective/regression_obj.cu:152: reg:linear is now deprecated in favor of reg:squarederror.\n",
            "[16:30:46] WARNING: /workspace/src/objective/regression_obj.cu:152: reg:linear is now deprecated in favor of reg:squarederror.\n",
            "[16:31:13] WARNING: /workspace/src/objective/regression_obj.cu:152: reg:linear is now deprecated in favor of reg:squarederror.\n",
            "[16:31:40] WARNING: /workspace/src/objective/regression_obj.cu:152: reg:linear is now deprecated in favor of reg:squarederror.\n",
            "[16:32:07] WARNING: /workspace/src/objective/regression_obj.cu:152: reg:linear is now deprecated in favor of reg:squarederror.\n",
            "[16:32:34] WARNING: /workspace/src/objective/regression_obj.cu:152: reg:linear is now deprecated in favor of reg:squarederror.\n",
            "[16:33:03] WARNING: /workspace/src/objective/regression_obj.cu:152: reg:linear is now deprecated in favor of reg:squarederror.\n",
            "[16:33:29] WARNING: /workspace/src/objective/regression_obj.cu:152: reg:linear is now deprecated in favor of reg:squarederror.\n",
            "[16:33:54] WARNING: /workspace/src/objective/regression_obj.cu:152: reg:linear is now deprecated in favor of reg:squarederror.\n",
            "[16:34:19] WARNING: /workspace/src/objective/regression_obj.cu:152: reg:linear is now deprecated in favor of reg:squarederror.\n",
            "[16:34:45] WARNING: /workspace/src/objective/regression_obj.cu:152: reg:linear is now deprecated in favor of reg:squarederror.\n",
            "[16:35:12] WARNING: /workspace/src/objective/regression_obj.cu:152: reg:linear is now deprecated in favor of reg:squarederror.\n",
            "[16:35:38] WARNING: /workspace/src/objective/regression_obj.cu:152: reg:linear is now deprecated in favor of reg:squarederror.\n",
            "[16:36:04] WARNING: /workspace/src/objective/regression_obj.cu:152: reg:linear is now deprecated in favor of reg:squarederror.\n",
            "[16:36:30] WARNING: /workspace/src/objective/regression_obj.cu:152: reg:linear is now deprecated in favor of reg:squarederror.\n",
            "[16:36:56] WARNING: /workspace/src/objective/regression_obj.cu:152: reg:linear is now deprecated in favor of reg:squarederror.\n"
          ],
          "name": "stdout"
        },
        {
          "output_type": "stream",
          "text": [
            "[Parallel(n_jobs=1)]: Done 320 out of 320 | elapsed: 122.0min finished\n"
          ],
          "name": "stderr"
        },
        {
          "output_type": "stream",
          "text": [
            "[16:37:26] WARNING: /workspace/src/objective/regression_obj.cu:152: reg:linear is now deprecated in favor of reg:squarederror.\n"
          ],
          "name": "stdout"
        },
        {
          "output_type": "execute_result",
          "data": {
            "text/plain": [
              "GridSearchCV(cv=5, error_score=nan,\n",
              "             estimator=XGBRegressor(base_score=0.5, booster='gbtree',\n",
              "                                    colsample_bylevel=1, colsample_bynode=1,\n",
              "                                    colsample_bytree=0.8, eta=0.05, gamma=0.7,\n",
              "                                    gpu_id=0, importance_type='gain',\n",
              "                                    learning_rate=0.1, max_delta_step=0,\n",
              "                                    max_depth=10, min_child_weight=3,\n",
              "                                    missing=None, n_estimators=150, n_jobs=1,\n",
              "                                    nthread=None, objective='reg:linear',\n",
              "                                    random_s...\n",
              "                                    scale_pos_weight=1, seed=None, silent=None,\n",
              "                                    subsample=0.8, tree_method='gpu_hist',\n",
              "                                    verbosity=1),\n",
              "             iid='deprecated', n_jobs=None,\n",
              "             param_grid={'colsample_bytree': [0.7, 0.8], 'eta': [0.05, 0.1],\n",
              "                         'gamma': [0.7, 0.4], 'max_depth': [5, 10],\n",
              "                         'min_child_weight': [3, 5], 'subsample': [0.8, 0.9]},\n",
              "             pre_dispatch='2*n_jobs', refit=True, return_train_score=False,\n",
              "             scoring='neg_root_mean_squared_error', verbose=1)"
            ]
          },
          "metadata": {
            "tags": []
          },
          "execution_count": 6
        }
      ]
    },
    {
      "cell_type": "code",
      "metadata": {
        "colab": {
          "base_uri": "https://localhost:8080/"
        },
        "id": "vK1b1MFhjwAw",
        "outputId": "4c43c915-15b4-4944-8db8-5ac8250a09d1"
      },
      "source": [
        "grid_cv.best_params_, grid_cv.best_score_"
      ],
      "execution_count": null,
      "outputs": [
        {
          "output_type": "execute_result",
          "data": {
            "text/plain": [
              "({'eta': 0.05, 'max_depth': 10}, -1.5900901556015015)"
            ]
          },
          "metadata": {
            "tags": []
          },
          "execution_count": 7
        }
      ]
    },
    {
      "cell_type": "code",
      "metadata": {
        "colab": {
          "base_uri": "https://localhost:8080/"
        },
        "id": "sbStqkpFyKpq",
        "outputId": "8efb185c-8510-4513-fb3c-73fc185761c6"
      },
      "source": [
        "grid_cv.best_params_, grid_cv.best_score_"
      ],
      "execution_count": null,
      "outputs": [
        {
          "output_type": "execute_result",
          "data": {
            "text/plain": [
              "({'gamma': 0.7, 'min_child_weight': 3}, -1.5730415821075439)"
            ]
          },
          "metadata": {
            "tags": []
          },
          "execution_count": 9
        }
      ]
    },
    {
      "cell_type": "code",
      "metadata": {
        "colab": {
          "base_uri": "https://localhost:8080/"
        },
        "id": "cqH77KNdyL3p",
        "outputId": "9746ef0b-408d-4b49-e770-b6ca5056d5b1"
      },
      "source": [
        "grid_cv.best_params_, grid_cv.best_score_"
      ],
      "execution_count": null,
      "outputs": [
        {
          "output_type": "execute_result",
          "data": {
            "text/plain": [
              "({'colsample_bytree': 0.7, 'subsample': 0.9}, -1.5559704542160033)"
            ]
          },
          "metadata": {
            "tags": []
          },
          "execution_count": 7
        }
      ]
    },
    {
      "cell_type": "code",
      "metadata": {
        "id": "uUS2BcHo3qGU"
      },
      "source": [
        "y_test = model1.predict(X_test).clip(0, 20)\n",
        "\n",
        "submission = pd.DataFrame({\n",
        "    'ID': range(X_test.shape[0]), \n",
        "    'item_cnt_month': y_test\n",
        "})\n",
        "submission.to_csv('xgb_submission3.csv', index=False) # score 0.92437"
      ],
      "execution_count": 7,
      "outputs": []
    }
  ]
}